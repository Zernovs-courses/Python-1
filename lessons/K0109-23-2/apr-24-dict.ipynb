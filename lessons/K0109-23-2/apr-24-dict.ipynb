{
 "cells": [
  {
   "cell_type": "markdown",
   "metadata": {},
   "source": [
    "# Словари (dict)"
   ]
  },
  {
   "cell_type": "markdown",
   "metadata": {},
   "source": [
    "Структура данных, позволяющая идентифицировать ее элементы не по числовому индексу, а по произвольному, называется **словарем** или **ассоциативным массивом**"
   ]
  },
  {
   "cell_type": "code",
   "execution_count": 2,
   "metadata": {},
   "outputs": [
    {
     "data": {
      "text/plain": [
       "'Moscow'"
      ]
     },
     "execution_count": 2,
     "metadata": {},
     "output_type": "execute_result"
    }
   ],
   "source": [
    "capitals = dict()\n",
    "\n",
    "capitals[\"Russia\"] = \"Moscow\"\n",
    "capitals[\"USA\"] = \"Washington\"\n",
    "capitals[\"China\"] = \"Beijing\"\n",
    "\n",
    "capitals[\"Russia\"]"
   ]
  },
  {
   "cell_type": "code",
   "execution_count": 4,
   "metadata": {},
   "outputs": [
    {
     "data": {
      "text/plain": [
       "'Moscow'"
      ]
     },
     "execution_count": 4,
     "metadata": {},
     "output_type": "execute_result"
    }
   ],
   "source": [
    "capitals = {\"Russia\": \"Moscow\",\n",
    "            \"USA\": \"Washington\",\n",
    "            \"China\": \"Beijing\",\n",
    "            \"key\": \"value\"\n",
    "            }\n",
    "\n",
    "capitals[\"Russia\"] "
   ]
  },
  {
   "cell_type": "code",
   "execution_count": 5,
   "metadata": {},
   "outputs": [
    {
     "data": {
      "text/plain": [
       "{'Russia': 'Moscow',\n",
       " 'USA': 'Washington',\n",
       " 'China': 'Beijing',\n",
       " 'key': 'value',\n",
       " 'London': 'UK'}"
      ]
     },
     "execution_count": 5,
     "metadata": {},
     "output_type": "execute_result"
    }
   ],
   "source": [
    "capitals[input()] = input()\n",
    "capitals"
   ]
  },
  {
   "cell_type": "code",
   "execution_count": 6,
   "metadata": {},
   "outputs": [
    {
     "data": {
      "text/plain": [
       "{'Russia': 'Moscow', 'UK': 'London'}"
      ]
     },
     "execution_count": 6,
     "metadata": {},
     "output_type": "execute_result"
    }
   ],
   "source": [
    "dict(Russia=\"Moscow\", UK=\"London\")"
   ]
  },
  {
   "cell_type": "code",
   "execution_count": 7,
   "metadata": {},
   "outputs": [
    {
     "data": {
      "text/plain": [
       "{'Russia': 'Moscow', 'UK': 'London'}"
      ]
     },
     "execution_count": 7,
     "metadata": {},
     "output_type": "execute_result"
    }
   ],
   "source": [
    "dict([(\"Russia\", \"Moscow\"), (\"UK\", \"London\")])"
   ]
  },
  {
   "cell_type": "code",
   "execution_count": 10,
   "metadata": {},
   "outputs": [
    {
     "data": {
      "text/plain": [
       "[('Russia', 'Moscow'), ('UK', 'London')]"
      ]
     },
     "execution_count": 10,
     "metadata": {},
     "output_type": "execute_result"
    }
   ],
   "source": [
    "list(zip([\"Russia\", \"UK\"], [\"Moscow\", \"London\"]))"
   ]
  },
  {
   "cell_type": "code",
   "execution_count": 8,
   "metadata": {},
   "outputs": [
    {
     "data": {
      "text/plain": [
       "{'Russia': 'Moscow', 'UK': 'London'}"
      ]
     },
     "execution_count": 8,
     "metadata": {},
     "output_type": "execute_result"
    }
   ],
   "source": [
    "dict(zip([\"Russia\", \"UK\"], [\"Moscow\", \"London\"]))"
   ]
  },
  {
   "cell_type": "markdown",
   "metadata": {},
   "source": [
    "## Работа с элементами словаря"
   ]
  },
  {
   "cell_type": "code",
   "execution_count": 12,
   "metadata": {},
   "outputs": [
    {
     "ename": "KeyError",
     "evalue": "'UK'",
     "output_type": "error",
     "traceback": [
      "\u001b[0;31m---------------------------------------------------------------------------\u001b[0m",
      "\u001b[0;31mKeyError\u001b[0m                                  Traceback (most recent call last)",
      "Cell \u001b[0;32mIn[12], line 6\u001b[0m\n\u001b[1;32m      1\u001b[0m capitals \u001b[38;5;241m=\u001b[39m {\u001b[38;5;124m\"\u001b[39m\u001b[38;5;124mRussia\u001b[39m\u001b[38;5;124m\"\u001b[39m: \u001b[38;5;124m\"\u001b[39m\u001b[38;5;124mMoscow\u001b[39m\u001b[38;5;124m\"\u001b[39m,\n\u001b[1;32m      2\u001b[0m             \u001b[38;5;124m\"\u001b[39m\u001b[38;5;124mUSA\u001b[39m\u001b[38;5;124m\"\u001b[39m: \u001b[38;5;124m\"\u001b[39m\u001b[38;5;124mWashington\u001b[39m\u001b[38;5;124m\"\u001b[39m,\n\u001b[1;32m      3\u001b[0m             \u001b[38;5;124m\"\u001b[39m\u001b[38;5;124mChina\u001b[39m\u001b[38;5;124m\"\u001b[39m: \u001b[38;5;124m\"\u001b[39m\u001b[38;5;124mBeijing\u001b[39m\u001b[38;5;124m\"\u001b[39m\n\u001b[1;32m      4\u001b[0m             }\n\u001b[0;32m----> 6\u001b[0m \u001b[43mcapitals\u001b[49m\u001b[43m[\u001b[49m\u001b[38;5;124;43m\"\u001b[39;49m\u001b[38;5;124;43mUK\u001b[39;49m\u001b[38;5;124;43m\"\u001b[39;49m\u001b[43m]\u001b[49m\n",
      "\u001b[0;31mKeyError\u001b[0m: 'UK'"
     ]
    }
   ],
   "source": [
    "capitals = {\"Russia\": \"Moscow\",\n",
    "            \"USA\": \"Washington\",\n",
    "            \"China\": \"Beijing\"\n",
    "            }\n",
    "\n",
    "capitals[\"UK\"]"
   ]
  },
  {
   "cell_type": "code",
   "execution_count": 13,
   "metadata": {},
   "outputs": [
    {
     "data": {
      "text/plain": [
       "'Washington'"
      ]
     },
     "execution_count": 13,
     "metadata": {},
     "output_type": "execute_result"
    }
   ],
   "source": [
    "capitals = {\"Russia\": \"Moscow\",\n",
    "            \"USA\": \"Washington\",\n",
    "            \"China\": \"Beijing\"\n",
    "            }\n",
    "\n",
    "capitals.get(\"USA\")"
   ]
  },
  {
   "cell_type": "code",
   "execution_count": 14,
   "metadata": {},
   "outputs": [
    {
     "data": {
      "text/plain": [
       "'No such country'"
      ]
     },
     "execution_count": 14,
     "metadata": {},
     "output_type": "execute_result"
    }
   ],
   "source": [
    "capitals = {\"Russia\": \"Moscow\",\n",
    "            \"USA\": \"Washington\",\n",
    "            \"China\": \"Beijing\"\n",
    "            }\n",
    "\n",
    "capitals.get(\"UK\", \"No such country\")"
   ]
  },
  {
   "cell_type": "code",
   "execution_count": 15,
   "metadata": {},
   "outputs": [],
   "source": [
    "capitals = {\"Russia\": \"Moscow\",\n",
    "            \"USA\": \"Washington\",\n",
    "            \"China\": \"Beijing\"\n",
    "            }\n",
    "\n",
    "capitals.get(\"UK\")"
   ]
  },
  {
   "cell_type": "markdown",
   "metadata": {},
   "source": [
    "### Задача частотного анализа"
   ]
  },
  {
   "cell_type": "code",
   "execution_count": 21,
   "metadata": {},
   "outputs": [
    {
     "name": "stdout",
     "output_type": "stream",
     "text": [
      "{'f': 13, 'k': 15, 'b': 6, 'h': 6, 'd': 14, 'a': 11, 'j': 13, 'l': 13, 's': 7, ' ': 4, 'g': 3, ';': 2, 'm': 2, 'i': 1, 'c': 2, 'v': 2, 'p': 1, '/': 1}\n"
     ]
    },
    {
     "data": {
      "text/plain": [
       "('k', 15)"
      ]
     },
     "execution_count": 21,
     "metadata": {},
     "output_type": "execute_result"
    }
   ],
   "source": [
    "s = \"fkbhdahjlfbaflkljdas j f hdgkgjkl;damichfbvghjjksjdsap;dlajdfkdal kcfhldlkasdfkbjjlkaljldkfbjfjkldas/skfbkfsdaldkfmv\"\n",
    "\n",
    "d = dict()\n",
    "for i in s:\n",
    "    d[i] = d.get(i, 0) + 1\n",
    "\n",
    "print(d)\n",
    "\n",
    "max(d.items(), key=lambda x: x[1])"
   ]
  },
  {
   "cell_type": "code",
   "execution_count": 24,
   "metadata": {},
   "outputs": [
    {
     "data": {
      "text/plain": [
       "(True, True)"
      ]
     },
     "execution_count": 24,
     "metadata": {},
     "output_type": "execute_result"
    }
   ],
   "source": [
    "capitals = {\"Russia\": \"Moscow\",\n",
    "            \"USA\": \"Washington\",\n",
    "            \"China\": \"Beijing\"\n",
    "            }\n",
    "\n",
    "\"Russia\" in capitals, \"UK\" not in capitals # вхождение по ключам"
   ]
  },
  {
   "cell_type": "code",
   "execution_count": 27,
   "metadata": {},
   "outputs": [
    {
     "data": {
      "text/plain": [
       "{'Russia': 'Moscow', 'China': 'Beijing'}"
      ]
     },
     "execution_count": 27,
     "metadata": {},
     "output_type": "execute_result"
    }
   ],
   "source": [
    "capitals = {\"Russia\": \"Moscow\",\n",
    "            \"USA\": \"Washington\",\n",
    "            \"China\": \"Beijing\"\n",
    "            }\n",
    "\n",
    "del capitals[\"USA\"]\n",
    "capitals"
   ]
  },
  {
   "cell_type": "code",
   "execution_count": 32,
   "metadata": {},
   "outputs": [
    {
     "name": "stdout",
     "output_type": "stream",
     "text": [
      "Washington\n"
     ]
    },
    {
     "data": {
      "text/plain": [
       "'No such country'"
      ]
     },
     "execution_count": 32,
     "metadata": {},
     "output_type": "execute_result"
    }
   ],
   "source": [
    "capitals = {\"Russia\": \"Moscow\",\n",
    "            \"USA\": \"Washington\",\n",
    "            \"China\": \"Beijing\"\n",
    "            }\n",
    "\n",
    "country = capitals.pop(\"USA\")\n",
    "print(country)\n",
    "capitals.pop(\"UK\", \"No such country\")"
   ]
  },
  {
   "cell_type": "code",
   "execution_count": 34,
   "metadata": {},
   "outputs": [
    {
     "name": "stdout",
     "output_type": "stream",
     "text": [
      "Russia\tMoscow\n",
      "USA\tWashington\n",
      "China\tBeijing\n"
     ]
    }
   ],
   "source": [
    "capitals = {\"Russia\": \"Moscow\",\n",
    "            \"USA\": \"Washington\",\n",
    "            \"China\": \"Beijing\"\n",
    "            }\n",
    "\n",
    "for key in capitals:\n",
    "    print(key, capitals[key], sep=\"\\t\")"
   ]
  },
  {
   "cell_type": "code",
   "execution_count": 35,
   "metadata": {},
   "outputs": [
    {
     "name": "stdout",
     "output_type": "stream",
     "text": [
      "Russia\tMoscow\n",
      "USA\tWashington\n",
      "China\tBeijing\n"
     ]
    }
   ],
   "source": [
    "capitals = {\"Russia\": \"Moscow\",\n",
    "            \"USA\": \"Washington\",\n",
    "            \"China\": \"Beijing\"\n",
    "            }\n",
    "\n",
    "for key in capitals.keys():\n",
    "    print(key, capitals[key], sep=\"\\t\")"
   ]
  },
  {
   "cell_type": "code",
   "execution_count": 39,
   "metadata": {},
   "outputs": [
    {
     "data": {
      "text/plain": [
       "['Russia', 'USA', 'China']"
      ]
     },
     "execution_count": 39,
     "metadata": {},
     "output_type": "execute_result"
    }
   ],
   "source": [
    "capitals = {\"Russia\": \"Moscow\",\n",
    "            \"USA\": \"Washington\",\n",
    "            \"China\": \"Beijing\"\n",
    "            }\n",
    "\n",
    "list(capitals.keys())"
   ]
  },
  {
   "cell_type": "code",
   "execution_count": 40,
   "metadata": {},
   "outputs": [
    {
     "data": {
      "text/plain": [
       "['Moscow', 'Washington', 'Beijing']"
      ]
     },
     "execution_count": 40,
     "metadata": {},
     "output_type": "execute_result"
    }
   ],
   "source": [
    "capitals = {\"Russia\": \"Moscow\",\n",
    "            \"USA\": \"Washington\",\n",
    "            \"China\": \"Beijing\"\n",
    "            }\n",
    "\n",
    "list(capitals.values())"
   ]
  },
  {
   "cell_type": "code",
   "execution_count": 41,
   "metadata": {},
   "outputs": [
    {
     "name": "stdout",
     "output_type": "stream",
     "text": [
      "Moscow\n",
      "Washington\n",
      "Beijing\n"
     ]
    }
   ],
   "source": [
    "capitals = {\"Russia\": \"Moscow\",\n",
    "            \"USA\": \"Washington\",\n",
    "            \"China\": \"Beijing\"\n",
    "            }\n",
    "\n",
    "for val in capitals.values():\n",
    "    print(val, sep=\"\\t\")"
   ]
  },
  {
   "cell_type": "code",
   "execution_count": 42,
   "metadata": {},
   "outputs": [
    {
     "data": {
      "text/plain": [
       "[('Russia', 'Moscow'), ('USA', 'Washington'), ('China', 'Beijing')]"
      ]
     },
     "execution_count": 42,
     "metadata": {},
     "output_type": "execute_result"
    }
   ],
   "source": [
    "capitals = {\"Russia\": \"Moscow\",\n",
    "            \"USA\": \"Washington\",\n",
    "            \"China\": \"Beijing\"\n",
    "            }\n",
    "\n",
    "list(capitals.items())"
   ]
  },
  {
   "cell_type": "code",
   "execution_count": 43,
   "metadata": {},
   "outputs": [
    {
     "name": "stdout",
     "output_type": "stream",
     "text": [
      "Russia\tMoscow\n",
      "USA\tWashington\n",
      "China\tBeijing\n"
     ]
    }
   ],
   "source": [
    "capitals = {\"Russia\": \"Moscow\",\n",
    "            \"USA\": \"Washington\",\n",
    "            \"China\": \"Beijing\"\n",
    "            }\n",
    "\n",
    "for key, val in capitals.items():\n",
    "    print(key, val, sep=\"\\t\")"
   ]
  },
  {
   "cell_type": "code",
   "execution_count": 45,
   "metadata": {},
   "outputs": [
    {
     "data": {
      "text/plain": [
       "True"
      ]
     },
     "execution_count": 45,
     "metadata": {},
     "output_type": "execute_result"
    }
   ],
   "source": [
    "capitals = {\"Russia\": \"Moscow\",\n",
    "            \"USA\": \"Washington\",\n",
    "            \"China\": \"Beijing\"\n",
    "            }\n",
    "\n",
    "\"Moscow\" in capitals.values()"
   ]
  },
  {
   "cell_type": "markdown",
   "metadata": {},
   "source": [
    "## Задачи"
   ]
  },
  {
   "cell_type": "markdown",
   "metadata": {},
   "source": [
    "Имеется ряд словарей с пересекающимися ключами (значения - положительные числа). Напишите 2 функции, которые делают с массивом словарей следующие операции:\n",
    "1-ая функция max_dct(*dicts) формирует новый словарь по правилу:\n",
    "\n",
    "Если в исходных словарях есть повторяющиеся ключи, выбираем среди их значений максимальное и присваиваем этому ключу (например, в словаре_1 есть ключ “а” со значением 5, и в словаре_2 есть ключ “а”, но со значением 9. Выбираем максимальное значение, т. е. 9, и присваиваем ключу “а” в уже новом словаре).  \n",
    "\n",
    "Если ключ не повторяется, то он просто переносится со своим значением в новый словарь (например, ключ “с” встретился только у одного словаря, а у других его нет. Следовательно, переносим в новый словарь этот ключ вместе с его значением). Сформированный словарь возвращаем.\n",
    "\n",
    "2-ая функция sum_dct(*dicts) суммирует значения повторяющихся ключей. Значения остальных ключей остаются исходными. (Проводятся операции по аналогу первой функции, но берутся не максимумы, а суммы значений одноименных ключей). Функция возвращает сформированный словарь."
   ]
  },
  {
   "cell_type": "code",
   "execution_count": 58,
   "metadata": {},
   "outputs": [
    {
     "name": "stdout",
     "output_type": "stream",
     "text": [
      "{1, 2, 3, 4, 5, 6, 7, 8, 9, 10}\n"
     ]
    },
    {
     "data": {
      "text/plain": [
       "{1: 12, 2: 33, 3: 10, 4: 60, 5: 31, 6: 90, 7: 112, 8: 71, 9: 9, 10: 556}"
      ]
     },
     "execution_count": 58,
     "metadata": {},
     "output_type": "execute_result"
    }
   ],
   "source": [
    "def sum_dct(*dicts):\n",
    "    keys = set()\n",
    "    for d in dicts:\n",
    "        keys |= set(d.keys())\n",
    "    print(keys)\n",
    "\n",
    "    result = dict()\n",
    "    for k in keys:\n",
    "        result[k] = sum(d.get(k, 0) for d in dicts)\n",
    "        \n",
    "    return result\n",
    "\n",
    "def max_dct(*dicts):\n",
    "    keys = set()\n",
    "    for d in dicts:\n",
    "        keys |= set(d.keys())\n",
    "    print(keys)\n",
    "\n",
    "    result = dict()\n",
    "    for k in keys:\n",
    "        result[k] = max(d.get(k, -1) for d in dicts)\n",
    "\n",
    "    return result\n",
    "    \n",
    "\n",
    "\n",
    "dict_1 = {1: 12, 2: 33, 3: 10, 4: 10, 5: 2, 6: 90}\n",
    "dict_2 = {1: 12, 3: 7, 4: 1, 5: 2, 7: 112}\n",
    "dict_3 = {2: 3, 3: 3, 4: 60, 6: 8, 7: 25, 8: 71}\n",
    "dict_4 = {3: 1, 4: 13, 5: 31, 9: 9, 10: 556}\n",
    "\n",
    "max_dct(dict_1, dict_2, dict_3, dict_4)"
   ]
  }
 ],
 "metadata": {
  "kernelspec": {
   "display_name": "Python 3",
   "language": "python",
   "name": "python3"
  },
  "language_info": {
   "codemirror_mode": {
    "name": "ipython",
    "version": 3
   },
   "file_extension": ".py",
   "mimetype": "text/x-python",
   "name": "python",
   "nbconvert_exporter": "python",
   "pygments_lexer": "ipython3",
   "version": "3.11.6"
  }
 },
 "nbformat": 4,
 "nbformat_minor": 2
}
