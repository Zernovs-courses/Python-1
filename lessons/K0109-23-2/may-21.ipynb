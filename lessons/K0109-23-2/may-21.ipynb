{
 "cells": [
  {
   "cell_type": "code",
   "execution_count": 1,
   "metadata": {},
   "outputs": [
    {
     "name": "stdout",
     "output_type": "stream",
     "text": [
      "6\n"
     ]
    }
   ],
   "source": [
    "n = 0\n",
    "p = 8\n",
    "while p < 512:\n",
    "    p = p * 2\n",
    "    n = n + 1\n",
    "print(n) "
   ]
  },
  {
   "cell_type": "markdown",
   "metadata": {},
   "source": [
    "0. n = 0, p = 8\n",
    "1. n = 1, p = 16\n",
    "2. n = 2, p = 32\n",
    "3. n = 3, p = 64\n",
    "4. n = 4, p = 128\n",
    "5. n = 5, p = 256\n",
    "6. n = 6, p = 512"
   ]
  },
  {
   "cell_type": "markdown",
   "metadata": {},
   "source": [
    "На обработку поступает натуральное число, не превышающее 109\n",
    ". Нужно написать\n",
    "программу, которая выводит на экран минимальную чётную цифру этого числа. Если в числе\n",
    "нет чётных цифр, требуется на экран вывести «NO». Программист написал программу\n",
    "неправильно. Ниже эта программа для Вашего удобства приведена на пяти языках\n",
    "программирования. "
   ]
  },
  {
   "cell_type": "code",
   "execution_count": null,
   "metadata": {},
   "outputs": [],
   "source": [
    "N = int(input()) # 231\n",
    "minDigit = N % 10 # 1\n",
    "while N > 0:\n",
    "    digit = N % 10 # 1 -> 3 -> 2\n",
    "    if digit % 2 == 0:\n",
    "        if digit < minDigit:\n",
    "            minDigit = digit\n",
    "    N = N // 10 # 231 -> 23 -> 2 -> 0\n",
    "if minDigit == 0:\n",
    "    print(\"NO\")\n",
    "else:\n",
    "    print(minDigit) # => 1"
   ]
  },
  {
   "cell_type": "markdown",
   "metadata": {},
   "source": [
    "Последовательно выполните следующее.\n",
    "1. Напишите, что выведет эта программа при вводе числа 231.\n",
    "2. Приведите пример такого трёхзначного числа, при вводе которого приведённая\n",
    "программа, несмотря на ошибки, выдаёт верный ответ.\n",
    "3. Найдите допущенные программистом ошибки и исправьте их. Исправление ошибки\n",
    "должно затрагивать только строку, в которой находится ошибка. Для каждой ошибки:\n",
    "   1) выпишите строку, в которой сделана ошибка;\n",
    "   2) укажите, как исправить ошибку, т.е. приведите правильный вариант строки. "
   ]
  },
  {
   "cell_type": "markdown",
   "metadata": {},
   "source": [
    "1. 1\n",
    "2. 124\n",
    "3. minDigit = N % 10 => minDigit = 9<br>\n",
    "   if minDigit == 0: => if minDigit == 9:"
   ]
  },
  {
   "cell_type": "code",
   "execution_count": 22,
   "metadata": {},
   "outputs": [
    {
     "name": "stdout",
     "output_type": "stream",
     "text": [
      "[28, 14, 99, 11, 92, 44, 47, 72, 92, 23, 15, 32, 14, 16, 97, 17, 50, 17, 91, 61, 28, 24, 35, 95, 96, 76, 84, 36, 20, 35, 45, 70, 34, 84, 44, 8, 19, 27, 88, 18, 21, 35, 71, 35, 89, 43, 52, 26, 42, 75, 32, 29, 69, 35, 31, 82, 52, 49, 38, 12, 1, 90, 10, 32, 36, 79, 23, 94, 15, 88, 52, 12, 30, 52, 67, 5, 100, 27, 64, 86, 4, 35, 98, 66, 12, 54, 41, 58, 29, 33, 47, 31, 97, 74, 61, 36, 58, 58, 3, 22, 92, 72, 28, 85, 98, 98, 26, 35, 82, 35]\n",
      "141295 110\n"
     ]
    }
   ],
   "source": [
    "with open(\"27_A_16336.txt\") as f:\n",
    "    n = int(f.readline())\n",
    "    data = list(map(int, f.readlines()))\n",
    "    print(data)\n",
    "    m = float(\"inf\")\n",
    "    m_start = 0\n",
    "    for start in range(n):\n",
    "        s = 0\n",
    "        for i in range(n // 2 + 1):\n",
    "            s += i * data[(start + i) % n]\n",
    "            if n - 2 - start - i != (start + i) % n:\n",
    "                s += i * data[(start - i)]\n",
    "        if s < m:\n",
    "            m = s\n",
    "            m_start = start\n",
    "    print(m, start + 1)\n"
   ]
  },
  {
   "cell_type": "code",
   "execution_count": 24,
   "metadata": {},
   "outputs": [
    {
     "name": "stdout",
     "output_type": "stream",
     "text": [
      "127921047206912 127921047206912\n",
      "[1, 2, 3] [1, 2, 3]\n"
     ]
    }
   ],
   "source": [
    "a = [1, 2, 3, 4]\n",
    "b = a\n",
    "\n",
    "print(id(a), id(b))\n",
    "b.pop()\n",
    "print(a, b)"
   ]
  },
  {
   "cell_type": "code",
   "execution_count": 27,
   "metadata": {},
   "outputs": [
    {
     "name": "stdout",
     "output_type": "stream",
     "text": [
      "127920984700288\n",
      "127920984700288\n"
     ]
    },
    {
     "data": {
      "text/plain": [
       "([1, 2, 3], [1, 2, 3])"
      ]
     },
     "execution_count": 27,
     "metadata": {},
     "output_type": "execute_result"
    }
   ],
   "source": [
    "def without_last(lst):\n",
    "    # Fix it\n",
    "    print(id(lst))\n",
    "    lst.pop() # removes the last element\n",
    "    return lst\n",
    "\n",
    "a = [1, 2, 3, 4]\n",
    "\n",
    "print(id(a))\n",
    "without_last(a), a"
   ]
  },
  {
   "cell_type": "code",
   "execution_count": 28,
   "metadata": {},
   "outputs": [
    {
     "name": "stdout",
     "output_type": "stream",
     "text": [
      "127920984769600\n",
      "127920984767296\n"
     ]
    },
    {
     "data": {
      "text/plain": [
       "([1, 2, 3], [1, 2, 3, 4])"
      ]
     },
     "execution_count": 28,
     "metadata": {},
     "output_type": "execute_result"
    }
   ],
   "source": [
    "def without_last(lst):\n",
    "    # Fix it\n",
    "    print(id(lst))\n",
    "    lst.pop() # removes the last element\n",
    "    return lst\n",
    "\n",
    "a = [1, 2, 3, 4]\n",
    "\n",
    "print(id(a))\n",
    "without_last(a.copy()), a"
   ]
  },
  {
   "cell_type": "code",
   "execution_count": 29,
   "metadata": {},
   "outputs": [
    {
     "name": "stdout",
     "output_type": "stream",
     "text": [
      "127920984776384\n",
      "127920984776384\n"
     ]
    },
    {
     "data": {
      "text/plain": [
       "([1, 2, 3], [1, 2, 3, 4])"
      ]
     },
     "execution_count": 29,
     "metadata": {},
     "output_type": "execute_result"
    }
   ],
   "source": [
    "def without_last(lst):\n",
    "    # Fix it\n",
    "    print(id(lst))\n",
    "    # lst.pop() # removes the last element\n",
    "    return lst[:-1]\n",
    "\n",
    "a = [1, 2, 3, 4]\n",
    "\n",
    "print(id(a))\n",
    "without_last(a), a"
   ]
  },
  {
   "cell_type": "code",
   "execution_count": 31,
   "metadata": {},
   "outputs": [
    {
     "data": {
      "text/plain": [
       "'1000010001'"
      ]
     },
     "execution_count": 31,
     "metadata": {},
     "output_type": "execute_result"
    }
   ],
   "source": [
    "bin(529)[2:]"
   ]
  }
 ],
 "metadata": {
  "kernelspec": {
   "display_name": "Python 3",
   "language": "python",
   "name": "python3"
  },
  "language_info": {
   "codemirror_mode": {
    "name": "ipython",
    "version": 3
   },
   "file_extension": ".py",
   "mimetype": "text/x-python",
   "name": "python",
   "nbconvert_exporter": "python",
   "pygments_lexer": "ipython3",
   "version": "3.12.3"
  }
 },
 "nbformat": 4,
 "nbformat_minor": 2
}
