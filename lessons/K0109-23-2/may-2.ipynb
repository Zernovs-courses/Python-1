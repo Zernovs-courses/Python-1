{
 "cells": [
  {
   "cell_type": "markdown",
   "metadata": {},
   "source": [
    "Дан текст: в первой строке записано количество строк в тексте, а затем сами строки. Выведите все слова, встречающиеся в тексте, по одному на каждую строку. Слова должны быть отсортированы по убыванию их количества появления в тексте, а при одинаковой частоте появления — в лексикографическом порядке.\n",
    "\n",
    "Указание. После того, как вы создадите словарь всех слов, вам захочется отсортировать его по частоте встречаемости слова. Желаемого можно добиться, если создать список, элементами которого будут кортежи из двух элементов: частота встречаемости слова и само слово. Например, `[(2, 'hi'), (1, 'what'), (3, 'is')]`. Тогда стандартная сортировка будет сортировать список кортежей, при этом кортежи сравниваются по первому элементу, а если они равны — то по второму. Это почти то, что требуется в задаче.\n",
    "\n",
    "\n",
    "Sample Input:\n",
    "```console\n",
    "9\n",
    "hi\n",
    "hi\n",
    "what is your name\n",
    "my name is bond\n",
    "james bond\n",
    "my name is damme\n",
    "van damme\n",
    "claude van damme\n",
    "jean claude van damme\n",
    "```\n",
    "\n",
    "Sample Output:\n",
    "```console\n",
    "damme\n",
    "is\n",
    "name\n",
    "van\n",
    "bond\n",
    "claude\n",
    "hi\n",
    "my\n",
    "james\n",
    "jean\n",
    "what\n",
    "your\n",
    "```\n"
   ]
  },
  {
   "cell_type": "code",
   "execution_count": 6,
   "metadata": {},
   "outputs": [
    {
     "name": "stdout",
     "output_type": "stream",
     "text": [
      "damme\n",
      "is\n",
      "name\n",
      "van\n",
      "bond\n",
      "claude\n",
      "hi\n",
      "my\n",
      "james\n",
      "jean\n",
      "what\n",
      "your\n"
     ]
    }
   ],
   "source": [
    "inp = [\n",
    "    \"hi\",\n",
    "    \"hi\",\n",
    "    \"what is your name\",\n",
    "    \"my name is bond\",\n",
    "    \"james bond\",\n",
    "    \"my name is damme\",\n",
    "    \"van damme\",\n",
    "    \"claude van damme\",\n",
    "    \"jean claude van damme\",\n",
    "]\n",
    "\n",
    "freq = dict()\n",
    "for line in inp:\n",
    "    for word in line.split():\n",
    "        freq[word] = freq.get(word, 0) + 1\n",
    "\n",
    "for word in sorted(freq.items(), key=lambda x: (-x[1], x[0])):\n",
    "    print(word[0])"
   ]
  },
  {
   "cell_type": "code",
   "execution_count": 31,
   "metadata": {},
   "outputs": [
    {
     "data": {
      "text/plain": [
       "[20, 12, 18, 30, 21]"
      ]
     },
     "execution_count": 31,
     "metadata": {},
     "output_type": "execute_result"
    }
   ],
   "source": [
    "def encode(message, key):\n",
    "    encoded = []\n",
    "    for c in message:\n",
    "        encoded.append(ord(c) - 96)\n",
    "\n",
    "    key = list(map(int, list(str(key))))\n",
    "\n",
    "    for i in range(len(encoded)):\n",
    "        encoded[i] += key[i % len(key)]\n",
    "\n",
    "    return encoded\n",
    "\n",
    "encode(\"scout\", 1939)"
   ]
  },
  {
   "cell_type": "code",
   "execution_count": 41,
   "metadata": {},
   "outputs": [
    {
     "data": {
      "text/plain": [
       "'scout'"
      ]
     },
     "execution_count": 41,
     "metadata": {},
     "output_type": "execute_result"
    }
   ],
   "source": [
    "def decode(code, key):\n",
    "    key = list(map(int, list(str(key))))\n",
    "    \n",
    "    for i in range(len(code)):\n",
    "        code[i] = chr(code[i] - key[i % len(key)] + 96)\n",
    "\n",
    "    return ''.join(code)\n",
    "\n",
    "\n",
    "decode([20, 12, 18, 30, 21], 1939)"
   ]
  },
  {
   "cell_type": "code",
   "execution_count": 61,
   "metadata": {},
   "outputs": [
    {
     "data": {
      "text/plain": [
       "(1939, 1939, 12)"
      ]
     },
     "execution_count": 61,
     "metadata": {},
     "output_type": "execute_result"
    }
   ],
   "source": [
    "def find_the_key(message, code):\n",
    "    n = len(message)\n",
    "    encoded = []\n",
    "    for c in message:\n",
    "        encoded.append(ord(c) - 96)\n",
    "\n",
    "    for i in range(n):\n",
    "        code[i] -= encoded[i]\n",
    "\n",
    "    for l in range(1, n + 1):\n",
    "        key = code[:l]\n",
    "        if (key * (n // l + 1))[:n] == code:\n",
    "            return int(''.join(map(str, key)))\n",
    "\n",
    "\n",
    "    # return code\n",
    "\n",
    "\n",
    "find_the_key(\"scout\", [20, 12, 18, 30, 21]), find_the_key(\n",
    "    \"masterpiece\", [14, 10, 22, 29, 6, 27, 19, 18, 6, 12, 8]\n",
    "), find_the_key(\"nomoretears\", [15, 17, 14, 17, 19, 7, 21, 7, 2, 20, 20])"
   ]
  },
  {
   "cell_type": "code",
   "execution_count": null,
   "metadata": {},
   "outputs": [],
   "source": []
  },
  {
   "cell_type": "code",
   "execution_count": 28,
   "metadata": {},
   "outputs": [
    {
     "name": "stdout",
     "output_type": "stream",
     "text": [
      "1.15 µs ± 8.84 ns per loop (mean ± std. dev. of 7 runs, 1,000,000 loops each)\n"
     ]
    }
   ],
   "source": [
    "%timeit encode(\"scout\", 1939)"
   ]
  },
  {
   "cell_type": "code",
   "execution_count": 30,
   "metadata": {},
   "outputs": [
    {
     "name": "stdout",
     "output_type": "stream",
     "text": [
      "1.15 µs ± 19.5 ns per loop (mean ± std. dev. of 7 runs, 1,000,000 loops each)\n"
     ]
    }
   ],
   "source": [
    "%timeit encode(\"scout\", 1939)"
   ]
  },
  {
   "cell_type": "code",
   "execution_count": 24,
   "metadata": {},
   "outputs": [
    {
     "data": {
      "text/plain": [
       "[1, 9, 3, 9]"
      ]
     },
     "execution_count": 24,
     "metadata": {},
     "output_type": "execute_result"
    }
   ],
   "source": [
    "list(map(int, list(str(1939))))"
   ]
  },
  {
   "cell_type": "code",
   "execution_count": 20,
   "metadata": {},
   "outputs": [
    {
     "data": {
      "text/plain": [
       "['s', 'c', 'o', 'u', 't']"
      ]
     },
     "execution_count": 20,
     "metadata": {},
     "output_type": "execute_result"
    }
   ],
   "source": [
    "list(\"scout\")"
   ]
  },
  {
   "cell_type": "code",
   "execution_count": 16,
   "metadata": {},
   "outputs": [
    {
     "data": {
      "text/plain": [
       "3"
      ]
     },
     "execution_count": 16,
     "metadata": {},
     "output_type": "execute_result"
    }
   ],
   "source": [
    "ord(\"c\") - 96"
   ]
  },
  {
   "cell_type": "code",
   "execution_count": 36,
   "metadata": {},
   "outputs": [
    {
     "data": {
      "text/plain": [
       "'a'"
      ]
     },
     "execution_count": 36,
     "metadata": {},
     "output_type": "execute_result"
    }
   ],
   "source": [
    "chr(1 + 96)"
   ]
  }
 ],
 "metadata": {
  "kernelspec": {
   "display_name": "Python 3",
   "language": "python",
   "name": "python3"
  },
  "language_info": {
   "codemirror_mode": {
    "name": "ipython",
    "version": 3
   },
   "file_extension": ".py",
   "mimetype": "text/x-python",
   "name": "python",
   "nbconvert_exporter": "python",
   "pygments_lexer": "ipython3",
   "version": "3.11.6"
  }
 },
 "nbformat": 4,
 "nbformat_minor": 2
}
