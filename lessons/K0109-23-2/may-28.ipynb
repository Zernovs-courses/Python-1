{
 "cells": [
  {
   "cell_type": "markdown",
   "metadata": {},
   "source": [
    "# Работа с файлами"
   ]
  },
  {
   "cell_type": "markdown",
   "metadata": {},
   "source": [
    "## Путь к файлу"
   ]
  },
  {
   "cell_type": "code",
   "execution_count": 1,
   "metadata": {},
   "outputs": [
    {
     "ename": "SyntaxError",
     "evalue": "(unicode error) 'unicodeescape' codec can't decode bytes in position 2-3: truncated \\uXXXX escape (3442273546.py, line 1)",
     "output_type": "error",
     "traceback": [
      "\u001b[0;36m  Cell \u001b[0;32mIn[1], line 1\u001b[0;36m\u001b[0m\n\u001b[0;31m    s = \"c:\\users\\user\\Desktop\\folder\\input.txt\"\u001b[0m\n\u001b[0m        ^\u001b[0m\n\u001b[0;31mSyntaxError\u001b[0m\u001b[0;31m:\u001b[0m (unicode error) 'unicodeescape' codec can't decode bytes in position 2-3: truncated \\uXXXX escape\n"
     ]
    }
   ],
   "source": [
    "s = \"c:\\users\\user\\Desktop\\folder\\input.txt\""
   ]
  },
  {
   "cell_type": "code",
   "execution_count": 4,
   "metadata": {},
   "outputs": [
    {
     "name": "stdout",
     "output_type": "stream",
     "text": [
      "c:\\users\\user\\Desktop\\folder\\input.txt\n"
     ]
    }
   ],
   "source": [
    "s = r\"c:\\users\\user\\Desktop\\folder\\input.txt\"\n",
    "print(s)"
   ]
  },
  {
   "cell_type": "code",
   "execution_count": 6,
   "metadata": {},
   "outputs": [
    {
     "name": "stdout",
     "output_type": "stream",
     "text": [
      "c:\\users\\user\\Desktop\\folder\\input.txt\n"
     ]
    }
   ],
   "source": [
    "s = \"c:\\\\users\\\\user\\\\Desktop\\\\folder\\\\input.txt\"\n",
    "print(s)"
   ]
  },
  {
   "cell_type": "code",
   "execution_count": 10,
   "metadata": {},
   "outputs": [
    {
     "name": "stdout",
     "output_type": "stream",
     "text": [
      "c:\\users\\user\\Desktop\\folder\\input.txt\n",
      "c/users/user/Desktop/folder/input.txt\n"
     ]
    }
   ],
   "source": [
    "import pathlib\n",
    "\n",
    "s = pathlib.Path(\"c:\\\\users\\\\user\\\\Desktop\\\\folder\\\\input.txt\")\n",
    "\n",
    "print(s)\n",
    "\n",
    "s = pathlib.Path(\"c\", \"users\", \"user\", \"Desktop\", \"folder\", \"input.txt\")\n",
    "\n",
    "print(s)"
   ]
  },
  {
   "cell_type": "markdown",
   "metadata": {},
   "source": [
    "## Открытие/закрытие файла"
   ]
  },
  {
   "cell_type": "code",
   "execution_count": 11,
   "metadata": {},
   "outputs": [],
   "source": [
    "fp = open(\"input.txt\")"
   ]
  },
  {
   "cell_type": "markdown",
   "metadata": {},
   "source": [
    "```py\n",
    "fp = open(path, mode)\n",
    "```\n",
    "\n",
    "Mode:\n",
    "1. \"r\" - чтение\n",
    "2. \"w\" - запись (перезаписываем файл полностью)\n",
    "3. \"a\" - добавление в файл (записываем в конец файла, оставляя содержимое)\n",
    "4. \"r+\" - чтение и запись одновременно\n",
    "5. \"b\" - бинарный файл\n",
    "6. \"t\" - текст"
   ]
  },
  {
   "cell_type": "code",
   "execution_count": 14,
   "metadata": {},
   "outputs": [
    {
     "data": {
      "text/plain": [
       "<_io.TextIOWrapper name='input.txt' mode='r' encoding='UTF-8'>"
      ]
     },
     "execution_count": 14,
     "metadata": {},
     "output_type": "execute_result"
    }
   ],
   "source": [
    "fp = open('input.txt', \"r\")\n",
    "fp"
   ]
  },
  {
   "cell_type": "code",
   "execution_count": 15,
   "metadata": {},
   "outputs": [],
   "source": [
    "fp.close()"
   ]
  },
  {
   "cell_type": "code",
   "execution_count": 20,
   "metadata": {},
   "outputs": [
    {
     "ename": "ZeroDivisionError",
     "evalue": "division by zero",
     "output_type": "error",
     "traceback": [
      "\u001b[0;31m---------------------------------------------------------------------------\u001b[0m",
      "\u001b[0;31mZeroDivisionError\u001b[0m                         Traceback (most recent call last)",
      "Cell \u001b[0;32mIn[20], line 2\u001b[0m\n\u001b[1;32m      1\u001b[0m \u001b[38;5;28;01mwith\u001b[39;00m \u001b[38;5;28mopen\u001b[39m(\u001b[38;5;124m\"\u001b[39m\u001b[38;5;124minput.txt\u001b[39m\u001b[38;5;124m\"\u001b[39m) \u001b[38;5;28;01mas\u001b[39;00m fp:\n\u001b[0;32m----> 2\u001b[0m     a \u001b[38;5;241m=\u001b[39m \u001b[38;5;241;43m1\u001b[39;49m\u001b[43m \u001b[49m\u001b[38;5;241;43m/\u001b[39;49m\u001b[43m \u001b[49m\u001b[38;5;241;43m0\u001b[39;49m\n\u001b[1;32m      4\u001b[0m fp\u001b[38;5;241m.\u001b[39mclosed\n",
      "\u001b[0;31mZeroDivisionError\u001b[0m: division by zero"
     ]
    }
   ],
   "source": [
    "with open(\"input.txt\") as fp:\n",
    "    a = 1 / 0\n",
    "\n",
    "fp.closed"
   ]
  },
  {
   "cell_type": "code",
   "execution_count": 25,
   "metadata": {},
   "outputs": [
    {
     "name": "stdout",
     "output_type": "stream",
     "text": [
      "True\n"
     ]
    }
   ],
   "source": [
    "fp = open(\"input.txt\")\n",
    "\n",
    "try:\n",
    "    a = 1 / 0\n",
    "except:\n",
    "    pass\n",
    "finally:\n",
    "    fp.close()\n",
    "\n",
    "print(fp.closed)"
   ]
  },
  {
   "cell_type": "markdown",
   "metadata": {},
   "source": [
    "## Чтение"
   ]
  },
  {
   "cell_type": "code",
   "execution_count": 28,
   "metadata": {},
   "outputs": [
    {
     "name": "stdout",
     "output_type": "stream",
     "text": [
      "line 1\n",
      "line 2\n",
      "line 3\n"
     ]
    }
   ],
   "source": [
    "with open(\"input.txt\") as fp:\n",
    "    print(fp.read()) #чтение файла целиком"
   ]
  },
  {
   "cell_type": "code",
   "execution_count": 34,
   "metadata": {},
   "outputs": [
    {
     "name": "stdout",
     "output_type": "stream",
     "text": [
      "lin\n",
      "e 1\n",
      "\n",
      "li\n",
      "ne \n"
     ]
    }
   ],
   "source": [
    "with open(\"input.txt\") as fp:\n",
    "    print(fp.read(3)) #чтение определенного количества символов из файла \n",
    "    print(fp.read(3))\n",
    "    print(fp.read(3))\n",
    "    print(fp.read(3))"
   ]
  },
  {
   "cell_type": "code",
   "execution_count": 39,
   "metadata": {},
   "outputs": [
    {
     "name": "stdout",
     "output_type": "stream",
     "text": [
      "line 1\n",
      "\n",
      "line 2\n",
      "\n",
      "line 3\n",
      "\n"
     ]
    }
   ],
   "source": [
    "with open(\"input.txt\") as fp:\n",
    "    print(fp.readline()) #считывание строки целиком\n",
    "    print(fp.readline())\n",
    "    print(fp.readline())\n",
    "    print(fp.readline())"
   ]
  },
  {
   "cell_type": "code",
   "execution_count": 42,
   "metadata": {},
   "outputs": [
    {
     "name": "stdout",
     "output_type": "stream",
     "text": [
      "li\n",
      "ne\n",
      " 1\n",
      "\n",
      "\n"
     ]
    }
   ],
   "source": [
    "with open(\"input.txt\") as fp:\n",
    "    print(fp.readline(2)) #считывание количества символов из строки \n",
    "    print(fp.readline(2))\n",
    "    print(fp.readline(2))\n",
    "    print(fp.readline(2))"
   ]
  },
  {
   "cell_type": "code",
   "execution_count": 44,
   "metadata": {},
   "outputs": [
    {
     "name": "stdout",
     "output_type": "stream",
     "text": [
      "['line 1\\n', 'line 2\\n', 'line 3']\n"
     ]
    }
   ],
   "source": [
    "with open(\"input.txt\") as fp:\n",
    "    print(fp.readlines()) #считывание все строки и возвращает в виде списка"
   ]
  },
  {
   "cell_type": "code",
   "execution_count": 45,
   "metadata": {},
   "outputs": [
    {
     "name": "stdout",
     "output_type": "stream",
     "text": [
      "line 1\n",
      "line 2\n",
      "line 3"
     ]
    }
   ],
   "source": [
    "with open(\"input.txt\") as fp:\n",
    "    line = fp.readline()\n",
    "    while line != \"\":\n",
    "        print(line, end=\"\")\n",
    "        line = fp.readline()\n"
   ]
  },
  {
   "cell_type": "code",
   "execution_count": 47,
   "metadata": {},
   "outputs": [
    {
     "name": "stdout",
     "output_type": "stream",
     "text": [
      "line 1\n",
      "line 2\n",
      "line 3"
     ]
    }
   ],
   "source": [
    "with open(\"input.txt\") as fp:\n",
    "    for line in fp.readlines():\n",
    "        print(line, end=\"\")"
   ]
  },
  {
   "cell_type": "code",
   "execution_count": 48,
   "metadata": {},
   "outputs": [
    {
     "name": "stdout",
     "output_type": "stream",
     "text": [
      "line 1\n",
      "line 2\n",
      "line 3"
     ]
    }
   ],
   "source": [
    "with open(\"input.txt\") as fp:\n",
    "    for line in fp:\n",
    "        print(line, end=\"\")"
   ]
  },
  {
   "cell_type": "markdown",
   "metadata": {},
   "source": [
    "## Запись в файл"
   ]
  },
  {
   "cell_type": "code",
   "execution_count": 51,
   "metadata": {},
   "outputs": [],
   "source": [
    "with open(\"output.txt\", \"w\") as fp:\n",
    "    fp.write(\"this is some new line\\n\")\n",
    "    fp.write(\"this is some new line\")"
   ]
  },
  {
   "cell_type": "code",
   "execution_count": 54,
   "metadata": {},
   "outputs": [],
   "source": [
    "with open(\"output.txt\", \"a\") as fp:\n",
    "    fp.writelines([\"\\nnew line 1\\n\", \"new line 2\\n\", \"new line 3\\n\"])"
   ]
  },
  {
   "cell_type": "markdown",
   "metadata": {},
   "source": [
    "## Управление указателем"
   ]
  },
  {
   "cell_type": "code",
   "execution_count": 58,
   "metadata": {},
   "outputs": [
    {
     "name": "stdout",
     "output_type": "stream",
     "text": [
      "0\n",
      "22\n"
     ]
    }
   ],
   "source": [
    "with open(\"output.txt\") as fp:\n",
    "    print(fp.tell()) # текущая позиция курсора\n",
    "    fp.readline()\n",
    "    print(fp.tell())"
   ]
  },
  {
   "cell_type": "code",
   "execution_count": 64,
   "metadata": {},
   "outputs": [
    {
     "name": "stdout",
     "output_type": "stream",
     "text": [
      "8 some new line\n",
      "\n"
     ]
    }
   ],
   "source": [
    "with open(\"output.txt\") as fp:\n",
    "    fp.seek(8) #перемещение на 8 индекс относительно начала файла\n",
    "    print(fp.tell(), fp.readline())"
   ]
  },
  {
   "cell_type": "code",
   "execution_count": 63,
   "metadata": {},
   "outputs": [
    {
     "name": "stdout",
     "output_type": "stream",
     "text": [
      "8 some new line\n",
      "\n",
      "140 \n"
     ]
    }
   ],
   "source": [
    "with open(\"output.txt\") as fp:\n",
    "    fp.seek(8)\n",
    "    print(fp.tell(), fp.readline())\n",
    "    fp.seek(0, 2) # быстрое перемещение в конец файла\n",
    "    print(fp.tell(), fp.readline())"
   ]
  }
 ],
 "metadata": {
  "kernelspec": {
   "display_name": "Python 3",
   "language": "python",
   "name": "python3"
  },
  "language_info": {
   "codemirror_mode": {
    "name": "ipython",
    "version": 3
   },
   "file_extension": ".py",
   "mimetype": "text/x-python",
   "name": "python",
   "nbconvert_exporter": "python",
   "pygments_lexer": "ipython3",
   "version": "3.12.3"
  }
 },
 "nbformat": 4,
 "nbformat_minor": 2
}
