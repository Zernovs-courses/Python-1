{
 "cells": [
  {
   "cell_type": "markdown",
   "metadata": {},
   "source": [
    "# Функции"
   ]
  },
  {
   "cell_type": "markdown",
   "metadata": {},
   "source": [
    "**Функция** - именованный изолированный блок кода\n",
    "\n",
    "```py\n",
    "def <имя_функции>(<аргменты_функции>):\n",
    "    <тело_функции>\n",
    "    ...\n",
    "    return <возвращаемое_значение>\n",
    "```"
   ]
  },
  {
   "cell_type": "code",
   "execution_count": 3,
   "metadata": {},
   "outputs": [
    {
     "name": "stdout",
     "output_type": "stream",
     "text": [
      "a = 1\n",
      "b = 2\n"
     ]
    },
    {
     "data": {
      "text/plain": [
       "3"
      ]
     },
     "execution_count": 3,
     "metadata": {},
     "output_type": "execute_result"
    }
   ],
   "source": [
    "def plus(a, b):\n",
    "    print(\"a =\", a)\n",
    "    print(\"b =\", b)\n",
    "    return a + b\n",
    "\n",
    "plus(1, 2) # вызов функции"
   ]
  },
  {
   "cell_type": "code",
   "execution_count": 4,
   "metadata": {},
   "outputs": [
    {
     "name": "stdout",
     "output_type": "stream",
     "text": [
      "a = 5\n",
      "b = 10\n"
     ]
    },
    {
     "data": {
      "text/plain": [
       "15"
      ]
     },
     "execution_count": 4,
     "metadata": {},
     "output_type": "execute_result"
    }
   ],
   "source": [
    "c = plus(5, 10)\n",
    "c"
   ]
  },
  {
   "cell_type": "markdown",
   "metadata": {},
   "source": [
    "## Аргументы функции"
   ]
  },
  {
   "cell_type": "code",
   "execution_count": 5,
   "metadata": {},
   "outputs": [
    {
     "name": "stdout",
     "output_type": "stream",
     "text": [
      "Hello!\n"
     ]
    }
   ],
   "source": [
    "def greet():\n",
    "    print(\"Hello!\")\n",
    "\n",
    "greet()"
   ]
  },
  {
   "cell_type": "code",
   "execution_count": 8,
   "metadata": {},
   "outputs": [
    {
     "name": "stdout",
     "output_type": "stream",
     "text": [
      "a=1, b=2\n",
      "a=2, b=1\n",
      "a=10, b=string\n"
     ]
    }
   ],
   "source": [
    "def fun(a, b): # позиционные аргументы\n",
    "    print(f\"a={a}, b={b}\")\n",
    "\n",
    "fun(1, 2)\n",
    "fun(2, 1)\n",
    "fun(10, 'string')"
   ]
  },
  {
   "cell_type": "code",
   "execution_count": 9,
   "metadata": {},
   "outputs": [
    {
     "ename": "TypeError",
     "evalue": "fun() missing 1 required positional argument: 'b'",
     "output_type": "error",
     "traceback": [
      "\u001b[0;31m---------------------------------------------------------------------------\u001b[0m",
      "\u001b[0;31mTypeError\u001b[0m                                 Traceback (most recent call last)",
      "Cell \u001b[0;32mIn[9], line 1\u001b[0m\n\u001b[0;32m----> 1\u001b[0m \u001b[43mfun\u001b[49m\u001b[43m(\u001b[49m\u001b[38;5;241;43m1\u001b[39;49m\u001b[43m)\u001b[49m\n",
      "\u001b[0;31mTypeError\u001b[0m: fun() missing 1 required positional argument: 'b'"
     ]
    }
   ],
   "source": [
    "fun(1)"
   ]
  },
  {
   "cell_type": "code",
   "execution_count": 10,
   "metadata": {},
   "outputs": [
    {
     "ename": "TypeError",
     "evalue": "fun() takes 2 positional arguments but 3 were given",
     "output_type": "error",
     "traceback": [
      "\u001b[0;31m---------------------------------------------------------------------------\u001b[0m",
      "\u001b[0;31mTypeError\u001b[0m                                 Traceback (most recent call last)",
      "Cell \u001b[0;32mIn[10], line 1\u001b[0m\n\u001b[0;32m----> 1\u001b[0m \u001b[43mfun\u001b[49m\u001b[43m(\u001b[49m\u001b[38;5;241;43m1\u001b[39;49m\u001b[43m,\u001b[49m\u001b[43m \u001b[49m\u001b[38;5;241;43m2\u001b[39;49m\u001b[43m,\u001b[49m\u001b[43m \u001b[49m\u001b[38;5;241;43m3\u001b[39;49m\u001b[43m)\u001b[49m\n",
      "\u001b[0;31mTypeError\u001b[0m: fun() takes 2 positional arguments but 3 were given"
     ]
    }
   ],
   "source": [
    "fun(1, 2, 3)"
   ]
  },
  {
   "cell_type": "code",
   "execution_count": 13,
   "metadata": {},
   "outputs": [
    {
     "name": "stdout",
     "output_type": "stream",
     "text": [
      "a=1, b=2\n",
      "args=()\n",
      "a=1, b=2\n",
      "args=(3, 4, 5, 6)\n"
     ]
    }
   ],
   "source": [
    "def fun(a, b, *args): # позиционные аргументы\n",
    "                      # *args - неограниченное количество позиционных аргументов\n",
    "    print(f\"a={a}, b={b}\")\n",
    "    print(f\"args={args}\")\n",
    "\n",
    "fun(1, 2)\n",
    "fun(1, 2, 3, 4, 5, 6,)"
   ]
  },
  {
   "cell_type": "code",
   "execution_count": 16,
   "metadata": {},
   "outputs": [
    {
     "name": "stdout",
     "output_type": "stream",
     "text": [
      "args=()\n",
      "args=(1, 2)\n",
      "args=([1, 2, 3], True)\n",
      "args=(1, 2, 3, 4, 5, 6)\n"
     ]
    }
   ],
   "source": [
    "def fun(*args): # позиционные аргументы\n",
    "                      # *args - неограниченное количество позиционных аргументов\n",
    "    print(f\"args={args}\")\n",
    "\n",
    "fun()\n",
    "fun(1, 2)\n",
    "fun([1, 2, 3], True)\n",
    "fun(1, 2, 3, 4, 5, 6,)"
   ]
  },
  {
   "cell_type": "code",
   "execution_count": 21,
   "metadata": {},
   "outputs": [
    {
     "name": "stdout",
     "output_type": "stream",
     "text": [
      "a=0, b=1\n",
      "a=10, b=1\n",
      "a=50, b=20\n"
     ]
    }
   ],
   "source": [
    "def fun(a=0, b=1): # именованные (ключевые) аргументы со значением по умолчанию\n",
    "    print(f\"a={a}, b={b}\")\n",
    "\n",
    "fun()\n",
    "fun(10)\n",
    "fun(b=20, a=50)"
   ]
  },
  {
   "cell_type": "code",
   "execution_count": 23,
   "metadata": {},
   "outputs": [
    {
     "name": "stdout",
     "output_type": "stream",
     "text": [
      "1\t2\n"
     ]
    }
   ],
   "source": [
    "print(1, 2, sep='\\t')"
   ]
  },
  {
   "cell_type": "code",
   "execution_count": 29,
   "metadata": {},
   "outputs": [
    {
     "name": "stdout",
     "output_type": "stream",
     "text": [
      "kwargs={}\n",
      "kwargs={'a': 10, 'key': None, 'length': 15.5}\n"
     ]
    }
   ],
   "source": [
    "def fun(**kwargs): # **kwargs - неограниченное количество ключевых аргументов\n",
    "    print(f\"kwargs={kwargs}\")\n",
    "\n",
    "fun()\n",
    "fun(a=10, key=None, length=15.5)"
   ]
  },
  {
   "cell_type": "code",
   "execution_count": 35,
   "metadata": {},
   "outputs": [
    {
     "name": "stdout",
     "output_type": "stream",
     "text": [
      "a=1, b=2\n",
      "args=()\n",
      "key=None\n",
      "kwargs={}\n",
      "-------\n",
      "a=1, b=2\n",
      "args=(4, 5)\n",
      "key=None\n",
      "kwargs={}\n",
      "-------\n",
      "a=1, b=2\n",
      "args=(4, 5)\n",
      "key=True\n",
      "kwargs={}\n",
      "-------\n",
      "a=1, b=2\n",
      "args=(4, 5)\n",
      "key=True\n",
      "kwargs={'key2': 10}\n"
     ]
    }
   ],
   "source": [
    "def fun(a, b, *args, key=None, **kwargs):\n",
    "    print(f\"a={a}, b={b}\")\n",
    "    print(f\"args={args}\")\n",
    "    print(f\"key={key}\")\n",
    "    print(f\"kwargs={kwargs}\")\n",
    "\n",
    "fun(1, 2)\n",
    "print('-------')\n",
    "fun(1, 2, 4, 5)\n",
    "print('-------')\n",
    "fun(1, 2, 4, 5, key=True)\n",
    "print('-------')\n",
    "fun(1, 2, 4, 5, key=True, key2=10)"
   ]
  }
 ],
 "metadata": {
  "kernelspec": {
   "display_name": "Python 3",
   "language": "python",
   "name": "python3"
  },
  "language_info": {
   "codemirror_mode": {
    "name": "ipython",
    "version": 3
   },
   "file_extension": ".py",
   "mimetype": "text/x-python",
   "name": "python",
   "nbconvert_exporter": "python",
   "pygments_lexer": "ipython3",
   "version": "3.11.6"
  }
 },
 "nbformat": 4,
 "nbformat_minor": 2
}
