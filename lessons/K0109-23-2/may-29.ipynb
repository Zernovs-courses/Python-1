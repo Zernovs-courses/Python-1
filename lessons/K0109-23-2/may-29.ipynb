{
 "cells": [
  {
   "cell_type": "markdown",
   "metadata": {},
   "source": [
    "# Генераторы"
   ]
  },
  {
   "cell_type": "markdown",
   "metadata": {},
   "source": [
    "Функция считается генератором если:\n",
    "1. содержит выражение `yield`\n",
    "2. возвращает объект generator, но не начинает выполнение\n",
    "3. после каждого вызова функция приостанавливается, а управление передается вызывающей стороне\n",
    "4. локальные переменные и их состояния запоминаются между вызовами\n",
    "5. после завершения автоматически вызывается `StopIteration`"
   ]
  },
  {
   "cell_type": "code",
   "execution_count": 2,
   "metadata": {},
   "outputs": [
    {
     "data": {
      "text/plain": [
       "<generator object gen at 0x758466474930>"
      ]
     },
     "execution_count": 2,
     "metadata": {},
     "output_type": "execute_result"
    }
   ],
   "source": [
    "def gen(n):\n",
    "    for i in range(10):\n",
    "        yield i\n",
    "\n",
    "\n",
    "g = gen(10)\n",
    "g"
   ]
  },
  {
   "cell_type": "code",
   "execution_count": 13,
   "metadata": {},
   "outputs": [
    {
     "ename": "StopIteration",
     "evalue": "",
     "output_type": "error",
     "traceback": [
      "\u001b[0;31m---------------------------------------------------------------------------\u001b[0m",
      "\u001b[0;31mStopIteration\u001b[0m                             Traceback (most recent call last)",
      "Cell \u001b[0;32mIn[13], line 1\u001b[0m\n\u001b[0;32m----> 1\u001b[0m \u001b[38;5;28;43mnext\u001b[39;49m\u001b[43m(\u001b[49m\u001b[43mg\u001b[49m\u001b[43m)\u001b[49m\n",
      "\u001b[0;31mStopIteration\u001b[0m: "
     ]
    }
   ],
   "source": [
    "next(g)"
   ]
  },
  {
   "cell_type": "code",
   "execution_count": 18,
   "metadata": {},
   "outputs": [
    {
     "data": {
      "text/plain": [
       "<generator object <genexpr> at 0x7584662c8a00>"
      ]
     },
     "execution_count": 18,
     "metadata": {},
     "output_type": "execute_result"
    }
   ],
   "source": [
    "g = (i for i in range(10))\n",
    "g"
   ]
  },
  {
   "cell_type": "code",
   "execution_count": 19,
   "metadata": {},
   "outputs": [
    {
     "data": {
      "text/plain": [
       "(0, 1, 2)"
      ]
     },
     "execution_count": 19,
     "metadata": {},
     "output_type": "execute_result"
    }
   ],
   "source": [
    "(\n",
    "    next(g),\n",
    "    next(g),\n",
    "    next(g),\n",
    ")"
   ]
  },
  {
   "cell_type": "code",
   "execution_count": 21,
   "metadata": {},
   "outputs": [
    {
     "data": {
      "text/plain": [
       "8448712"
      ]
     },
     "execution_count": 21,
     "metadata": {},
     "output_type": "execute_result"
    }
   ],
   "source": [
    "[i for i in range(1000000)].__sizeof__()"
   ]
  },
  {
   "cell_type": "code",
   "execution_count": 22,
   "metadata": {},
   "outputs": [
    {
     "data": {
      "text/plain": [
       "176"
      ]
     },
     "execution_count": 22,
     "metadata": {},
     "output_type": "execute_result"
    }
   ],
   "source": [
    "(i for i in range(1000000)).__sizeof__()"
   ]
  },
  {
   "cell_type": "code",
   "execution_count": 23,
   "metadata": {},
   "outputs": [],
   "source": [
    "def gen_prime():\n",
    "    i = 2\n",
    "    while True:\n",
    "        for j in range(2, int(i**0.5) + 1):\n",
    "            if i % j == 0:\n",
    "                break\n",
    "        else:\n",
    "            yield i\n",
    "        i += 1"
   ]
  },
  {
   "cell_type": "code",
   "execution_count": 24,
   "metadata": {},
   "outputs": [],
   "source": [
    "primes = gen_prime()"
   ]
  },
  {
   "cell_type": "code",
   "execution_count": 40,
   "metadata": {},
   "outputs": [
    {
     "data": {
      "text/plain": [
       "53"
      ]
     },
     "execution_count": 40,
     "metadata": {},
     "output_type": "execute_result"
    }
   ],
   "source": [
    "next(primes)"
   ]
  },
  {
   "cell_type": "code",
   "execution_count": 41,
   "metadata": {},
   "outputs": [
    {
     "name": "stdout",
     "output_type": "stream",
     "text": [
      "2\n",
      "3\n",
      "5\n",
      "7\n",
      "11\n",
      "13\n",
      "17\n",
      "19\n",
      "23\n",
      "29\n",
      "31\n",
      "37\n",
      "41\n",
      "43\n",
      "47\n",
      "53\n",
      "59\n",
      "61\n",
      "67\n",
      "71\n",
      "73\n",
      "79\n",
      "83\n",
      "89\n",
      "97\n",
      "101\n"
     ]
    }
   ],
   "source": [
    "primes = gen_prime()\n",
    "for i in primes:\n",
    "    print(i)\n",
    "    if i > 100:\n",
    "        break"
   ]
  },
  {
   "cell_type": "code",
   "execution_count": 2,
   "metadata": {},
   "outputs": [
    {
     "name": "stdout",
     "output_type": "stream",
     "text": [
      "next() вызван в первый раз\n",
      "1\n",
      "None\n",
      "2\n",
      "Error\n",
      "close()\n"
     ]
    },
    {
     "name": "stderr",
     "output_type": "stream",
     "text": [
      "/tmp/ipykernel_3044762/1306596309.py:21: DeprecationWarning: the (type, exc, tb) signature of throw() is deprecated, use the single-arg signature instead.\n",
      "  print(gen.throw(TypeError, \"Error\"))  # вызвать ошибку\n"
     ]
    }
   ],
   "source": [
    "def echo(value=None):\n",
    "    print(\"next() вызван в первый раз\")\n",
    "    try:\n",
    "        while True:\n",
    "            try:\n",
    "                value = yield value\n",
    "            except Exception as e:\n",
    "                value = e\n",
    "    finally:\n",
    "        print(\"close()\")\n",
    "\n",
    "\n",
    "gen = echo(1)\n",
    "\n",
    "print(next(gen))\n",
    "\n",
    "print(next(gen))\n",
    "\n",
    "print(gen.send(2))  # передать значение параметра\n",
    "\n",
    "print(gen.throw(TypeError, \"Error\"))  # вызвать ошибку\n",
    "\n",
    "gen.close()"
   ]
  },
  {
   "cell_type": "markdown",
   "metadata": {},
   "source": [
    "## `yield from <expression>`"
   ]
  },
  {
   "cell_type": "code",
   "execution_count": 4,
   "metadata": {},
   "outputs": [
    {
     "name": "stdout",
     "output_type": "stream",
     "text": [
      "['S', 'i', 'r', 'i', 'u', 's']\n",
      "['S', 'i', 'r', 'i', 'u', 's']\n"
     ]
    }
   ],
   "source": [
    "def gen_list1(arr):\n",
    "    for i in list(arr):\n",
    "        yield i\n",
    "\n",
    "def gen_list2(arr):\n",
    "    yield from list(arr)\n",
    "\n",
    "print(list(gen_list1(\"Sirius\")))\n",
    "print(list(gen_list2(\"Sirius\")))"
   ]
  },
  {
   "cell_type": "code",
   "execution_count": 8,
   "metadata": {},
   "outputs": [
    {
     "data": {
      "text/plain": [
       "[6, 10]"
      ]
     },
     "execution_count": 8,
     "metadata": {},
     "output_type": "execute_result"
    }
   ],
   "source": [
    "def acc():\n",
    "    count = 0\n",
    "    while True:\n",
    "        next = yield\n",
    "        if next is None:\n",
    "            return count\n",
    "        count += next\n",
    "\n",
    "def gather(groups):\n",
    "    while True:\n",
    "        group = yield from acc()\n",
    "        groups.append(group)\n",
    "\n",
    "groups = []\n",
    "g = gather(groups)\n",
    "\n",
    "next(g)\n",
    "for i in range(4):\n",
    "    g.send(i)\n",
    "g.send(None)\n",
    "\n",
    "for i in range(5):\n",
    "    g.send(i)\n",
    "g.send(None)\n",
    "\n",
    "groups"
   ]
  },
  {
   "cell_type": "markdown",
   "metadata": {},
   "source": [
    "## Ограничения генераторов"
   ]
  },
  {
   "cell_type": "markdown",
   "metadata": {},
   "source": [
    "1. краткая форма не может быть записана без круглых скобок\n",
    "2. генераторы не поддерживают получение длины (функция `len`)\n",
    "3. не поддерживают получение элементов по индексу\n",
    "4. не поддерживают операции среза\n",
    "5. после использования/итерации остается пустым"
   ]
  },
  {
   "cell_type": "code",
   "execution_count": null,
   "metadata": {},
   "outputs": [],
   "source": [
    "open(\"input.txt\", mode=\"\")"
   ]
  }
 ],
 "metadata": {
  "kernelspec": {
   "display_name": "Python 3",
   "language": "python",
   "name": "python3"
  },
  "language_info": {
   "codemirror_mode": {
    "name": "ipython",
    "version": 3
   },
   "file_extension": ".py",
   "mimetype": "text/x-python",
   "name": "python",
   "nbconvert_exporter": "python",
   "pygments_lexer": "ipython3",
   "version": "3.12.3"
  }
 },
 "nbformat": 4,
 "nbformat_minor": 2
}
