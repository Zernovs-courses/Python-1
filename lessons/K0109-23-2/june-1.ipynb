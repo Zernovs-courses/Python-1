{
 "cells": [
  {
   "cell_type": "markdown",
   "metadata": {},
   "source": [
    "8. _N_ кеглей выставили в один ряд, занумеровав их слева направо числами от _1_ до _N_. Затем по этому ряду бросили _K_ шаров, при этом _i_-й шар сбил все кегли с номерами от $l_i$ до $r_i$ включительно. Определите, какие кегли остались стоять на месте.\n",
    "   \n",
    "\tПрограмма получает на вход количество кеглей _N_ и количество бросков _K_. Далее идет _K_ пар чисел $l_i$, $r_i$, при этом $1≤ l_i≤ r_i≤ N$.\n",
    "\n",
    "\tПрограмма должна вывести последовательность из _N_ символов, где _j_-й символ есть “`I`”, если _j_-я кегля осталась стоять, или “`.`”, если _j_-я кегля была сбита.\n",
    "\t\n",
    "\t**Входные данные**\n",
    "\t```\n",
    "\t10 3\n",
    "\t8 10\n",
    "\t2 5\n",
    "\t3 6\n",
    "\t```\n",
    "\t**Выходные данные**\n",
    "\t```\n",
    "\tI.....I...\n",
    "\t```"
   ]
  },
  {
   "cell_type": "code",
   "execution_count": 11,
   "metadata": {},
   "outputs": [
    {
     "name": "stdout",
     "output_type": "stream",
     "text": [
      "I.....I...\n"
     ]
    }
   ],
   "source": [
    "it = iter(\n",
    "    \"\"\"10 3\n",
    "8 10\n",
    "2 5\n",
    "3 6\"\"\".split(\"\\n\")\n",
    ")\n",
    "\n",
    "\n",
    "def input():\n",
    "    return next(it)\n",
    "\n",
    "\n",
    "# ------------------------------\n",
    "n, k = map(int, input().split())\n",
    "\n",
    "ans = [\"I\"] * n\n",
    "\n",
    "for _ in range(k):\n",
    "    l, r = map(int, input().split())  # noqa: E741\n",
    "    # for i in range(l - 1, r):\n",
    "    #     ans[i] = \".\"\n",
    "    ans[l - 1 : r] = [\".\"] * (r - l + 1)\n",
    "\n",
    "print(\"\".join(ans))"
   ]
  },
  {
   "cell_type": "markdown",
   "metadata": {},
   "source": [
    "Реализуйте функцию, которая принимает в качестве первого аргумента строку, а затем любое количество именованных аргументов. Именованные аргументы представляют собой множества. Принадлежность элемента к конкретному множеству определяется по первому символу имени аргумента. Найти объединение, пересечение или симметрическую разность полученных множеств."
   ]
  },
  {
   "cell_type": "code",
   "execution_count": 9,
   "metadata": {},
   "outputs": [
    {
     "name": "stdout",
     "output_type": "stream",
     "text": [
      "set()\n",
      "{1, 2}\n",
      "{1, 'a'}\n"
     ]
    }
   ],
   "source": [
    "def task(s: str, **kwargs):\n",
    "    if len(kwargs) == 0:\n",
    "        return set()\n",
    "\n",
    "    sets = dict()\n",
    "    for key, value in kwargs.items():\n",
    "        if key[0] in sets:\n",
    "            sets[key[0]].add(value)\n",
    "        else:\n",
    "            sets[key[0]] = {value}\n",
    "\n",
    "    sets = list(sets.values())\n",
    "\n",
    "    ans = sets[0]\n",
    "    for i in sets[1:]:\n",
    "        if s == \"AND\":\n",
    "            ans &= i\n",
    "        elif s == \"OR\":\n",
    "            ans |= i\n",
    "        elif s == \"XOR\":\n",
    "            ans ^= i\n",
    "\n",
    "    return ans\n",
    "\n",
    "\n",
    "print(task(\"AND\"))\n",
    "print(task(\"OR\", a1=1, a2=2, b1=1))\n",
    "print(task(\"XOR\", a1=0, a2=1, b1=0, c1=\"a\"))"
   ]
  },
  {
   "cell_type": "markdown",
   "metadata": {},
   "source": [
    "В генеалогическом древе у каждого человека, кроме родоначальника, есть ровно один родитель.\n",
    "В генеалогическом древе определите для двух элементов их наименьшего общего предка (Lowest Common Ancestor). Наименьшим общим предком элементов A и B является такой элемент C, что С является предком A, C является предком B, при этом глубина C является наибольшей из возможных. При этом элемент считается своим собственным предком.\n",
    "Программа получает на вход число элементов в генеалогическом древе `N`. Далее следует `N−1` строка, задающие родителя для каждого элемента древа, кроме родоначальника. Каждая строка имеет вид `имя_потомка имя_родителя`. Далее идет число запросов `K`. В каждой из следующих `K` строк, содержатся имена двух элементов дерева.\n",
    "Для каждого запроса выведите наименьшего общего предка данных элементов.\n",
    "**Входные данные**\n",
    "```\n",
    "9\n",
    "Alexei Peter_I\n",
    "Anna Peter_I\n",
    "Elizabeth Peter_I\n",
    "Peter_II Alexei\n",
    "Peter_III Anna\n",
    "Paul_I Peter_III\n",
    "Alexander_I Paul_I\n",
    "Nicholaus_I Paul_I\n",
    "3\n",
    "Anna Nicholaus_I\n",
    "Peter_II Peter_I\n",
    "Alexei Paul_I\n",
    "```\n",
    "**Выходные данные**\n",
    "```\n",
    "Paul_I\n",
    "Peter_I\n",
    "Anna\n",
    "```"
   ]
  },
  {
   "cell_type": "code",
   "execution_count": 14,
   "metadata": {},
   "outputs": [
    {
     "name": "stdout",
     "output_type": "stream",
     "text": [
      "{'Alexei': 'Peter_I', 'Peter_I': None, 'Anna': 'Peter_I', 'Elizabeth': 'Peter_I', 'Peter_II': 'Alexei', 'Peter_III': 'Anna', 'Paul_I': 'Peter_III', 'Alexander_I': 'Paul_I', 'Nicholaus_I': 'Paul_I'}\n",
      "['Anna', 'Peter_I'] ['Nicholaus_I', 'Paul_I', 'Peter_III', 'Anna', 'Peter_I']\n",
      "Anna\n",
      "['Peter_II', 'Alexei', 'Peter_I'] ['Peter_I']\n",
      "Peter_I\n",
      "['Alexei', 'Peter_I'] ['Paul_I', 'Peter_III', 'Anna', 'Peter_I']\n",
      "Peter_I\n"
     ]
    }
   ],
   "source": [
    "it = iter(\n",
    "    \"\"\"9\n",
    "Alexei Peter_I\n",
    "Anna Peter_I\n",
    "Elizabeth Peter_I\n",
    "Peter_II Alexei\n",
    "Peter_III Anna\n",
    "Paul_I Peter_III\n",
    "Alexander_I Paul_I\n",
    "Nicholaus_I Paul_I\n",
    "3\n",
    "Anna Nicholaus_I\n",
    "Peter_II Peter_I\n",
    "Alexei Paul_I\"\"\".split(\"\\n\")\n",
    ")\n",
    "\n",
    "\n",
    "def input():\n",
    "    return next(it)\n",
    "\n",
    "n = int(input())\n",
    "tree = dict()\n",
    "for _ in range(n - 1):\n",
    "    ch, par = input().split()\n",
    "    tree[ch] = par\n",
    "    if par not in tree:\n",
    "        tree[par] = None\n",
    "\n",
    "print(tree)\n",
    "\n",
    "k = int(input())\n",
    "for _ in range(k):\n",
    "    per1, per2 = input().split()\n",
    "\n",
    "    per1_ancestors = [per1]\n",
    "    while tree[per1]:\n",
    "        per1 = tree[per1]\n",
    "        per1_ancestors.append(per1)\n",
    "\n",
    "    per2_ancestors = [per2]\n",
    "    while tree[per2]:\n",
    "        per2 = tree[per2]\n",
    "        per2_ancestors.append(per2)\n",
    "\n",
    "    print(per1_ancestors, per2_ancestors)\n",
    "\n",
    "    for i in per1_ancestors:\n",
    "        for j in per2_ancestors:\n",
    "            if i == j:\n",
    "                print(i)\n",
    "                break\n",
    "        else:\n",
    "            continue\n",
    "        break\n",
    "    \n"
   ]
  }
 ],
 "metadata": {
  "kernelspec": {
   "display_name": "Python 3",
   "language": "python",
   "name": "python3"
  },
  "language_info": {
   "codemirror_mode": {
    "name": "ipython",
    "version": 3
   },
   "file_extension": ".py",
   "mimetype": "text/x-python",
   "name": "python",
   "nbconvert_exporter": "python",
   "pygments_lexer": "ipython3",
   "version": "3.12.3"
  }
 },
 "nbformat": 4,
 "nbformat_minor": 2
}
