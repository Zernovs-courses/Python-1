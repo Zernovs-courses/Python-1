{
 "cells": [
  {
   "cell_type": "code",
   "execution_count": 53,
   "metadata": {},
   "outputs": [
    {
     "name": "stdout",
     "output_type": "stream",
     "text": [
      "261235 0 0\n",
      "216235 1 2\n",
      "212635 1 3\n",
      "212365 1 4\n",
      "212356 1 5\n",
      "126235 2 0\n",
      "[126235, 2, 0]\n"
     ]
    },
    {
     "data": {
      "text/plain": [
       "True"
      ]
     },
     "execution_count": 53,
     "metadata": {},
     "output_type": "execute_result"
    }
   ],
   "source": [
    "def smallest(n):\n",
    "    arr = list(str(n))\n",
    "    # print(arr)\n",
    "\n",
    "    m = n\n",
    "    mi = 0\n",
    "    mj = 0\n",
    "    for i in range(len(arr)):\n",
    "        for j in range(len(arr)):\n",
    "            arr1 = arr\n",
    "            if i < j:\n",
    "                arr1 = arr[:i] + arr[i + 1 : j + 1] + [arr[i]] + arr[j + 1 :]\n",
    "            elif j < i:\n",
    "                arr1 = arr[:j] + [arr[i]] + arr[j:i] + arr[i + 1 :]\n",
    "            n1 = int(\"\".join(arr1))\n",
    "            # print(arr1, n1)\n",
    "            if n1 < m or n1 == m and i <= mi and j <= mj:\n",
    "                print(n1, i, j)\n",
    "                m = n1\n",
    "                mi = i\n",
    "                mj = j\n",
    "    print([m, mi, mj])\n",
    "    return [m, mi, mj]\n",
    "\n",
    "\n",
    "\n",
    "smallest(261235) == [126235, 2, 0]"
   ]
  },
  {
   "cell_type": "code",
   "execution_count": null,
   "metadata": {},
   "outputs": [],
   "source": []
  }
 ],
 "metadata": {
  "kernelspec": {
   "display_name": "Python 3",
   "language": "python",
   "name": "python3"
  },
  "language_info": {
   "codemirror_mode": {
    "name": "ipython",
    "version": 3
   },
   "file_extension": ".py",
   "mimetype": "text/x-python",
   "name": "python",
   "nbconvert_exporter": "python",
   "pygments_lexer": "ipython3",
   "version": "3.11.6"
  }
 },
 "nbformat": 4,
 "nbformat_minor": 2
}
