{
 "cells": [
  {
   "cell_type": "markdown",
   "metadata": {},
   "source": [
    "### Task\n",
    "Allocate customers to hotel rooms based on their arrival and departure days. Each customer wants their own room, so two customers can stay in the same room only if the departure day of the first customer is earlier than the arrival day of the second customer. The number of rooms used should be minimized.\n",
    "\n",
    "### Input\n",
    "A list or array of n customers, 1 <= n <= 1000. Each customer is represented by (arrival_day, departure_day), which are positive integers satisfying arrival_day <= departure_day.\n",
    "\n",
    "### Output\n",
    "A list or array of size n, where element i indicates the room that customer i was allocated. Rooms are numbered 1,2, ..., k for some 1 <= k <= n. Any allocation that minimizes the number of rooms k is a valid solution.\n",
    "\n",
    "### Example:\n",
    "Suppose customers is `[(1,5), (2,4), (6,8), (7,7)]`.\n",
    "Clearly customers 1 and 2 cannot get the same room. Customer 3 can use the some room as either of them, because they both leave before customer 3 arrives. Then customer 4 can be given the other room.\n",
    "So any of `[1,2,1,2], [1,2,2,1], [2,1,2,1], [2,1,1,2]` is a valid solution.\n",
    "\n",
    "NOTE: The list of customers is not necessarily ordered by arrival_time."
   ]
  },
  {
   "cell_type": "code",
   "execution_count": 16,
   "metadata": {},
   "outputs": [
    {
     "name": "stdout",
     "output_type": "stream",
     "text": [
      "3 4\n",
      "[False, False, False, False]\n",
      "[False, False, False, False]\n",
      "[False, False, False, False]\n",
      "1 2\n",
      "[True, True, False, False]\n",
      "[False, False, False, False]\n",
      "[False, False, False, False]\n",
      "2 4\n",
      "[True, True, False, False]\n",
      "[False, True, True, True]\n",
      "[False, False, False, False]\n",
      "4 4\n",
      "[True, True, False, True]\n",
      "[False, True, True, True]\n",
      "[False, False, False, False]\n",
      "------------------------\n",
      "4 8\n",
      "[False, False, False, False, False, False, False, False]\n",
      "[False, False, False, False, False, False, False, False]\n",
      "[False, False, False, False, False, False, False, False]\n",
      "[False, False, False, False, False, False, False, False]\n",
      "1 5\n",
      "[True, True, True, True, True, False, False, False]\n",
      "[False, False, False, False, False, False, False, False]\n",
      "[False, False, False, False, False, False, False, False]\n",
      "[False, False, False, False, False, False, False, False]\n",
      "2 4\n",
      "[True, True, True, True, True, False, False, False]\n",
      "[False, True, True, True, False, False, False, False]\n",
      "[False, False, False, False, False, False, False, False]\n",
      "[False, False, False, False, False, False, False, False]\n",
      "6 8\n",
      "[True, True, True, True, True, True, True, True]\n",
      "[False, True, True, True, False, False, False, False]\n",
      "[False, False, False, False, False, False, False, False]\n",
      "[False, False, False, False, False, False, False, False]\n",
      "7 7\n",
      "[True, True, True, True, True, True, True, True]\n",
      "[False, True, True, True, False, False, True, False]\n",
      "[False, False, False, False, False, False, False, False]\n",
      "[False, False, False, False, False, False, False, False]\n",
      "------------------------\n"
     ]
    },
    {
     "data": {
      "text/plain": [
       "([1, 2, 1], [1, 2, 1, 2])"
      ]
     },
     "execution_count": 16,
     "metadata": {},
     "output_type": "execute_result"
    }
   ],
   "source": [
    "def allocate_rooms(customers):\n",
    "    n = len(customers)\n",
    "    m = max(i[1] for i in customers)\n",
    "    print(n, m)\n",
    "\n",
    "    ans = []\n",
    "    schedule = [[False] * m for _ in range(n)]\n",
    "    print(*schedule, sep=\"\\n\")\n",
    "\n",
    "    for arrival, departure in customers:\n",
    "        # room = 0\n",
    "        # while schedule[room][arrival - 1]:\n",
    "        #     room += 1\n",
    "        room = next(i for i in range(m) if not schedule[i][arrival-1])\n",
    "        ans.append(room + 1)\n",
    "        schedule[room][arrival - 1 : departure] = [True] * (departure - arrival + 1)\n",
    "        print(arrival, departure)\n",
    "        print(*schedule, sep=\"\\n\")\n",
    "\n",
    "    print(\"------------------------\")\n",
    "    return ans\n",
    "\n",
    "\n",
    "allocate_rooms([(1, 2), (2, 4), (4, 4)]), allocate_rooms(\n",
    "    [(1, 5), (2, 4), (6, 8), (7, 7)]\n",
    ")"
   ]
  }
 ],
 "metadata": {
  "kernelspec": {
   "display_name": "Python 3",
   "language": "python",
   "name": "python3"
  },
  "language_info": {
   "codemirror_mode": {
    "name": "ipython",
    "version": 3
   },
   "file_extension": ".py",
   "mimetype": "text/x-python",
   "name": "python",
   "nbconvert_exporter": "python",
   "pygments_lexer": "ipython3",
   "version": "3.11.6"
  }
 },
 "nbformat": 4,
 "nbformat_minor": 2
}
