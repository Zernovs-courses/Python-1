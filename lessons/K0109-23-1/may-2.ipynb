{
 "cells": [
  {
   "cell_type": "code",
   "execution_count": 40,
   "metadata": {},
   "outputs": [
    {
     "name": "stdout",
     "output_type": "stream",
     "text": [
      "22\t23\t4\t5\t9\t2223\t4\n",
      "21\t24\t3\t6\t9\t2124\t4\n",
      "20\t25\t2\t7\t9\t2025\t3\n",
      "19\t26\t10\t8\t18\t1926\t4\n",
      "18\t27\t9\t9\t18\t1827\t4\n",
      "17\t28\t8\t10\t18\t1728\t4\n",
      "16\t29\t7\t11\t18\t1629\t4\n",
      "15\t30\t6\t3\t9\t1530\t3\n",
      "14\t31\t5\t4\t9\t1431\t4\n",
      "13\t32\t4\t5\t9\t1332\t4\n",
      "12\t33\t3\t6\t9\t1233\t4\n",
      "11\t34\t2\t7\t9\t1134\t4\n",
      "10\t35\t1\t8\t9\t1035\t3\n",
      "9\t36\t9\t9\t18\t936\t3\n",
      "8\t37\t8\t10\t18\t837\t3\n",
      "7\t38\t7\t11\t18\t738\t3\n",
      "6\t39\t6\t12\t18\t639\t3\n",
      "5\t40\t5\t4\t9\t540\t2\n",
      "4\t41\t4\t5\t9\t441\t3\n",
      "3\t42\t3\t6\t9\t342\t3\n",
      "2\t43\t2\t7\t9\t243\t3\n",
      "1\t44\t1\t8\t9\t144\t3\n",
      "0\t45\t0\t9\t9\t045\t2\n",
      "23 22 9\n",
      "22 23 9\n",
      "21 24 9\n",
      "20 25 9\n"
     ]
    },
    {
     "data": {
      "text/plain": [
       "9"
      ]
     },
     "execution_count": 40,
     "metadata": {},
     "output_type": "execute_result"
    }
   ],
   "source": [
    "def DigitSum(n):\n",
    "    return sum(map(int, list(str(n))))\n",
    "\n",
    "\n",
    "def nonzero_digits(a, b):\n",
    "    return len([i for i in str(a) + str(b) if i != \"0\"])\n",
    "\n",
    "\n",
    "def solve(n):\n",
    "    for a in range(n // 2, -1, -1):\n",
    "        s = str(a) + str(n - a)\n",
    "        print(\n",
    "            a,\n",
    "            n - a,\n",
    "            DigitSum(a),\n",
    "            DigitSum(n - a),\n",
    "            DigitSum(a) + DigitSum(n - a),\n",
    "            s,\n",
    "            len([i for i in s if i != '0']),\n",
    "            sep=\"\\t\",\n",
    "        )\n",
    "    a = n // 2 + 1\n",
    "    b = n - a\n",
    "    m = DigitSum(a) + DigitSum(b)\n",
    "    print(a, b, m)\n",
    "    while nonzero_digits(a, b) >= nonzero_digits(a - 1, b + 1):\n",
    "        a -= 1\n",
    "        b += 1\n",
    "        if DigitSum(a) + DigitSum(b) > m:\n",
    "            m = DigitSum(a) + DigitSum(b)\n",
    "        print(a, b, m)\n",
    "\n",
    "    return m\n",
    "\n",
    "\n",
    "solve(45)"
   ]
  },
  {
   "cell_type": "code",
   "execution_count": null,
   "metadata": {},
   "outputs": [],
   "source": [
    "def solve(n):\n",
    "    \"\"\"\n",
    "    Given an integer n, find two integers a and b such that:\n",
    "\n",
    "    A) a >= 0 and b >= 0\n",
    "    B) a + b = n\n",
    "    C) DigitSum(a) + Digitsum(b) is maximum of all possibilities.\n",
    "    You will return the digitSum(a) + digitsum(b).\n",
    "    \"\"\""
   ]
  },
  {
   "cell_type": "code",
   "execution_count": null,
   "metadata": {},
   "outputs": [
    {
     "name": "stdout",
     "output_type": "stream",
     "text": [
      "1.15 µs ± 8.84 ns per loop (mean ± std. dev. of 7 runs, 1,000,000 loops each)\n"
     ]
    }
   ],
   "source": []
  },
  {
   "cell_type": "code",
   "execution_count": null,
   "metadata": {},
   "outputs": [
    {
     "name": "stdout",
     "output_type": "stream",
     "text": [
      "1.15 µs ± 8.84 ns per loop (mean ± std. dev. of 7 runs, 1,000,000 loops each)\n"
     ]
    }
   ],
   "source": []
  }
 ],
 "metadata": {
  "kernelspec": {
   "display_name": "Python 3",
   "language": "python",
   "name": "python3"
  },
  "language_info": {
   "codemirror_mode": {
    "name": "ipython",
    "version": 3
   },
   "file_extension": ".py",
   "mimetype": "text/x-python",
   "name": "python",
   "nbconvert_exporter": "python",
   "pygments_lexer": "ipython3",
   "version": "3.11.6"
  }
 },
 "nbformat": 4,
 "nbformat_minor": 2
}
