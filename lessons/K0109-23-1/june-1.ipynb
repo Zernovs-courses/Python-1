{
 "cells": [
  {
   "cell_type": "markdown",
   "metadata": {},
   "source": [
    "25. Учительница задала Пете домашнее задание — в заданном тексте расставить ударения в словах, после чего поручила Васе проверить это домашнее задание. Вася очень плохо знаком с данной темой, поэтому он нашел словарь, в котором указано, как ставятся ударения в словах. К сожалению, в этом словаре присутствуют не все слова. Вася решил, что в словах, которых нет в словаре, он будет считать, что Петя поставил ударения правильно, если в этом слове Петей поставлено ровно одно ударение.\n",
    "    \n",
    "\tОказалось, что в некоторых словах ударение может быть поставлено больше, чем одним способом. Вася решил, что в этом случае если то, как Петя поставил ударение, соответствует одному из приведенных в словаре вариантов, он будет засчитывать это как правильную расстановку ударения, а если не соответствует, то как ошибку.\n",
    "\tВам дан словарь, которым пользовался Вася и домашнее задание, сданное Петей. Ваша задача — определить количество ошибок, которое в этом задании насчитает Вася.\n",
    "\n",
    "\tВводится сначала число `N` — количество слов в словаре.\n",
    "\n",
    "\tДалее идет N строк со словами из словаря. Каждое слово состоит не более чем из 30 символов. Все слова состоят из маленьких и заглавных латинских букв. В каждом слове заглавная ровно одна буква — та, на которую попадает ударение. Слова в словаре расположены в алфавитном порядке. Если есть несколько возможностей расстановки ударения в одном и том же слове, то эти варианты в словаре идут в произвольном порядке.\n",
    "\n",
    "\tДалее идет упражнение, выполненное Петей. Упражнение представляет собой строку текста, суммарным объемом не более 300000 символов. Строка состоит из слов, которые разделяются между собой ровно одним пробелом. Длина каждого слова не превышает 30 символов. Все слова состоят из маленьких и заглавных латинских букв (заглавными обозначены те буквы, над которыми Петя поставил ударение). Петя мог по ошибке в каком-то слове поставить более одного ударения или не поставить ударения вовсе.\n",
    "\t\n",
    "\tВыведите количество ошибок в Петином тексте, которые найдет Вася.\n",
    "\t\n",
    "\t**Входные данные**\n",
    "\t```\n",
    "\t4\n",
    "\tcAnnot\n",
    "\tcannOt\n",
    "\tfOund\n",
    "\tpAge\n",
    "\tthE pAge cAnnot be found\n",
    "\t```\n",
    "\t**Выходные данные**\n",
    "\t```\n",
    "\t2\n",
    "\t```"
   ]
  },
  {
   "cell_type": "code",
   "execution_count": 14,
   "metadata": {},
   "outputs": [
    {
     "name": "stdout",
     "output_type": "stream",
     "text": [
      "4\n"
     ]
    }
   ],
   "source": [
    "it = iter(\n",
    "    \"\"\"4\n",
    "cAnnot\n",
    "cannOt\n",
    "fOund\n",
    "pAge\n",
    "thE pAge cAnnot be found\"\"\".split(\"\\n\")\n",
    ")\n",
    "it = iter(\n",
    "    [\n",
    "        \"4\",\n",
    "        \"cAnnot\",\n",
    "        \"cannOt\",\n",
    "        \"fOund\",\n",
    "        \"pAge\",\n",
    "        \"The PAGE cannot be found\",\n",
    "    ]\n",
    ")\n",
    "input = lambda: next(it)  # noqa: E731\n",
    "\n",
    "\n",
    "def count_upper(s: str):\n",
    "    count = 0\n",
    "    for i in s:\n",
    "        if i.isupper():\n",
    "            count += 1\n",
    "    return count\n",
    "\n",
    "\n",
    "n = int(input())\n",
    "\n",
    "dictionary = dict()\n",
    "for _ in range(n):\n",
    "    s = input()\n",
    "\n",
    "    if s.lower() in dictionary:\n",
    "        # dictionary[s.lower()].update({s})\n",
    "        dictionary[s.lower()] |= {s}\n",
    "    else:\n",
    "        dictionary[s.lower()] = {s}\n",
    "\n",
    "count = 0\n",
    "text = input().split()\n",
    "for word in text:\n",
    "    if word.lower() in dictionary:\n",
    "        if word not in dictionary[word.lower()]:\n",
    "            count += 1\n",
    "    else:\n",
    "        # g = sum(1 for i in word if i.isupper())\n",
    "        c = count_upper(word)\n",
    "        if c == 1:\n",
    "            dictionary[word.lower()] = {word}\n",
    "        else:\n",
    "            count += 1\n",
    "\n",
    "print(count)"
   ]
  },
  {
   "cell_type": "code",
   "execution_count": null,
   "metadata": {},
   "outputs": [],
   "source": [
    "{\"cannot\": {\"cAnnot\", \"cannOt\"}}"
   ]
  },
  {
   "cell_type": "markdown",
   "metadata": {},
   "source": [
    "31. Реализуйте функцию, которая принимает в качестве первого аргумента строку, а затем любое количество именованных аргументов. Именованные аргументы представляют собой множества. Принадлежность элемента к конкретному множеству определяется по первому символу имени аргумента. Найти объединение, пересечение или симметрическую разность полученных множеств."
   ]
  },
  {
   "cell_type": "code",
   "execution_count": 19,
   "metadata": {},
   "outputs": [
    {
     "name": "stdout",
     "output_type": "stream",
     "text": [
      "{}\n",
      "[]\n",
      "set()\n",
      "{'a': {0, 1}, 'b': {3}}\n",
      "[{0, 1}, {3}]\n",
      "{0, 1, 3}\n",
      "{'a': {0, 1}, 'b': {0}, 'c': {'a'}}\n",
      "[{0, 1}, {0}, {'a'}]\n",
      "{1, 'a'}\n"
     ]
    }
   ],
   "source": [
    "def task(s: str, **kwargs):\n",
    "    # собираем множества вместе\n",
    "    sets = dict()\n",
    "    for key, value in kwargs.items():\n",
    "        if key[0] in sets:\n",
    "            sets[key[0]] |= {value}\n",
    "        else:\n",
    "            sets[key[0]] = {value}\n",
    "\n",
    "    print(sets)\n",
    "    sets = list(sets.values())\n",
    "    print(sets)\n",
    "\n",
    "    if len(sets) == 0:\n",
    "        return set()\n",
    "\n",
    "    # выполняем требуемую операцию\n",
    "    match s:\n",
    "        case \"AND\":\n",
    "            ans = sets[0]\n",
    "            for i in sets[1:]:\n",
    "                ans &= i\n",
    "        case \"OR\":\n",
    "            ans = set()\n",
    "            for i in sets:\n",
    "                ans |= i\n",
    "        case \"XOR\":\n",
    "            ans = set()\n",
    "            for i in sets:\n",
    "                ans ^= i\n",
    "        case _:\n",
    "            return\n",
    "\n",
    "    return ans\n",
    "\n",
    "\n",
    "print(task(\"AND\"))\n",
    "print(task(\"OR\", a1=0, a2=1, b1=3))\n",
    "print(task(\"XOR\", a1=0, a2=1, b1=0, c1=\"a\"))"
   ]
  }
 ],
 "metadata": {
  "kernelspec": {
   "display_name": "Python 3",
   "language": "python",
   "name": "python3"
  },
  "language_info": {
   "codemirror_mode": {
    "name": "ipython",
    "version": 3
   },
   "file_extension": ".py",
   "mimetype": "text/x-python",
   "name": "python",
   "nbconvert_exporter": "python",
   "pygments_lexer": "ipython3",
   "version": "3.12.3"
  }
 },
 "nbformat": 4,
 "nbformat_minor": 2
}
