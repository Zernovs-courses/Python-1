{
 "cells": [
  {
   "cell_type": "markdown",
   "metadata": {},
   "source": [
    "# Словари (dict)"
   ]
  },
  {
   "cell_type": "markdown",
   "metadata": {},
   "source": [
    "Структура данных, позволяющая идентифицировать ее элементы не по числовому индексу, а по произвольному, называется **словарем** или **ассоциативным массивом**.\n",
    "\n",
    "```python\n",
    "{<ключ1>: <значение1>, <ключ2>: <значение2>, ...}"
   ]
  },
  {
   "cell_type": "code",
   "execution_count": null,
   "metadata": {},
   "outputs": [],
   "source": []
  },
  {
   "cell_type": "code",
   "execution_count": 2,
   "metadata": {},
   "outputs": [
    {
     "name": "stdout",
     "output_type": "stream",
     "text": [
      "{'USA': 'Washington DC', 'India': 'New Delhi', 'China': 'Beijing', 'Russia': 'Moscow'}\n",
      "Washington DC\n"
     ]
    }
   ],
   "source": [
    "capitals = {\n",
    "    'USA': 'Washington DC',\n",
    "    'India': 'New Delhi',\n",
    "    'China': 'Beijing',\n",
    "    'Russia': 'Moscow'\n",
    "}\n",
    "\n",
    "print(capitals)\n",
    "\n",
    "print(capitals['USA'])"
   ]
  },
  {
   "cell_type": "code",
   "execution_count": 4,
   "metadata": {},
   "outputs": [
    {
     "name": "stdout",
     "output_type": "stream",
     "text": [
      "{'USA': 'Washington DC', 'India': 'New Delhi', 'China': 'Beijing', 'Russia': 'Moscow'}\n"
     ]
    }
   ],
   "source": [
    "capitals = dict()\n",
    "\n",
    "capitals['USA'] = 'Washington DC'\n",
    "capitals['India'] = 'New Delhi'\n",
    "capitals['China'] = 'Beijing'\n",
    "capitals['Russia'] = 'Moscow'\n",
    "\n",
    "print(capitals)"
   ]
  },
  {
   "cell_type": "markdown",
   "metadata": {},
   "source": [
    "* Подсчет значений (частотный анализ). Ключи - сами значения, значения - количество повторений.\n",
    "* Хранение связанных данных. Ключи - сами значения, значения - другие значения. Например, название месяца и порядковы номер месяца.\n",
    "* Установка соответствия между объектами (родитель-потомок)\n",
    "* Замена обычного списка, если значение максимального индекса велико, но не все индексы будут использоваться. "
   ]
  },
  {
   "cell_type": "code",
   "execution_count": 6,
   "metadata": {},
   "outputs": [],
   "source": [
    "capitals = dict(\n",
    "    [\n",
    "        (\"USA\", \"Washington DC\"),\n",
    "        (\"India\", \"New Delhi\"),\n",
    "        (\"China\", \"Beijing\"),\n",
    "        (\"Russia\", \"Moscow\"),\n",
    "    ]\n",
    ")"
   ]
  },
  {
   "cell_type": "code",
   "execution_count": 9,
   "metadata": {},
   "outputs": [
    {
     "data": {
      "text/plain": [
       "{'USA': 'Washington DC',\n",
       " 'India': 'New Delhi',\n",
       " 'China': 'Beijing',\n",
       " 'Russia': 'Moscow'}"
      ]
     },
     "execution_count": 9,
     "metadata": {},
     "output_type": "execute_result"
    }
   ],
   "source": [
    "dict(zip(\n",
    "    [\"USA\", \"India\", \"China\", \"Russia\"],\n",
    "    [\"Washington DC\", \"New Delhi\", \"Beijing\", \"Moscow\"],\n",
    "))"
   ]
  },
  {
   "cell_type": "code",
   "execution_count": 10,
   "metadata": {},
   "outputs": [
    {
     "data": {
      "text/plain": [
       "{'USA': 'Washington',\n",
       " 'India': 'New Delhi',\n",
       " 'China': 'Beijing',\n",
       " 'Russia': 'Moscow'}"
      ]
     },
     "execution_count": 10,
     "metadata": {},
     "output_type": "execute_result"
    }
   ],
   "source": [
    "dict(zip(\n",
    "    [\"USA\", \"India\", \"China\", \"Russia\", \"USA\"],\n",
    "    [\"Washington DC\", \"New Delhi\", \"Beijing\", \"Moscow\", \"Washington\"],\n",
    "))"
   ]
  },
  {
   "cell_type": "code",
   "execution_count": 11,
   "metadata": {},
   "outputs": [
    {
     "data": {
      "text/plain": [
       "{'USA': 'Washington DC',\n",
       " 'India': 'New Delhi',\n",
       " 'China': 'Beijing',\n",
       " 'Russia': 'Moscow'}"
      ]
     },
     "execution_count": 11,
     "metadata": {},
     "output_type": "execute_result"
    }
   ],
   "source": [
    "dict(USA=\"Washington DC\", India=\"New Delhi\", China=\"Beijing\", Russia=\"Moscow\")"
   ]
  },
  {
   "cell_type": "markdown",
   "metadata": {},
   "source": [
    "## Работа с элементами словаря"
   ]
  },
  {
   "cell_type": "code",
   "execution_count": 12,
   "metadata": {},
   "outputs": [
    {
     "data": {
      "text/plain": [
       "'Moscow'"
      ]
     },
     "execution_count": 12,
     "metadata": {},
     "output_type": "execute_result"
    }
   ],
   "source": [
    "capitals = {\n",
    "    'USA': 'Washington DC',\n",
    "    'India': 'New Delhi',\n",
    "    'China': 'Beijing',\n",
    "    'Russia': 'Moscow'\n",
    "}\n",
    "\n",
    "capitals['Russia']"
   ]
  },
  {
   "cell_type": "code",
   "execution_count": 13,
   "metadata": {},
   "outputs": [
    {
     "ename": "KeyError",
     "evalue": "'UK'",
     "output_type": "error",
     "traceback": [
      "\u001b[0;31m---------------------------------------------------------------------------\u001b[0m",
      "\u001b[0;31mKeyError\u001b[0m                                  Traceback (most recent call last)",
      "Cell \u001b[0;32mIn[13], line 8\u001b[0m\n\u001b[1;32m      1\u001b[0m capitals \u001b[38;5;241m=\u001b[39m {\n\u001b[1;32m      2\u001b[0m     \u001b[38;5;124m'\u001b[39m\u001b[38;5;124mUSA\u001b[39m\u001b[38;5;124m'\u001b[39m: \u001b[38;5;124m'\u001b[39m\u001b[38;5;124mWashington DC\u001b[39m\u001b[38;5;124m'\u001b[39m,\n\u001b[1;32m      3\u001b[0m     \u001b[38;5;124m'\u001b[39m\u001b[38;5;124mIndia\u001b[39m\u001b[38;5;124m'\u001b[39m: \u001b[38;5;124m'\u001b[39m\u001b[38;5;124mNew Delhi\u001b[39m\u001b[38;5;124m'\u001b[39m,\n\u001b[1;32m      4\u001b[0m     \u001b[38;5;124m'\u001b[39m\u001b[38;5;124mChina\u001b[39m\u001b[38;5;124m'\u001b[39m: \u001b[38;5;124m'\u001b[39m\u001b[38;5;124mBeijing\u001b[39m\u001b[38;5;124m'\u001b[39m,\n\u001b[1;32m      5\u001b[0m     \u001b[38;5;124m'\u001b[39m\u001b[38;5;124mRussia\u001b[39m\u001b[38;5;124m'\u001b[39m: \u001b[38;5;124m'\u001b[39m\u001b[38;5;124mMoscow\u001b[39m\u001b[38;5;124m'\u001b[39m\n\u001b[1;32m      6\u001b[0m }\n\u001b[0;32m----> 8\u001b[0m \u001b[43mcapitals\u001b[49m\u001b[43m[\u001b[49m\u001b[38;5;124;43m'\u001b[39;49m\u001b[38;5;124;43mUK\u001b[39;49m\u001b[38;5;124;43m'\u001b[39;49m\u001b[43m]\u001b[49m\n",
      "\u001b[0;31mKeyError\u001b[0m: 'UK'"
     ]
    }
   ],
   "source": [
    "capitals = {\n",
    "    'USA': 'Washington DC',\n",
    "    'India': 'New Delhi',\n",
    "    'China': 'Beijing',\n",
    "    'Russia': 'Moscow'\n",
    "}\n",
    "\n",
    "capitals['UK']"
   ]
  },
  {
   "cell_type": "code",
   "execution_count": 15,
   "metadata": {},
   "outputs": [
    {
     "data": {
      "text/plain": [
       "'Petersburg'"
      ]
     },
     "execution_count": 15,
     "metadata": {},
     "output_type": "execute_result"
    }
   ],
   "source": [
    "capitals = {\n",
    "    'USA': 'Washington DC',\n",
    "    'India': 'New Delhi',\n",
    "    'China': 'Beijing',\n",
    "    'Russia': 'Moscow'\n",
    "}\n",
    "\n",
    "capitals['Russia'] = 'Petersburg'\n",
    "capitals['Russia']"
   ]
  },
  {
   "cell_type": "code",
   "execution_count": 16,
   "metadata": {},
   "outputs": [
    {
     "data": {
      "text/plain": [
       "'London'"
      ]
     },
     "execution_count": 16,
     "metadata": {},
     "output_type": "execute_result"
    }
   ],
   "source": [
    "capitals = {\n",
    "    'USA': 'Washington DC',\n",
    "    'India': 'New Delhi',\n",
    "    'China': 'Beijing',\n",
    "    'Russia': 'Moscow'\n",
    "}\n",
    "\n",
    "capitals['UK'] = 'London'\n",
    "capitals['UK']"
   ]
  },
  {
   "cell_type": "code",
   "execution_count": 18,
   "metadata": {},
   "outputs": [
    {
     "data": {
      "text/plain": [
       "'Washington DC'"
      ]
     },
     "execution_count": 18,
     "metadata": {},
     "output_type": "execute_result"
    }
   ],
   "source": [
    "capitals = {\n",
    "    'USA': 'Washington DC',\n",
    "    'India': 'New Delhi',\n",
    "    'China': 'Beijing',\n",
    "    'Russia': 'Moscow'\n",
    "}\n",
    "\n",
    "capitals.get(\"USA\")"
   ]
  },
  {
   "cell_type": "code",
   "execution_count": 19,
   "metadata": {},
   "outputs": [],
   "source": [
    "capitals = {\n",
    "    'USA': 'Washington DC',\n",
    "    'India': 'New Delhi',\n",
    "    'China': 'Beijing',\n",
    "    'Russia': 'Moscow'\n",
    "}\n",
    "\n",
    "capitals.get(\"UK\")"
   ]
  },
  {
   "cell_type": "code",
   "execution_count": 23,
   "metadata": {},
   "outputs": [
    {
     "data": {
      "text/plain": [
       "-1"
      ]
     },
     "execution_count": 23,
     "metadata": {},
     "output_type": "execute_result"
    }
   ],
   "source": [
    "capitals = {\n",
    "    'USA': 'Washington DC',\n",
    "    'India': 'New Delhi',\n",
    "    'China': 'Beijing',\n",
    "    'Russia': 'Moscow'\n",
    "}\n",
    "\n",
    "capitals.get(\"UK\", -1)"
   ]
  },
  {
   "cell_type": "code",
   "execution_count": 29,
   "metadata": {},
   "outputs": [
    {
     "data": {
      "text/plain": [
       "('k', 18)"
      ]
     },
     "execution_count": 29,
     "metadata": {},
     "output_type": "execute_result"
    }
   ],
   "source": [
    "s = \"dghklakjfhklal;kdlfjoihfkl;dajjkfslkdfbjhjkdls;jsdhokahdsjfmknjkdabvjfhioapkdnfjbdioalskjnfdkjbhdojalkxncbhkjdlkanebjduioscljxkz,.s\"\n",
    "\n",
    "d = dict()\n",
    "for i in s:\n",
    "    d[i] = d.get(i, 0) + 1\n",
    "\n",
    "max(d.items(), key=lambda x: x[1])"
   ]
  },
  {
   "cell_type": "code",
   "execution_count": 31,
   "metadata": {},
   "outputs": [
    {
     "data": {
      "text/plain": [
       "{'India': 'New Delhi', 'China': 'Beijing', 'Russia': 'Moscow'}"
      ]
     },
     "execution_count": 31,
     "metadata": {},
     "output_type": "execute_result"
    }
   ],
   "source": [
    "capitals = {\n",
    "    'USA': 'Washington DC',\n",
    "    'India': 'New Delhi',\n",
    "    'China': 'Beijing',\n",
    "    'Russia': 'Moscow'\n",
    "}\n",
    "\n",
    "del capitals['USA']\n",
    "capitals"
   ]
  },
  {
   "cell_type": "code",
   "execution_count": 32,
   "metadata": {},
   "outputs": [
    {
     "ename": "KeyError",
     "evalue": "'UK'",
     "output_type": "error",
     "traceback": [
      "\u001b[0;31m---------------------------------------------------------------------------\u001b[0m",
      "\u001b[0;31mKeyError\u001b[0m                                  Traceback (most recent call last)",
      "Cell \u001b[0;32mIn[32], line 8\u001b[0m\n\u001b[1;32m      1\u001b[0m capitals \u001b[38;5;241m=\u001b[39m {\n\u001b[1;32m      2\u001b[0m     \u001b[38;5;124m'\u001b[39m\u001b[38;5;124mUSA\u001b[39m\u001b[38;5;124m'\u001b[39m: \u001b[38;5;124m'\u001b[39m\u001b[38;5;124mWashington DC\u001b[39m\u001b[38;5;124m'\u001b[39m,\n\u001b[1;32m      3\u001b[0m     \u001b[38;5;124m'\u001b[39m\u001b[38;5;124mIndia\u001b[39m\u001b[38;5;124m'\u001b[39m: \u001b[38;5;124m'\u001b[39m\u001b[38;5;124mNew Delhi\u001b[39m\u001b[38;5;124m'\u001b[39m,\n\u001b[1;32m      4\u001b[0m     \u001b[38;5;124m'\u001b[39m\u001b[38;5;124mChina\u001b[39m\u001b[38;5;124m'\u001b[39m: \u001b[38;5;124m'\u001b[39m\u001b[38;5;124mBeijing\u001b[39m\u001b[38;5;124m'\u001b[39m,\n\u001b[1;32m      5\u001b[0m     \u001b[38;5;124m'\u001b[39m\u001b[38;5;124mRussia\u001b[39m\u001b[38;5;124m'\u001b[39m: \u001b[38;5;124m'\u001b[39m\u001b[38;5;124mMoscow\u001b[39m\u001b[38;5;124m'\u001b[39m\n\u001b[1;32m      6\u001b[0m }\n\u001b[0;32m----> 8\u001b[0m \u001b[38;5;28;01mdel\u001b[39;00m \u001b[43mcapitals\u001b[49m\u001b[43m[\u001b[49m\u001b[38;5;124;43m'\u001b[39;49m\u001b[38;5;124;43mUK\u001b[39;49m\u001b[38;5;124;43m'\u001b[39;49m\u001b[43m]\u001b[49m\n\u001b[1;32m      9\u001b[0m capitals\n",
      "\u001b[0;31mKeyError\u001b[0m: 'UK'"
     ]
    }
   ],
   "source": [
    "capitals = {\n",
    "    'USA': 'Washington DC',\n",
    "    'India': 'New Delhi',\n",
    "    'China': 'Beijing',\n",
    "    'Russia': 'Moscow'\n",
    "}\n",
    "\n",
    "del capitals['UK']\n",
    "capitals"
   ]
  },
  {
   "cell_type": "code",
   "execution_count": 34,
   "metadata": {},
   "outputs": [
    {
     "data": {
      "text/plain": [
       "('Washington DC',\n",
       " {'India': 'New Delhi', 'China': 'Beijing', 'Russia': 'Moscow'})"
      ]
     },
     "execution_count": 34,
     "metadata": {},
     "output_type": "execute_result"
    }
   ],
   "source": [
    "capitals = {\n",
    "    'USA': 'Washington DC',\n",
    "    'India': 'New Delhi',\n",
    "    'China': 'Beijing',\n",
    "    'Russia': 'Moscow'\n",
    "}\n",
    "\n",
    "capitals.pop('USA'), capitals"
   ]
  },
  {
   "cell_type": "code",
   "execution_count": 37,
   "metadata": {},
   "outputs": [
    {
     "data": {
      "text/plain": [
       "(None,\n",
       " {'USA': 'Washington DC',\n",
       "  'India': 'New Delhi',\n",
       "  'China': 'Beijing',\n",
       "  'Russia': 'Moscow'})"
      ]
     },
     "execution_count": 37,
     "metadata": {},
     "output_type": "execute_result"
    }
   ],
   "source": [
    "capitals = {\n",
    "    'USA': 'Washington DC',\n",
    "    'India': 'New Delhi',\n",
    "    'China': 'Beijing',\n",
    "    'Russia': 'Moscow'\n",
    "}\n",
    "\n",
    "capitals.pop('UK', None), capitals"
   ]
  },
  {
   "cell_type": "markdown",
   "metadata": {},
   "source": [
    "## Перебор элементов словаря"
   ]
  },
  {
   "cell_type": "code",
   "execution_count": 39,
   "metadata": {},
   "outputs": [
    {
     "name": "stdout",
     "output_type": "stream",
     "text": [
      "USA Washington DC\n",
      "India New Delhi\n",
      "China Beijing\n",
      "Russia Moscow\n"
     ]
    }
   ],
   "source": [
    "capitals = {\n",
    "    'USA': 'Washington DC',\n",
    "    'India': 'New Delhi',\n",
    "    'China': 'Beijing',\n",
    "    'Russia': 'Moscow'\n",
    "}\n",
    "\n",
    "for country in capitals:\n",
    "    print(country, capitals[country])"
   ]
  },
  {
   "cell_type": "code",
   "execution_count": 41,
   "metadata": {},
   "outputs": [
    {
     "name": "stdout",
     "output_type": "stream",
     "text": [
      "dict_keys(['USA', 'India', 'China', 'Russia'])\n",
      "USA Washington DC\n",
      "India New Delhi\n",
      "China Beijing\n",
      "Russia Moscow\n"
     ]
    }
   ],
   "source": [
    "capitals = {\n",
    "    'USA': 'Washington DC',\n",
    "    'India': 'New Delhi',\n",
    "    'China': 'Beijing',\n",
    "    'Russia': 'Moscow'\n",
    "}\n",
    "\n",
    "print(capitals.keys())\n",
    "for country in capitals.keys():\n",
    "    print(country, capitals[country])"
   ]
  },
  {
   "cell_type": "code",
   "execution_count": 42,
   "metadata": {},
   "outputs": [
    {
     "name": "stdout",
     "output_type": "stream",
     "text": [
      "dict_values(['Washington DC', 'New Delhi', 'Beijing', 'Moscow'])\n",
      "Washington DC\n",
      "New Delhi\n",
      "Beijing\n",
      "Moscow\n"
     ]
    }
   ],
   "source": [
    "capitals = {\n",
    "    'USA': 'Washington DC',\n",
    "    'India': 'New Delhi',\n",
    "    'China': 'Beijing',\n",
    "    'Russia': 'Moscow'\n",
    "}\n",
    "\n",
    "print(capitals.values())\n",
    "for capital in capitals.values():\n",
    "    print(capital)"
   ]
  },
  {
   "cell_type": "code",
   "execution_count": 46,
   "metadata": {},
   "outputs": [
    {
     "name": "stdout",
     "output_type": "stream",
     "text": [
      "dict_items([('USA', 'Washington DC'), ('India', 'New Delhi'), ('China', 'Beijing'), ('Russia', 'Moscow')])\n",
      "USA Washington DC\n",
      "India New Delhi\n",
      "China Beijing\n",
      "Russia Moscow\n"
     ]
    }
   ],
   "source": [
    "capitals = {\n",
    "    'USA': 'Washington DC',\n",
    "    'India': 'New Delhi',\n",
    "    'China': 'Beijing',\n",
    "    'Russia': 'Moscow'\n",
    "}\n",
    "\n",
    "print(capitals.items())\n",
    "for k, v in capitals.items():\n",
    "    print(k, v)"
   ]
  },
  {
   "cell_type": "code",
   "execution_count": 47,
   "metadata": {},
   "outputs": [
    {
     "data": {
      "text/plain": [
       "[('USA', 'Washington DC'),\n",
       " ('India', 'New Delhi'),\n",
       " ('China', 'Beijing'),\n",
       " ('Russia', 'Moscow')]"
      ]
     },
     "execution_count": 47,
     "metadata": {},
     "output_type": "execute_result"
    }
   ],
   "source": [
    "list(capitals.items())"
   ]
  },
  {
   "cell_type": "code",
   "execution_count": 51,
   "metadata": {},
   "outputs": [
    {
     "data": {
      "text/plain": [
       "{'USA': 'Washington DC',\n",
       " 'India': 'New Delhi',\n",
       " 'China': 'Beijing',\n",
       " 'Russia': 'Moscow',\n",
       " 21: 'London',\n",
       " (1, 2, 3): 'Moscow'}"
      ]
     },
     "execution_count": 51,
     "metadata": {},
     "output_type": "execute_result"
    }
   ],
   "source": [
    "capitals[21] = \"London\"\n",
    "capitals[(1, 2, 3)] = \"Moscow\"\n",
    "\n",
    "capitals"
   ]
  },
  {
   "cell_type": "markdown",
   "metadata": {},
   "source": [
    "## Задачи"
   ]
  },
  {
   "cell_type": "markdown",
   "metadata": {},
   "source": [
    "Дана строка в виде случайной последовательности чисел от `0` до `9`. \n",
    "\n",
    "Требуется создать словарь, который в качестве ключей будет принимать данные числа (т. е. ключи будут типом `int`), а в качестве значений – количество этих чисел в имеющейся последовательности. Для построения словаря создайте функцию `count_it(sequence)`, принимающую строку из цифр. Функция должна возвратить словарь из 3-х самых часто встречаемых чисел."
   ]
  },
  {
   "cell_type": "code",
   "execution_count": 69,
   "metadata": {},
   "outputs": [],
   "source": [
    "from random import randint\n",
    "\n",
    "\n",
    "s = \" \".join(str(randint(0, 99_999)) for _ in range(100000))\n",
    "# s"
   ]
  },
  {
   "cell_type": "code",
   "execution_count": 72,
   "metadata": {},
   "outputs": [
    {
     "data": {
      "text/plain": [
       "11"
      ]
     },
     "execution_count": 72,
     "metadata": {},
     "output_type": "execute_result"
    }
   ],
   "source": []
  },
  {
   "cell_type": "code",
   "execution_count": 76,
   "metadata": {},
   "outputs": [
    {
     "name": "stdout",
     "output_type": "stream",
     "text": [
      "63274\n"
     ]
    },
    {
     "data": {
      "text/plain": [
       "{13416: 7, 294: 7, 49559: 8}"
      ]
     },
     "execution_count": 76,
     "metadata": {},
     "output_type": "execute_result"
    }
   ],
   "source": [
    "def count_it(sequence):\n",
    "    sequence = list(map(int, sequence.split()))\n",
    "    print(len(set(sequence)))\n",
    "    # print(sequence)\n",
    "\n",
    "    freq = dict()\n",
    "    # freq = [0] * 100_000\n",
    "    for i in sequence:\n",
    "        freq[i] = freq.get(i, 0) + 1\n",
    "        # freq[i] += 1\n",
    "\n",
    "    # print(freq)\n",
    "    items = list(freq.items())\n",
    "    items.sort(key=lambda x: x[1])\n",
    "    # print(items)\n",
    "    return dict(items[-3:])\n",
    "\n",
    "\n",
    "count_it(s)"
   ]
  },
  {
   "cell_type": "markdown",
   "metadata": {},
   "source": [
    "Имеется ряд словарей с пересекающимися ключами (значения - положительные числа). Напишите 2 функции, которые делают с массивом словарей следующие операции:\n",
    "1-ая функция `max_dct(*dicts)` формирует новый словарь по правилу:\n",
    "\n",
    "> Если в исходных словарях есть повторяющиеся ключи, выбираем среди их значений максимальное и присваиваем этому ключу (например, в словаре_1 есть ключ “а” со значением 5, и в словаре_2 есть ключ “а”, но со значением 9. Выбираем максимальное значение, т. е. 9, и присваиваем ключу “а” в уже новом словаре).  \n",
    ">\n",
    "> Если ключ не повторяется, то он просто переносится со своим значением в новый словарь (например, ключ “с” встретился только у одного словаря, а у других его нет. Следовательно, переносим в новый словарь этот ключ вместе с его значением). Сформированный словарь возвращаем.\n",
    "\n",
    "2-ая функция `sum_dct(*dicts)` суммирует значения повторяющихся ключей. Значения остальных ключей остаются исходными. (Проводятся операции по аналогу первой функции, но берутся не максимумы, а суммы значений одноименных ключей). Функция возвращает сформированный словарь."
   ]
  },
  {
   "cell_type": "code",
   "execution_count": 78,
   "metadata": {},
   "outputs": [
    {
     "name": "stdout",
     "output_type": "stream",
     "text": [
      "{1, 2, 3, 4, 5, 6, 7, 8, 9, 10}\n"
     ]
    }
   ],
   "source": [
    "def max_dct(*dicts):\n",
    "    keys = set()\n",
    "    for d in dicts:\n",
    "        keys.update(set(d.keys()))\n",
    "    print(keys)\n",
    "    \n",
    "\n",
    "\n",
    "\n",
    "dict_1 = {1: 12, 2: 33, 3: 10, 4: 10, 5: 2, 6: 90}\n",
    "dict_2 = {1: 12, 3: 7, 4: 1, 5: 2, 7: 112}\n",
    "dict_3 = {2: 3, 3: 3, 4: 60, 6: 8, 7: 25, 8: 71}\n",
    "dict_4 = {3: 1, 4: 13, 5: 31, 9: 9, 10: 556}\n",
    "max_dct(dict_1, dict_2, dict_3, dict_4)"
   ]
  }
 ],
 "metadata": {
  "kernelspec": {
   "display_name": "Python 3",
   "language": "python",
   "name": "python3"
  },
  "language_info": {
   "codemirror_mode": {
    "name": "ipython",
    "version": 3
   },
   "file_extension": ".py",
   "mimetype": "text/x-python",
   "name": "python",
   "nbconvert_exporter": "python",
   "pygments_lexer": "ipython3",
   "version": "3.11.6"
  }
 },
 "nbformat": 4,
 "nbformat_minor": 2
}
