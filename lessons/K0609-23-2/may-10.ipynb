{
 "cells": [
  {
   "cell_type": "code",
   "execution_count": 22,
   "metadata": {},
   "outputs": [
    {
     "name": "stdout",
     "output_type": "stream",
     "text": [
      "['10000000', '01110010', '00010001', '01101000']\n",
      "['00000000', '00000000', '00000000', '00000000']\n",
      "['10000000', '00100000', '00001010', '00000001']\n"
     ]
    },
    {
     "data": {
      "text/plain": [
       "(True, True, True)"
      ]
     },
     "execution_count": 22,
     "metadata": {},
     "output_type": "execute_result"
    }
   ],
   "source": [
    "def ip_to_int32(ip: str):\n",
    "    ip = list(map(int, ip.split(\".\")))\n",
    "    ip = list(map(bin, ip))\n",
    "    ip = [i[2:].zfill(8) for i in ip]\n",
    "    print(ip)\n",
    "    ip = \"\".join(ip)\n",
    "    ip = int(ip, 2)\n",
    "    \n",
    "    return ip\n",
    "\n",
    "\n",
    "\n",
    "\n",
    "\n",
    "\n",
    "\n",
    "(\n",
    "    ip_to_int32(\"128.114.17.104\") == 2154959208,\n",
    "    ip_to_int32(\"0.0.0.0\") == 0,\n",
    "    ip_to_int32(\"128.32.10.1\") == 2149583361,\n",
    ")"
   ]
  },
  {
   "cell_type": "code",
   "execution_count": 3,
   "metadata": {},
   "outputs": [
    {
     "data": {
      "text/plain": [
       "'0b10010110010'"
      ]
     },
     "execution_count": 3,
     "metadata": {},
     "output_type": "execute_result"
    }
   ],
   "source": [
    "bin(1202)"
   ]
  },
  {
   "cell_type": "code",
   "execution_count": 13,
   "metadata": {},
   "outputs": [
    {
     "data": {
      "text/plain": [
       "3750"
      ]
     },
     "execution_count": 13,
     "metadata": {},
     "output_type": "execute_result"
    }
   ],
   "source": [
    "int('0111010100110', 2)"
   ]
  },
  {
   "cell_type": "code",
   "execution_count": 19,
   "metadata": {},
   "outputs": [
    {
     "data": {
      "text/plain": [
       "'00001010'"
      ]
     },
     "execution_count": 19,
     "metadata": {},
     "output_type": "execute_result"
    }
   ],
   "source": [
    "s = '1010'\n",
    "\"0\" * (8 - len(s)) + s"
   ]
  },
  {
   "cell_type": "code",
   "execution_count": 20,
   "metadata": {},
   "outputs": [
    {
     "data": {
      "text/plain": [
       "'00001010'"
      ]
     },
     "execution_count": 20,
     "metadata": {},
     "output_type": "execute_result"
    }
   ],
   "source": [
    "s = '1010'\n",
    "f\"{s:>08}\""
   ]
  },
  {
   "cell_type": "code",
   "execution_count": 21,
   "metadata": {},
   "outputs": [
    {
     "data": {
      "text/plain": [
       "'00001010'"
      ]
     },
     "execution_count": 21,
     "metadata": {},
     "output_type": "execute_result"
    }
   ],
   "source": [
    "s = '1010'\n",
    "s.zfill(8)"
   ]
  },
  {
   "cell_type": "code",
   "execution_count": 23,
   "metadata": {},
   "outputs": [
    {
     "data": {
      "text/plain": [
       "2154959208"
      ]
     },
     "execution_count": 23,
     "metadata": {},
     "output_type": "execute_result"
    }
   ],
   "source": [
    "from ipaddress import IPv4Address\n",
    "\n",
    "int(IPv4Address(\"128.114.17.104\"))"
   ]
  },
  {
   "cell_type": "code",
   "execution_count": 31,
   "metadata": {},
   "outputs": [
    {
     "data": {
      "text/plain": [
       "3"
      ]
     },
     "execution_count": 31,
     "metadata": {},
     "output_type": "execute_result"
    }
   ],
   "source": [
    "def count_rect_triang(points):\n",
    "    points = list(set(map(tuple, points)))\n",
    "    n = len(points)\n",
    "    count = 0\n",
    "    \n",
    "    for i in range(n - 2):\n",
    "        for j in range(i+1, n - 1):\n",
    "            for k in range(j+1, n):\n",
    "                dist = sorted([\n",
    "                    (points[i][0] - points[j][0]) ** 2 + (points[i][1] - points[j][1]) ** 2,\n",
    "                    (points[i][0] - points[k][0]) ** 2 + (points[i][1] - points[k][1]) ** 2,\n",
    "                    (points[k][0] - points[j][0]) ** 2 + (points[k][1] - points[j][1]) ** 2,\n",
    "                ])\n",
    "                if dist[0] + dist[1] == dist[2]:\n",
    "                    count += 1\n",
    "\n",
    "    return count\n",
    "\n",
    "                \n",
    "\n",
    "\n",
    "count_rect_triang([[1, 2],[3, 3],[4, 1],[1, 1],[4, -1]])"
   ]
  },
  {
   "cell_type": "code",
   "execution_count": 17,
   "metadata": {},
   "outputs": [
    {
     "data": {
      "text/plain": [
       "'a23'"
      ]
     },
     "execution_count": 17,
     "metadata": {},
     "output_type": "execute_result"
    }
   ],
   "source": [
    "def dist_same_letter(st):\n",
    "    c = st[0]\n",
    "    l = 1\n",
    "    for ch in sorted(set(st), key=lambda x: st.find(x)):\n",
    "        i = st.find(ch)\n",
    "        j = st.rfind(ch)\n",
    "        if j - i + 1 > l:\n",
    "            c = st[i]\n",
    "            l = j - i + 1\n",
    "\n",
    "    return c + str(l)\n",
    "\n",
    "dist_same_letter(\"fffffahhhhhhaaahhhhbhhahhhhabxx\")"
   ]
  },
  {
   "cell_type": "code",
   "execution_count": 15,
   "metadata": {},
   "outputs": [
    {
     "data": {
      "text/plain": [
       "31"
      ]
     },
     "execution_count": 15,
     "metadata": {},
     "output_type": "execute_result"
    }
   ],
   "source": [
    "len(\"fffffahhhhhhaaahhhhbhhahhhhabxx\")"
   ]
  },
  {
   "cell_type": "code",
   "execution_count": 16,
   "metadata": {},
   "outputs": [
    {
     "data": {
      "text/plain": [
       "{'a', 'b', 'f', 'h', 'x'}"
      ]
     },
     "execution_count": 16,
     "metadata": {},
     "output_type": "execute_result"
    }
   ],
   "source": [
    "set(\"fffffahhhhhhaaahhhhbhhahhhhabxx\")"
   ]
  },
  {
   "cell_type": "code",
   "execution_count": 11,
   "metadata": {},
   "outputs": [
    {
     "data": {
      "text/plain": [
       "5"
      ]
     },
     "execution_count": 11,
     "metadata": {},
     "output_type": "execute_result"
    }
   ],
   "source": [
    "\"fffffahhhhhhaaahhhhbhhahhhhabxx\".find(\"a\")"
   ]
  },
  {
   "cell_type": "code",
   "execution_count": 12,
   "metadata": {},
   "outputs": [
    {
     "data": {
      "text/plain": [
       "27"
      ]
     },
     "execution_count": 12,
     "metadata": {},
     "output_type": "execute_result"
    }
   ],
   "source": [
    "\"fffffahhhhhhaaahhhhbhhahhhhabxx\".rfind(\"a\")"
   ]
  }
 ],
 "metadata": {
  "kernelspec": {
   "display_name": "Python 3",
   "language": "python",
   "name": "python3"
  },
  "language_info": {
   "codemirror_mode": {
    "name": "ipython",
    "version": 3
   },
   "file_extension": ".py",
   "mimetype": "text/x-python",
   "name": "python",
   "nbconvert_exporter": "python",
   "pygments_lexer": "ipython3",
   "version": "3.11.6"
  }
 },
 "nbformat": 4,
 "nbformat_minor": 2
}
