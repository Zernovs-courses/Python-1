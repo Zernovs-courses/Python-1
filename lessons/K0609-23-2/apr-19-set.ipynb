{
 "cells": [
  {
   "cell_type": "markdown",
   "metadata": {},
   "source": [
    "# Множество (set)"
   ]
  },
  {
   "cell_type": "markdown",
   "metadata": {},
   "source": [
    "**Множество** - структура данных, представляющая собой неупорядоченную коллекцию уникальных объектов."
   ]
  },
  {
   "cell_type": "code",
   "execution_count": 2,
   "metadata": {},
   "outputs": [
    {
     "data": {
      "text/plain": [
       "{1, 2, 3}"
      ]
     },
     "execution_count": 2,
     "metadata": {},
     "output_type": "execute_result"
    }
   ],
   "source": [
    "{1, 2, 3, 2}"
   ]
  },
  {
   "cell_type": "code",
   "execution_count": 3,
   "metadata": {},
   "outputs": [
    {
     "data": {
      "text/plain": [
       "{'e', 'q', 'r', 't', 'w', 'y'}"
      ]
     },
     "execution_count": 3,
     "metadata": {},
     "output_type": "execute_result"
    }
   ],
   "source": [
    "set('qwerty')"
   ]
  },
  {
   "cell_type": "code",
   "execution_count": 4,
   "metadata": {},
   "outputs": [
    {
     "data": {
      "text/plain": [
       "18"
      ]
     },
     "execution_count": 4,
     "metadata": {},
     "output_type": "execute_result"
    }
   ],
   "source": [
    "hash(18)"
   ]
  },
  {
   "cell_type": "code",
   "execution_count": 5,
   "metadata": {},
   "outputs": [
    {
     "data": {
      "text/plain": [
       "1657981523031311714"
      ]
     },
     "execution_count": 5,
     "metadata": {},
     "output_type": "execute_result"
    }
   ],
   "source": [
    "hash('18')"
   ]
  },
  {
   "cell_type": "code",
   "execution_count": 6,
   "metadata": {},
   "outputs": [
    {
     "data": {
      "text/plain": [
       "7138550592985976595"
      ]
     },
     "execution_count": 6,
     "metadata": {},
     "output_type": "execute_result"
    }
   ],
   "source": [
    "hash('81')"
   ]
  },
  {
   "cell_type": "code",
   "execution_count": 7,
   "metadata": {},
   "outputs": [
    {
     "ename": "TypeError",
     "evalue": "'set' object is not subscriptable",
     "output_type": "error",
     "traceback": [
      "\u001b[0;31m---------------------------------------------------------------------------\u001b[0m",
      "\u001b[0;31mTypeError\u001b[0m                                 Traceback (most recent call last)",
      "Cell \u001b[0;32mIn[7], line 3\u001b[0m\n\u001b[1;32m      1\u001b[0m a \u001b[38;5;241m=\u001b[39m {\u001b[38;5;124m'\u001b[39m\u001b[38;5;124mq\u001b[39m\u001b[38;5;124m'\u001b[39m, \u001b[38;5;124m'\u001b[39m\u001b[38;5;124mw\u001b[39m\u001b[38;5;124m'\u001b[39m, \u001b[38;5;124m'\u001b[39m\u001b[38;5;124me\u001b[39m\u001b[38;5;124m'\u001b[39m, \u001b[38;5;124m'\u001b[39m\u001b[38;5;124mr\u001b[39m\u001b[38;5;124m'\u001b[39m, \u001b[38;5;124m'\u001b[39m\u001b[38;5;124mt\u001b[39m\u001b[38;5;124m'\u001b[39m, \u001b[38;5;124m'\u001b[39m\u001b[38;5;124my\u001b[39m\u001b[38;5;124m'\u001b[39m, \u001b[38;5;124m'\u001b[39m\u001b[38;5;124mu\u001b[39m\u001b[38;5;124m'\u001b[39m, \u001b[38;5;124m'\u001b[39m\u001b[38;5;124mi\u001b[39m\u001b[38;5;124m'\u001b[39m, \u001b[38;5;124m'\u001b[39m\u001b[38;5;124mo\u001b[39m\u001b[38;5;124m'\u001b[39m, \u001b[38;5;124m'\u001b[39m\u001b[38;5;124mp\u001b[39m\u001b[38;5;124m'\u001b[39m}\n\u001b[0;32m----> 3\u001b[0m \u001b[43ma\u001b[49m\u001b[43m[\u001b[49m\u001b[38;5;241;43m0\u001b[39;49m\u001b[43m]\u001b[49m\n",
      "\u001b[0;31mTypeError\u001b[0m: 'set' object is not subscriptable"
     ]
    }
   ],
   "source": [
    "a = {'q', 'w', 'e', 'r', 't', 'y', 'u', 'i', 'o', 'p'}\n",
    "\n",
    "a[0]"
   ]
  },
  {
   "cell_type": "markdown",
   "metadata": {},
   "source": [
    "## Работа с элементами множеств"
   ]
  },
  {
   "cell_type": "code",
   "execution_count": 10,
   "metadata": {},
   "outputs": [
    {
     "data": {
      "text/plain": [
       "5"
      ]
     },
     "execution_count": 10,
     "metadata": {},
     "output_type": "execute_result"
    }
   ],
   "source": [
    "a = {1, 2, 3, 4, 5}\n",
    "len(a)"
   ]
  },
  {
   "cell_type": "code",
   "execution_count": 13,
   "metadata": {},
   "outputs": [
    {
     "name": "stdout",
     "output_type": "stream",
     "text": [
      "1\n",
      "2\n",
      "3\n",
      "4\n",
      "5\n"
     ]
    }
   ],
   "source": [
    "a = {1, 2, 3, 4, 5}\n",
    "\n",
    "for i in a:\n",
    "    print(i)"
   ]
  },
  {
   "cell_type": "code",
   "execution_count": 14,
   "metadata": {},
   "outputs": [
    {
     "data": {
      "text/plain": [
       "(True, False, True)"
      ]
     },
     "execution_count": 14,
     "metadata": {},
     "output_type": "execute_result"
    }
   ],
   "source": [
    "a = {1, 2, 3, 4, 5}\n",
    "\n",
    "1 in a, 6 in a, 6 not in a"
   ]
  },
  {
   "cell_type": "code",
   "execution_count": 15,
   "metadata": {},
   "outputs": [
    {
     "data": {
      "text/plain": [
       "{1, 2, 3, 4, 5, 6}"
      ]
     },
     "execution_count": 15,
     "metadata": {},
     "output_type": "execute_result"
    }
   ],
   "source": [
    "a = {1, 2, 3, 4, 5}\n",
    "\n",
    "a.add(6)\n",
    "a"
   ]
  },
  {
   "cell_type": "code",
   "execution_count": 17,
   "metadata": {},
   "outputs": [
    {
     "data": {
      "text/plain": [
       "{1, 2, 4, 5}"
      ]
     },
     "execution_count": 17,
     "metadata": {},
     "output_type": "execute_result"
    }
   ],
   "source": [
    "a = {1, 2, 3, 4, 5}\n",
    "\n",
    "a.remove(3)\n",
    "a"
   ]
  },
  {
   "cell_type": "code",
   "execution_count": 18,
   "metadata": {},
   "outputs": [
    {
     "ename": "KeyError",
     "evalue": "6",
     "output_type": "error",
     "traceback": [
      "\u001b[0;31m---------------------------------------------------------------------------\u001b[0m",
      "\u001b[0;31mKeyError\u001b[0m                                  Traceback (most recent call last)",
      "Cell \u001b[0;32mIn[18], line 3\u001b[0m\n\u001b[1;32m      1\u001b[0m a \u001b[38;5;241m=\u001b[39m {\u001b[38;5;241m1\u001b[39m, \u001b[38;5;241m2\u001b[39m, \u001b[38;5;241m3\u001b[39m, \u001b[38;5;241m4\u001b[39m, \u001b[38;5;241m5\u001b[39m}\n\u001b[0;32m----> 3\u001b[0m \u001b[43ma\u001b[49m\u001b[38;5;241;43m.\u001b[39;49m\u001b[43mremove\u001b[49m\u001b[43m(\u001b[49m\u001b[38;5;241;43m6\u001b[39;49m\u001b[43m)\u001b[49m\n\u001b[1;32m      4\u001b[0m a\n",
      "\u001b[0;31mKeyError\u001b[0m: 6"
     ]
    }
   ],
   "source": [
    "a = {1, 2, 3, 4, 5}\n",
    "\n",
    "a.remove(6)\n",
    "a"
   ]
  },
  {
   "cell_type": "code",
   "execution_count": 20,
   "metadata": {},
   "outputs": [
    {
     "data": {
      "text/plain": [
       "{1, 2, 4, 5}"
      ]
     },
     "execution_count": 20,
     "metadata": {},
     "output_type": "execute_result"
    }
   ],
   "source": [
    "a = {1, 2, 3, 4, 5}\n",
    "\n",
    "a.discard(3)\n",
    "a"
   ]
  },
  {
   "cell_type": "code",
   "execution_count": 19,
   "metadata": {},
   "outputs": [
    {
     "data": {
      "text/plain": [
       "{1, 2, 3, 4, 5}"
      ]
     },
     "execution_count": 19,
     "metadata": {},
     "output_type": "execute_result"
    }
   ],
   "source": [
    "a = {1, 2, 3, 4, 5}\n",
    "\n",
    "a.discard(6)\n",
    "a"
   ]
  },
  {
   "cell_type": "code",
   "execution_count": 24,
   "metadata": {},
   "outputs": [
    {
     "data": {
      "text/plain": [
       "(1, {2, 3, 4, 5})"
      ]
     },
     "execution_count": 24,
     "metadata": {},
     "output_type": "execute_result"
    }
   ],
   "source": [
    "a = {1, 2, 3, 4, 5}\n",
    "\n",
    "val = a.pop() # удаляет случайный элемент и возвращает его значение\n",
    "val, a"
   ]
  },
  {
   "cell_type": "code",
   "execution_count": 25,
   "metadata": {},
   "outputs": [
    {
     "name": "stdout",
     "output_type": "stream",
     "text": [
      "1\n",
      "2\n",
      "3\n",
      "4\n",
      "5\n"
     ]
    }
   ],
   "source": [
    "a = {1, 2, 3, 4, 5}\n",
    "\n",
    "while a:\n",
    "    print(a.pop())"
   ]
  },
  {
   "cell_type": "markdown",
   "metadata": {},
   "source": [
    "## Операции с множествами"
   ]
  },
  {
   "cell_type": "code",
   "execution_count": 28,
   "metadata": {},
   "outputs": [
    {
     "data": {
      "text/plain": [
       "{1, 2, 3, 4, 5, 6, 7, 8}"
      ]
     },
     "execution_count": 28,
     "metadata": {},
     "output_type": "execute_result"
    }
   ],
   "source": [
    "a = {1, 2, 3, 4, 5}\n",
    "b = {4, 5, 6, 7, 8}\n",
    "\n",
    "a | b \n",
    "a.union(b) # объединение"
   ]
  },
  {
   "cell_type": "code",
   "execution_count": 30,
   "metadata": {},
   "outputs": [
    {
     "data": {
      "text/plain": [
       "{1, 2, 3, 4, 5, 6, 7, 8}"
      ]
     },
     "execution_count": 30,
     "metadata": {},
     "output_type": "execute_result"
    }
   ],
   "source": [
    "a = {1, 2, 3, 4, 5}\n",
    "b = {4, 5, 6, 7, 8}\n",
    "\n",
    "a |= b \n",
    "a.update(b) # объединение\n",
    "a"
   ]
  },
  {
   "cell_type": "code",
   "execution_count": 32,
   "metadata": {},
   "outputs": [
    {
     "data": {
      "text/plain": [
       "{4, 5}"
      ]
     },
     "execution_count": 32,
     "metadata": {},
     "output_type": "execute_result"
    }
   ],
   "source": [
    "a = {1, 2, 3, 4, 5}\n",
    "b = {4, 5, 6, 7, 8}\n",
    "\n",
    "a & b \n",
    "a.intersection(b) # пересечение"
   ]
  },
  {
   "cell_type": "code",
   "execution_count": 33,
   "metadata": {},
   "outputs": [
    {
     "data": {
      "text/plain": [
       "{4, 5}"
      ]
     },
     "execution_count": 33,
     "metadata": {},
     "output_type": "execute_result"
    }
   ],
   "source": [
    "a = {1, 2, 3, 4, 5}\n",
    "b = {4, 5, 6, 7, 8}\n",
    "\n",
    "a &= b \n",
    "a.intersection_update(b) # пересечение\n",
    "a"
   ]
  },
  {
   "cell_type": "code",
   "execution_count": 34,
   "metadata": {},
   "outputs": [
    {
     "data": {
      "text/plain": [
       "{1, 2, 3}"
      ]
     },
     "execution_count": 34,
     "metadata": {},
     "output_type": "execute_result"
    }
   ],
   "source": [
    "a = {1, 2, 3, 4, 5}\n",
    "b = {4, 5, 6, 7, 8}\n",
    "\n",
    "a - b \n",
    "a.difference(b) # разность"
   ]
  },
  {
   "cell_type": "code",
   "execution_count": 36,
   "metadata": {},
   "outputs": [
    {
     "data": {
      "text/plain": [
       "{1, 2, 3, 6, 7, 8}"
      ]
     },
     "execution_count": 36,
     "metadata": {},
     "output_type": "execute_result"
    }
   ],
   "source": [
    "a = {1, 2, 3, 4, 5}\n",
    "b = {4, 5, 6, 7, 8}\n",
    "\n",
    "a ^ b \n",
    "a.symmetric_difference(b) # симметрическая разность (XOR, объект принадлежит либо а, \n",
    "                          # либо б, но не обоим сразу)"
   ]
  },
  {
   "cell_type": "code",
   "execution_count": 46,
   "metadata": {},
   "outputs": [
    {
     "data": {
      "text/plain": [
       "True"
      ]
     },
     "execution_count": 46,
     "metadata": {},
     "output_type": "execute_result"
    }
   ],
   "source": [
    "a = {1, 2, 3, 4, 5}\n",
    "b = {4, 5, 2, 3, 1}\n",
    "\n",
    "b <= a\n",
    "b.issubset(a) # является ли б подмножеством а"
   ]
  },
  {
   "cell_type": "code",
   "execution_count": 44,
   "metadata": {},
   "outputs": [
    {
     "data": {
      "text/plain": [
       "True"
      ]
     },
     "execution_count": 44,
     "metadata": {},
     "output_type": "execute_result"
    }
   ],
   "source": [
    "a = {1, 2, 3, 4, 5}\n",
    "b = {4, 5}\n",
    "\n",
    "a >= b\n",
    "a.issuperset(b) # является ли б подмножеством а"
   ]
  },
  {
   "cell_type": "code",
   "execution_count": 47,
   "metadata": {},
   "outputs": [
    {
     "data": {
      "text/plain": [
       "False"
      ]
     },
     "execution_count": 47,
     "metadata": {},
     "output_type": "execute_result"
    }
   ],
   "source": [
    "a = {1, 2, 3, 4, 5}\n",
    "b = {4, 5, 2, 3, 1}\n",
    "\n",
    "a > b # является ли б подмножеством а, но не равно ему"
   ]
  },
  {
   "cell_type": "markdown",
   "metadata": {},
   "source": [
    "# Задачи"
   ]
  },
  {
   "cell_type": "markdown",
   "metadata": {},
   "source": [
    "Имеется список с произвольными данными. Поставлена задача преобразовать его в множество. Если какие-то элементы нельзя хешировать, то пропускаем их. Функция `list_to_set()` выводит на печать получившееся множество."
   ]
  },
  {
   "cell_type": "code",
   "execution_count": 50,
   "metadata": {},
   "outputs": [
    {
     "data": {
      "text/plain": [
       "529344067295497451"
      ]
     },
     "execution_count": 50,
     "metadata": {},
     "output_type": "execute_result"
    }
   ],
   "source": [
    "hash((1, 2, 3))"
   ]
  },
  {
   "cell_type": "code",
   "execution_count": 51,
   "metadata": {},
   "outputs": [
    {
     "ename": "TypeError",
     "evalue": "unhashable type: 'list'",
     "output_type": "error",
     "traceback": [
      "\u001b[0;31m---------------------------------------------------------------------------\u001b[0m",
      "\u001b[0;31mTypeError\u001b[0m                                 Traceback (most recent call last)",
      "Cell \u001b[0;32mIn[51], line 1\u001b[0m\n\u001b[0;32m----> 1\u001b[0m \u001b[38;5;28;43mhash\u001b[39;49m\u001b[43m(\u001b[49m\u001b[43m[\u001b[49m\u001b[38;5;241;43m1\u001b[39;49m\u001b[43m,\u001b[49m\u001b[43m \u001b[49m\u001b[38;5;241;43m2\u001b[39;49m\u001b[43m,\u001b[49m\u001b[43m \u001b[49m\u001b[38;5;241;43m3\u001b[39;49m\u001b[43m]\u001b[49m\u001b[43m)\u001b[49m\n",
      "\u001b[0;31mTypeError\u001b[0m: unhashable type: 'list'"
     ]
    }
   ],
   "source": [
    "hash([1, 2, 3])"
   ]
  },
  {
   "cell_type": "code",
   "execution_count": 66,
   "metadata": {},
   "outputs": [
    {
     "name": "stdout",
     "output_type": "stream",
     "text": [
      "{1, 2, 3, 'a', (5, 6)}\n",
      "{1, 2, 3, 'a', <built-in function print>}\n"
     ]
    },
    {
     "data": {
      "text/plain": [
       "(None, None)"
      ]
     },
     "execution_count": 66,
     "metadata": {},
     "output_type": "execute_result"
    }
   ],
   "source": [
    "def list_to_set(arr):\n",
    "    ans = set()\n",
    "\n",
    "    for a in arr:\n",
    "        if isinstance(a, (int, float, tuple, str, type(print))):\n",
    "            ans.add(a)\n",
    "\n",
    "    print(ans)\n",
    "\n",
    "\n",
    "\n",
    "\n",
    "list_to_set([1, 2, 3, 'a', (5, 6)]), list_to_set([1, 2, 3, 'a', [5, 6], print, True])"
   ]
  },
  {
   "cell_type": "code",
   "execution_count": 64,
   "metadata": {},
   "outputs": [
    {
     "data": {
      "text/plain": [
       "8474791052941"
      ]
     },
     "execution_count": 64,
     "metadata": {},
     "output_type": "execute_result"
    }
   ],
   "source": [
    "f = print\n",
    "\n",
    "hash(print)"
   ]
  },
  {
   "cell_type": "code",
   "execution_count": 63,
   "metadata": {},
   "outputs": [
    {
     "name": "stdout",
     "output_type": "stream",
     "text": [
      "{1, 2, 3, 'a', (5, 6)}\n",
      "{1, 2, 3, 'a', <built-in function print>}\n"
     ]
    }
   ],
   "source": [
    "from collections.abc import Hashable\n",
    "\n",
    "def list_to_set(arr):\n",
    "    ans = set()\n",
    "\n",
    "    for a in arr:\n",
    "        if isinstance(a, Hashable):\n",
    "            ans.add(a)\n",
    "\n",
    "    print(ans)\n",
    "\n",
    "\n",
    "list_to_set([1, 2, 3, 'a', (5, 6)])\n",
    "list_to_set([1, 2, 3, 'a', [5, 6], print, True])"
   ]
  },
  {
   "cell_type": "code",
   "execution_count": 72,
   "metadata": {},
   "outputs": [
    {
     "name": "stdout",
     "output_type": "stream",
     "text": [
      "{1, 2, 3, 'a', (5, 6)}\n",
      "{1, 2, 3, 'a', <built-in function print>}\n"
     ]
    }
   ],
   "source": [
    "def list_to_set(arr):\n",
    "    ans = set()\n",
    "\n",
    "    for a in arr:\n",
    "        try:\n",
    "            ans.add(a)\n",
    "        except:\n",
    "            pass\n",
    "\n",
    "    print(ans)\n",
    "\n",
    "\n",
    "list_to_set([1, 2, 3, 'a', (5, 6)])\n",
    "list_to_set([1, 2, 3, 'a', [5, 6], print, True])"
   ]
  },
  {
   "cell_type": "markdown",
   "metadata": {},
   "source": [
    "На основании 3 исходных множеств (передаются в качестве аргументов функции `diff()`) требуется написать функцию, которая будет возвращать либо симметричную разность, либо просто разность (если дополнительный аргумент функции `symmetric` имеет значение `False`) приведенных объектов в порядке: 1-ое множество, 2-ое множество, 3-е множество."
   ]
  },
  {
   "cell_type": "code",
   "execution_count": 73,
   "metadata": {},
   "outputs": [
    {
     "name": "stdout",
     "output_type": "stream",
     "text": [
      "{1, 20, 7, 9}\n",
      "{20}\n"
     ]
    }
   ],
   "source": [
    "def diff(set_1, set_2, set_3, symmetric=True):\n",
    "    if symmetric:\n",
    "        return set_1 ^ set_2 ^ set_3\n",
    "    else:\n",
    "        return set_1 - set_2 - set_3\n",
    "\n",
    "\n",
    "set_1 = {3, 4, 5, 6, 20}\n",
    "set_2 = {4, 6, 7, 8, 9}\n",
    "set_3 = {5, 3, 8, 1}\n",
    "\n",
    "print(diff(set_1, set_2, set_3))\n",
    "print(diff(set_1, set_2, set_3, symmetric=False))"
   ]
  },
  {
   "cell_type": "markdown",
   "metadata": {},
   "source": [
    "Напишите функцию `superset()`, которая принимает 2 множества. Результат работы функции: вывод в консоль одного из сообщений в зависимости от ситуации:\n",
    "1. «Супермножество не обнаружено»\n",
    "2. «Объект {X} является чистым супермножеством»\n",
    "3. «Множества равны»"
   ]
  },
  {
   "cell_type": "code",
   "execution_count": 76,
   "metadata": {},
   "outputs": [
    {
     "name": "stdout",
     "output_type": "stream",
     "text": [
      "Объект {8, 1, 3, 5} является чистым супермножеством\n",
      "Множества равны\n",
      "Объект {8, 1, 3, 5} является чистым супермножеством\n",
      "Супермножество не обнаружено\n"
     ]
    }
   ],
   "source": [
    "def superset(set_1, set_2):\n",
    "    if set_1 < set_2:\n",
    "        print(f\"Объект {set_2} является чистым супермножеством\")\n",
    "    elif set_1 > set_2:\n",
    "        print(f\"Объект {set_1} является чистым супермножеством\")\n",
    "    elif set_1 == set_2:\n",
    "        print(\"Множества равны\")\n",
    "    else:\n",
    "        print(\"Супермножество не обнаружено\")\n",
    "\n",
    "\n",
    "set_1 = {1, 8, 3, 5}\n",
    "set_2 = {3, 5}\n",
    "set_3 = {5, 3, 8, 1}\n",
    "set_4 = {90, 100}\n",
    "\n",
    "superset(set_1, set_2)\n",
    "superset(set_1, set_3)\n",
    "superset(set_2, set_3)\n",
    "superset(set_4, set_2)"
   ]
  },
  {
   "cell_type": "markdown",
   "metadata": {},
   "source": [
    "Предоставлен список натуральных чисел. Требуется сформировать из них множество. Если какое-либо число повторяется, то преобразовать его в строку по образцу: например, если число 4 повторяется 3 раза, то в множестве будет следующая запись: само число `4`, строка `«44»` (второе повторение, т.е. число дублируется в строке), строка `«444»` (третье повторение, т.е. строка множится на 3). Реализуйте вывод множества через функцию `set_gen()`."
   ]
  },
  {
   "cell_type": "code",
   "execution_count": 83,
   "metadata": {},
   "outputs": [
    {
     "name": "stdout",
     "output_type": "stream",
     "text": [
      "['111', 1, 3, 3, 1]\n",
      "['111', 1, 3, '33', 1]\n",
      "['111', 1, 3, '33', 1]\n",
      "['111', 1, 3, '33', 1]\n",
      "['111', 1, 3, '33', '11']\n",
      "{1, 3, '111', '11', '33'}\n",
      "['5555555', 5, 5, 5, 5, 5, 5]\n",
      "['5555555', '555555', 5, 5, 5, 5, 5]\n",
      "['5555555', '555555', '55555', 5, 5, 5, 5]\n",
      "['5555555', '555555', '55555', '5555', 5, 5, 5]\n",
      "['5555555', '555555', '55555', '5555', '555', 5, 5]\n",
      "['5555555', '555555', '55555', '5555', '555', '55', 5]\n",
      "['5555555', '555555', '55555', '5555', '555', '55', 5]\n",
      "{'5555555', 5, '55555', '55', '5555', '555555', '555'}\n",
      "['222222', 2, 1, 2, 2, 5, 6, 7, 1, 3, 2, 2]\n",
      "['222222', 2, '11111', 2, 2, 5, 6, 7, 1, 3, 2, 2]\n",
      "['222222', 2, '11111', 2, 2, 5, 6, 7, 1, 3, 2, 2]\n",
      "['222222', 2, '11111', '22222', 2, 5, 6, 7, 1, 3, 2, 2]\n",
      "['222222', 2, '11111', '22222', 2, 5, 6, 7, 1, '3333', 2, 2]\n",
      "['222222', 2, '11111', '22222', 2, 5, 6, 7, 1, '3333', 2, 2]\n",
      "['222222', 2, '11111', '22222', 2, 5, 6, 7, 1, '3333', 2, 2]\n",
      "['222222', 2, '11111', '22222', 2, 5, 6, 7, 1, '3333', 2, 2]\n",
      "['222222', 2, '11111', '22222', 2, 5, 6, 7, 1, '3333', 2, 2]\n",
      "['222222', 2, '11111', '22222', 2, 5, 6, 7, 1, '3333', 2, 2]\n",
      "['222222', 2, '11111', '22222', 2, 5, 6, 7, 1, '3333', '2222', 2]\n",
      "['222222', 2, '11111', '22222', 2, 5, 6, 7, 1, '3333', '2222', '222']\n",
      "{'3333', '11111', 2, 1, '2222', 5, 6, 7, '222222', '222', '22222'}\n"
     ]
    }
   ],
   "source": [
    "def set_gen(arr):\n",
    "    for i in range(len(arr)):\n",
    "        c = arr.count(arr[i])\n",
    "        if c > 1:\n",
    "            j = i\n",
    "            while j < len(arr) - 1 and arr[i] != arr[j + 1]:\n",
    "                j += 1\n",
    "            arr[j] = str(arr[j]) * c\n",
    "        print(arr)\n",
    "    return set(arr)\n",
    "\n",
    "\n",
    "list_1 = [1, 1, 3, 3, 1] \n",
    "list_2 = [5, 5, 5, 5, 5, 5, 5]\n",
    "list_3 = [2, 2, 1, 2, 2, 5, 6, 7, 1, 3, 2, 2]\n",
    "print(set_gen(list_1))\n",
    "print(set_gen(list_2))\n",
    "print(set_gen(list_3))"
   ]
  }
 ],
 "metadata": {
  "kernelspec": {
   "display_name": "Python 3",
   "language": "python",
   "name": "python3"
  },
  "language_info": {
   "codemirror_mode": {
    "name": "ipython",
    "version": 3
   },
   "file_extension": ".py",
   "mimetype": "text/x-python",
   "name": "python",
   "nbconvert_exporter": "python",
   "pygments_lexer": "ipython3",
   "version": "3.11.6"
  }
 },
 "nbformat": 4,
 "nbformat_minor": 2
}
