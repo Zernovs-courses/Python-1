{
 "cells": [
  {
   "cell_type": "code",
   "execution_count": 28,
   "metadata": {},
   "outputs": [
    {
     "name": "stdout",
     "output_type": "stream",
     "text": [
      "[19, 3, 15, 21, 20]\n",
      "[1, 9, 3, 9]\n"
     ]
    },
    {
     "data": {
      "text/plain": [
       "[20, 12, 18, 30, 21]"
      ]
     },
     "execution_count": 28,
     "metadata": {},
     "output_type": "execute_result"
    }
   ],
   "source": [
    "def encode(message, key):\n",
    "    encoded = list(map(ord, list(message)))\n",
    "    encoded = [i - 96 for i in encoded]\n",
    "\n",
    "    key = list(map(int, list(str(key))))\n",
    "    \n",
    "    for i in range(len(encoded)):\n",
    "        encoded[i] += key[i % len(key)]\n",
    "\n",
    "    return encoded\n",
    "\n",
    "\n",
    "encode(\"scout\", 1939)"
   ]
  },
  {
   "cell_type": "code",
   "execution_count": 4,
   "metadata": {},
   "outputs": [
    {
     "data": {
      "text/plain": [
       "122"
      ]
     },
     "execution_count": 4,
     "metadata": {},
     "output_type": "execute_result"
    }
   ],
   "source": [
    "ord('z')"
   ]
  },
  {
   "cell_type": "code",
   "execution_count": 23,
   "metadata": {},
   "outputs": [
    {
     "data": {
      "text/plain": [
       "[1, 9, 3, 9, 1, 9, 3, 9, 1, 9, 3, 9]"
      ]
     },
     "execution_count": 23,
     "metadata": {},
     "output_type": "execute_result"
    }
   ],
   "source": [
    "([1, 9, 3, 9] * (10 // 4 + 1))"
   ]
  },
  {
   "cell_type": "code",
   "execution_count": 14,
   "metadata": {},
   "outputs": [
    {
     "data": {
      "text/plain": [
       "'scout'"
      ]
     },
     "execution_count": 14,
     "metadata": {},
     "output_type": "execute_result"
    }
   ],
   "source": [
    "def decode(code, key):\n",
    "    key = list(map(int, list(str(key))))\n",
    "\n",
    "    for i in range(len(code)):\n",
    "        code[i] = code[i] - (key[i % len(key)] - 96)\n",
    "        code[i] = chr(code[i])\n",
    "\n",
    "    return ''.join(code)\n",
    "\n",
    "\n",
    "decode([20, 12, 18, 30, 21], 1939)"
   ]
  },
  {
   "cell_type": "code",
   "execution_count": 5,
   "metadata": {},
   "outputs": [
    {
     "data": {
      "text/plain": [
       "'a'"
      ]
     },
     "execution_count": 5,
     "metadata": {},
     "output_type": "execute_result"
    }
   ],
   "source": [
    "chr(97)"
   ]
  },
  {
   "cell_type": "code",
   "execution_count": 30,
   "metadata": {},
   "outputs": [
    {
     "data": {
      "text/plain": [
       "(1939, 1939, 12)"
      ]
     },
     "execution_count": 30,
     "metadata": {},
     "output_type": "execute_result"
    }
   ],
   "source": [
    "def find_the_key(message, code):\n",
    "    n = len(message)\n",
    "    encoded = list(map(ord, list(message)))\n",
    "    encoded = [i - 96 for i in encoded]\n",
    "\n",
    "    for i in range(n):\n",
    "        code[i] -= encoded[i]\n",
    "\n",
    "    for i in range(1, n + 1):\n",
    "        key = code[:i]\n",
    "        if (key * (n // i + 1))[:n] == code:\n",
    "            return int(''.join(map(str, key)))\n",
    "\n",
    "\n",
    "(find_the_key(\"scout\", [20, 12, 18, 30, 21]), #1939\n",
    "find_the_key(\"masterpiece\", [14, 10, 22, 29, 6, 27, 19, 18, 6, 12, 8]), #1939\n",
    "find_the_key(\"nomoretears\", [15, 17, 14, 17, 19, 7, 21, 7, 2, 20, 20])) #12"
   ]
  }
 ],
 "metadata": {
  "kernelspec": {
   "display_name": "Python 3",
   "language": "python",
   "name": "python3"
  },
  "language_info": {
   "codemirror_mode": {
    "name": "ipython",
    "version": 3
   },
   "file_extension": ".py",
   "mimetype": "text/x-python",
   "name": "python",
   "nbconvert_exporter": "python",
   "pygments_lexer": "ipython3",
   "version": "3.11.6"
  }
 },
 "nbformat": 4,
 "nbformat_minor": 2
}
