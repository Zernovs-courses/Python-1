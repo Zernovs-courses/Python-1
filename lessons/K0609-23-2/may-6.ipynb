{
 "cells": [
  {
   "cell_type": "code",
   "execution_count": 1,
   "metadata": {},
   "outputs": [
    {
     "data": {
      "text/plain": [
       "65"
      ]
     },
     "execution_count": 1,
     "metadata": {},
     "output_type": "execute_result"
    }
   ],
   "source": [
    "ord(\"A\")"
   ]
  },
  {
   "cell_type": "code",
   "execution_count": 11,
   "metadata": {},
   "outputs": [
    {
     "name": "stdout",
     "output_type": "stream",
     "text": [
      "[2, 9, 14, 7, 15]\n",
      "[2, 9, 14, 7, 15]\n",
      "[2, 9, 14, 7, 15]\n",
      "[2, 9, 14, 7, 15]\n"
     ]
    },
    {
     "data": {
      "text/plain": [
       "('LOSE', 'LOSE', 'WIN', 'WIN')"
      ]
     },
     "execution_count": 11,
     "metadata": {},
     "output_type": "execute_result"
    }
   ],
   "source": [
    "def bingo(array):\n",
    "    b = [ord(i) - 64 for i in \"BINGO\"]\n",
    "    print(b)\n",
    "    for i in b:\n",
    "        if i not in array:\n",
    "            return \"LOSE\"\n",
    "    \n",
    "    return \"WIN\"\n",
    "\n",
    "\n",
    "\n",
    "(bingo([1, 2, 3, 4, 5, 6, 7, 8, 9, 10]), \n",
    "bingo([20, 12, 23, 14, 6, 22, 12, 17, 2, 26]), \n",
    "bingo([1, 2, 3, 7, 5, 14, 7, 15, 9, 10]), \n",
    "bingo([5, 2, 13, 7, 5, 14, 17, 15, 9, 10]) ) "
   ]
  },
  {
   "cell_type": "code",
   "execution_count": 10,
   "metadata": {},
   "outputs": [
    {
     "data": {
      "text/plain": [
       "('LOSE', 'LOSE', 'WIN', 'WIN')"
      ]
     },
     "execution_count": 10,
     "metadata": {},
     "output_type": "execute_result"
    }
   ],
   "source": [
    "def bingo(array):\n",
    "    b = set([ord(i) - 64 for i in \"BINGO\"])\n",
    "    \n",
    "    array = set(array)\n",
    "\n",
    "    if b < array:\n",
    "        return \"WIN\"\n",
    "    return \"LOSE\"\n",
    "\n",
    "\n",
    "\n",
    "(bingo([1, 2, 3, 4, 5, 6, 7, 8, 9, 10]), \n",
    "bingo([20, 12, 23, 14, 6, 22, 12, 17, 2, 26]), \n",
    "bingo([1, 2, 3, 7, 5, 14, 7, 15, 9, 10]), \n",
    "bingo([5, 2, 13, 7, 5, 14, 17, 15, 9, 10]) ) "
   ]
  },
  {
   "cell_type": "code",
   "execution_count": 12,
   "metadata": {},
   "outputs": [
    {
     "data": {
      "text/plain": [
       "('LOSE', 'LOSE', 'WIN', 'WIN')"
      ]
     },
     "execution_count": 12,
     "metadata": {},
     "output_type": "execute_result"
    }
   ],
   "source": [
    "def bingo(array):\n",
    "    return \"WIN\" if {2, 9, 14, 7, 15} < set(array) else \"LOSE\"\n",
    "\n",
    "\n",
    "(bingo([1, 2, 3, 4, 5, 6, 7, 8, 9, 10]), \n",
    "bingo([20, 12, 23, 14, 6, 22, 12, 17, 2, 26]), \n",
    "bingo([1, 2, 3, 7, 5, 14, 7, 15, 9, 10]), \n",
    "bingo([5, 2, 13, 7, 5, 14, 17, 15, 9, 10]) ) "
   ]
  },
  {
   "cell_type": "code",
   "execution_count": 13,
   "metadata": {},
   "outputs": [],
   "source": [
    "from random import randint, seed\n"
   ]
  },
  {
   "cell_type": "code",
   "execution_count": 39,
   "metadata": {},
   "outputs": [
    {
     "name": "stdout",
     "output_type": "stream",
     "text": [
      "83810\n",
      "14592\n",
      "3278\n",
      "97196\n",
      "36048\n"
     ]
    }
   ],
   "source": [
    "from random import randint, seed\n",
    "\n",
    "seed(42)\n",
    "print(randint(0, 100_000))\n",
    "print(randint(0, 100_000))\n",
    "print(randint(0, 100_000))\n",
    "print(randint(0, 100_000))\n",
    "print(randint(0, 100_000))"
   ]
  },
  {
   "cell_type": "code",
   "execution_count": 41,
   "metadata": {},
   "outputs": [
    {
     "data": {
      "text/plain": [
       "'b'"
      ]
     },
     "execution_count": 41,
     "metadata": {},
     "output_type": "execute_result"
    }
   ],
   "source": [
    "from random import choice, choices\n",
    "\n",
    "choice(\"abcdef\")"
   ]
  },
  {
   "cell_type": "code",
   "execution_count": 46,
   "metadata": {},
   "outputs": [
    {
     "data": {
      "text/plain": [
       "[8, 3, 6, 3, 15]"
      ]
     },
     "execution_count": 46,
     "metadata": {},
     "output_type": "execute_result"
    }
   ],
   "source": [
    "choices(range(1, 16), k=5)"
   ]
  },
  {
   "cell_type": "code",
   "execution_count": 47,
   "metadata": {},
   "outputs": [
    {
     "data": {
      "text/plain": [
       "1.316872427983539e-06"
      ]
     },
     "execution_count": 47,
     "metadata": {},
     "output_type": "execute_result"
    }
   ],
   "source": [
    "(1/15) ** 5"
   ]
  },
  {
   "cell_type": "code",
   "execution_count": 55,
   "metadata": {},
   "outputs": [
    {
     "data": {
      "text/plain": [
       "['B11',\n",
       " 'B2',\n",
       " 'B1',\n",
       " 'B12',\n",
       " 'B5',\n",
       " 'I19',\n",
       " 'I18',\n",
       " 'I27',\n",
       " 'I17',\n",
       " 'I26',\n",
       " 'N42',\n",
       " 'N45',\n",
       " 'N39',\n",
       " 'N32',\n",
       " 'G55',\n",
       " 'G52',\n",
       " 'G46',\n",
       " 'G47',\n",
       " 'G49',\n",
       " 'O64',\n",
       " 'O69',\n",
       " 'O70',\n",
       " 'O61',\n",
       " 'O72']"
      ]
     },
     "execution_count": 55,
     "metadata": {},
     "output_type": "execute_result"
    }
   ],
   "source": [
    "from random import randint\n",
    "\n",
    "def get_bingo_card():\n",
    "    card = []\n",
    "    for i, c in enumerate(\"BINGO\"):\n",
    "        # print(i, c)\n",
    "        for _ in range(5 if i != 2 else 4):\n",
    "            new_num = c + str(randint(1 + 15 * i, 15 * (i + 1)))\n",
    "            while new_num in card:\n",
    "                new_num = c + str(randint(1 + 15 * i, 15 * (i + 1)))\n",
    "\n",
    "            card.append(new_num)\n",
    "\n",
    "    return card\n"
   ]
  }
 ],
 "metadata": {
  "kernelspec": {
   "display_name": "Python 3",
   "language": "python",
   "name": "python3"
  },
  "language_info": {
   "codemirror_mode": {
    "name": "ipython",
    "version": 3
   },
   "file_extension": ".py",
   "mimetype": "text/x-python",
   "name": "python",
   "nbconvert_exporter": "python",
   "pygments_lexer": "ipython3",
   "version": "3.11.6"
  }
 },
 "nbformat": 4,
 "nbformat_minor": 2
}
