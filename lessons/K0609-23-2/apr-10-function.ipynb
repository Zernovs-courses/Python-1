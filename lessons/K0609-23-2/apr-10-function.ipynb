{
 "cells": [
  {
   "cell_type": "markdown",
   "metadata": {},
   "source": [
    "# Функции (functions)"
   ]
  },
  {
   "cell_type": "markdown",
   "metadata": {},
   "source": [
    "именованный блок кода"
   ]
  },
  {
   "cell_type": "code",
   "execution_count": 1,
   "metadata": {},
   "outputs": [
    {
     "name": "stdout",
     "output_type": "stream",
     "text": [
      "str\n"
     ]
    }
   ],
   "source": [
    "print('str')"
   ]
  },
  {
   "cell_type": "markdown",
   "metadata": {},
   "source": [
    "```py\n",
    "def <имя_функции>(<аргументы_функции>):\n",
    "    <тело_функции>\n",
    "    return <возвращаемое_значение>\n",
    "\n",
    "```"
   ]
  },
  {
   "cell_type": "code",
   "execution_count": 7,
   "metadata": {},
   "outputs": [
    {
     "name": "stdout",
     "output_type": "stream",
     "text": [
      "1\n",
      "3\n"
     ]
    },
    {
     "data": {
      "text/plain": [
       "4"
      ]
     },
     "execution_count": 7,
     "metadata": {},
     "output_type": "execute_result"
    }
   ],
   "source": [
    "def plus(a, b):\n",
    "    print(a)\n",
    "    print(b)\n",
    "    return a + b\n",
    "\n",
    "plus(1, 3) # вызов функции"
   ]
  },
  {
   "cell_type": "code",
   "execution_count": 6,
   "metadata": {},
   "outputs": [
    {
     "name": "stdout",
     "output_type": "stream",
     "text": [
      "5\n",
      "10\n",
      "15\n"
     ]
    }
   ],
   "source": [
    "s = plus(5, 10)\n",
    "print(s)"
   ]
  },
  {
   "cell_type": "code",
   "execution_count": null,
   "metadata": {},
   "outputs": [],
   "source": [
    "import math"
   ]
  },
  {
   "cell_type": "code",
   "execution_count": 11,
   "metadata": {},
   "outputs": [
    {
     "name": "stdout",
     "output_type": "stream",
     "text": [
      "10\n"
     ]
    }
   ],
   "source": [
    "def foo():\n",
    "    pass\n",
    "\n",
    "foo()\n",
    "print(10)"
   ]
  },
  {
   "cell_type": "code",
   "execution_count": 12,
   "metadata": {},
   "outputs": [
    {
     "name": "stdout",
     "output_type": "stream",
     "text": [
      "6\n"
     ]
    }
   ],
   "source": [
    "res = 1\n",
    "for i in range(1, 4):\n",
    "    res *= i\n",
    "print(res)"
   ]
  },
  {
   "cell_type": "code",
   "execution_count": 13,
   "metadata": {},
   "outputs": [
    {
     "name": "stdout",
     "output_type": "stream",
     "text": [
      "120\n"
     ]
    }
   ],
   "source": [
    "res = 1\n",
    "for i in range(1, 6):\n",
    "    res *= i\n",
    "print(res)"
   ]
  },
  {
   "cell_type": "code",
   "execution_count": 17,
   "metadata": {},
   "outputs": [
    {
     "name": "stdout",
     "output_type": "stream",
     "text": [
      "6 120 3628800\n"
     ]
    }
   ],
   "source": [
    "def fact(n):\n",
    "    res = 1\n",
    "    for i in range(1, n+1):\n",
    "        res *= i\n",
    "    return res\n",
    "\n",
    "print(fact(3), fact(5), fact(10))"
   ]
  },
  {
   "cell_type": "code",
   "execution_count": 23,
   "metadata": {},
   "outputs": [
    {
     "name": "stdout",
     "output_type": "stream",
     "text": [
      "3628800\n"
     ]
    }
   ],
   "source": [
    "a = fact(10)\n",
    "print(a)"
   ]
  },
  {
   "cell_type": "markdown",
   "metadata": {},
   "source": [
    "### функция без аргументов"
   ]
  },
  {
   "cell_type": "code",
   "execution_count": 21,
   "metadata": {},
   "outputs": [
    {
     "name": "stdout",
     "output_type": "stream",
     "text": [
      "Hello!\n"
     ]
    }
   ],
   "source": [
    "def greet():\n",
    "    print(\"Hello!\")\n",
    "\n",
    "greet()"
   ]
  },
  {
   "cell_type": "markdown",
   "metadata": {},
   "source": [
    "## Аргументы функции"
   ]
  },
  {
   "cell_type": "code",
   "execution_count": 26,
   "metadata": {},
   "outputs": [
    {
     "name": "stdout",
     "output_type": "stream",
     "text": [
      "a=5, b=10\n",
      "a=10, b=5\n"
     ]
    }
   ],
   "source": [
    "def f(a, b): # все аргументы являются позиционными\n",
    "    print(f\"a={a}, b={b}\")\n",
    "\n",
    "\n",
    "f(5, 10)\n",
    "f(10, 5)"
   ]
  },
  {
   "cell_type": "code",
   "execution_count": 32,
   "metadata": {},
   "outputs": [
    {
     "name": "stdout",
     "output_type": "stream",
     "text": [
      "a=5, b=10, key=None\n",
      "a=10, b=5, key=100\n",
      "a=1, b=2, key=string\n",
      "a=10, b=2, key=100\n"
     ]
    }
   ],
   "source": [
    "def f(a, b, key=None): # key - именованный (ключевой) аргумент \n",
    "                       # со значением по умолчанию\n",
    "    print(f\"a={a}, b={b}, key={key}\")\n",
    "\n",
    "\n",
    "f(5, 10)\n",
    "f(10, 5, 100)\n",
    "f(1, 2, key='string')\n",
    "f(b=2, a=10, key=100)"
   ]
  },
  {
   "cell_type": "code",
   "execution_count": 40,
   "metadata": {},
   "outputs": [
    {
     "name": "stdout",
     "output_type": "stream",
     "text": [
      "()\n",
      "(1, 2, 4)\n",
      "(1, 'str', True)\n"
     ]
    }
   ],
   "source": [
    "def f(*args): # *args - неограниченное количество позиционных аргументов\n",
    "    print(args)\n",
    "\n",
    "f()\n",
    "f(1, 2, 4)\n",
    "f(1, 'str', True)\n"
   ]
  },
  {
   "cell_type": "code",
   "execution_count": 45,
   "metadata": {},
   "outputs": [
    {
     "name": "stdout",
     "output_type": "stream",
     "text": [
      "{}\n",
      "{'a': 1, 'key': 2, 'some': 4}\n",
      "{'id': 1, 'other': 'str', 'c': True}\n"
     ]
    }
   ],
   "source": [
    "def f(**kwargs): # **kwargs - неограниченное количество ключевых аргументов\n",
    "    print(kwargs)\n",
    "\n",
    "f()\n",
    "f(a=1, key=2, some=4)\n",
    "f(id=1, other='str', c=True)\n"
   ]
  },
  {
   "cell_type": "code",
   "execution_count": 46,
   "metadata": {},
   "outputs": [],
   "source": [
    "def f(a, b, *args, key=0, **kwargs):\n",
    "    pass"
   ]
  },
  {
   "cell_type": "code",
   "execution_count": 56,
   "metadata": {},
   "outputs": [],
   "source": [
    "def f(a, b, *args, key=0, **kwargs):\n",
    "    pass\n",
    "\n",
    "f(1, 3, 1, 2, key=10, c=10, d=2178)"
   ]
  },
  {
   "cell_type": "markdown",
   "metadata": {},
   "source": [
    "## Возвращаемое значение"
   ]
  },
  {
   "cell_type": "code",
   "execution_count": 57,
   "metadata": {},
   "outputs": [
    {
     "name": "stdout",
     "output_type": "stream",
     "text": [
      "negative zero positive\n"
     ]
    }
   ],
   "source": [
    "def f(n):\n",
    "    if n < 0:\n",
    "        return 'negative'\n",
    "    elif n > 0:\n",
    "        return 'positive'\n",
    "    else:\n",
    "        return 'zero'\n",
    "    \n",
    "\n",
    "    \n",
    "print(f(-10), f(0), f(10))"
   ]
  },
  {
   "cell_type": "code",
   "execution_count": 61,
   "metadata": {},
   "outputs": [
    {
     "name": "stdout",
     "output_type": "stream",
     "text": [
      "zero\n",
      "negative zero positive\n"
     ]
    }
   ],
   "source": [
    "def f(n):\n",
    "    if n < 0:\n",
    "        return 'negative'\n",
    "    if n > 0:\n",
    "        return 'positive'\n",
    "    \n",
    "    return 'zero'\n",
    "    print('finished')\n",
    "    \n",
    "\n",
    "    \n",
    "print(f(-10), f(0), f(10))"
   ]
  },
  {
   "cell_type": "code",
   "execution_count": 65,
   "metadata": {},
   "outputs": [
    {
     "name": "stdout",
     "output_type": "stream",
     "text": [
      "None\n"
     ]
    }
   ],
   "source": [
    "def f():\n",
    "    pass\n",
    "    \n",
    "\n",
    "    \n",
    "print(f())"
   ]
  },
  {
   "cell_type": "code",
   "execution_count": 66,
   "metadata": {},
   "outputs": [
    {
     "name": "stdout",
     "output_type": "stream",
     "text": [
      "None\n"
     ]
    }
   ],
   "source": [
    "def f():\n",
    "    return\n",
    "    \n",
    "\n",
    "    \n",
    "print(f())"
   ]
  },
  {
   "cell_type": "markdown",
   "metadata": {},
   "source": [
    "## Области видимости"
   ]
  },
  {
   "cell_type": "code",
   "execution_count": 78,
   "metadata": {},
   "outputs": [
    {
     "name": "stdout",
     "output_type": "stream",
     "text": [
      "10 200\n",
      "10 20\n"
     ]
    }
   ],
   "source": [
    "def f():\n",
    "    # локальная область видимости\n",
    "    b = 200\n",
    "    print(a, b)\n",
    "\n",
    "# глобальная область видимости\n",
    "a = 10\n",
    "b = 20\n",
    "f()\n",
    "print(a, b)"
   ]
  },
  {
   "cell_type": "code",
   "execution_count": 84,
   "metadata": {},
   "outputs": [
    {
     "name": "stdout",
     "output_type": "stream",
     "text": [
      "300\n",
      "10 200\n",
      "10 20\n"
     ]
    }
   ],
   "source": [
    "def f():\n",
    "    # локальная область видимости функции f\n",
    "    b = 200\n",
    "    def f1():\n",
    "        # локальная область видимости функции f1\n",
    "        b = 300\n",
    "        print(b)\n",
    "    f1()\n",
    "    print(a, b)\n",
    "\n",
    "# глобальная область видимости\n",
    "a = 10\n",
    "b = 20\n",
    "f()\n",
    "print(a, b)"
   ]
  }
 ],
 "metadata": {
  "kernelspec": {
   "display_name": "Python 3",
   "language": "python",
   "name": "python3"
  },
  "language_info": {
   "codemirror_mode": {
    "name": "ipython",
    "version": 3
   },
   "file_extension": ".py",
   "mimetype": "text/x-python",
   "name": "python",
   "nbconvert_exporter": "python",
   "pygments_lexer": "ipython3",
   "version": "3.11.6"
  }
 },
 "nbformat": 4,
 "nbformat_minor": 2
}
