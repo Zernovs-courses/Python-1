{
 "cells": [
  {
   "cell_type": "markdown",
   "metadata": {},
   "source": [
    "# Функции (functions)"
   ]
  },
  {
   "cell_type": "markdown",
   "metadata": {},
   "source": [
    "именованный блок кода"
   ]
  },
  {
   "cell_type": "code",
   "execution_count": 1,
   "metadata": {},
   "outputs": [
    {
     "name": "stdout",
     "output_type": "stream",
     "text": [
      "str\n"
     ]
    }
   ],
   "source": [
    "print('str')"
   ]
  },
  {
   "cell_type": "markdown",
   "metadata": {},
   "source": [
    "```py\n",
    "def <имя_функции>(<аргументы_функции>):\n",
    "    <тело_функции>\n",
    "    return <возвращаемое_значение>\n",
    "\n",
    "```"
   ]
  },
  {
   "cell_type": "code",
   "execution_count": 7,
   "metadata": {},
   "outputs": [
    {
     "name": "stdout",
     "output_type": "stream",
     "text": [
      "1\n",
      "3\n"
     ]
    },
    {
     "data": {
      "text/plain": [
       "4"
      ]
     },
     "execution_count": 7,
     "metadata": {},
     "output_type": "execute_result"
    }
   ],
   "source": [
    "def plus(a, b):\n",
    "    print(a)\n",
    "    print(b)\n",
    "    return a + b\n",
    "\n",
    "plus(1, 3) # вызов функции"
   ]
  },
  {
   "cell_type": "code",
   "execution_count": 6,
   "metadata": {},
   "outputs": [
    {
     "name": "stdout",
     "output_type": "stream",
     "text": [
      "5\n",
      "10\n",
      "15\n"
     ]
    }
   ],
   "source": [
    "s = plus(5, 10)\n",
    "print(s)"
   ]
  },
  {
   "cell_type": "code",
   "execution_count": null,
   "metadata": {},
   "outputs": [],
   "source": [
    "import math"
   ]
  },
  {
   "cell_type": "code",
   "execution_count": 11,
   "metadata": {},
   "outputs": [
    {
     "name": "stdout",
     "output_type": "stream",
     "text": [
      "10\n"
     ]
    }
   ],
   "source": [
    "def foo():\n",
    "    pass\n",
    "\n",
    "foo()\n",
    "print(10)"
   ]
  },
  {
   "cell_type": "code",
   "execution_count": 12,
   "metadata": {},
   "outputs": [
    {
     "name": "stdout",
     "output_type": "stream",
     "text": [
      "6\n"
     ]
    }
   ],
   "source": [
    "res = 1\n",
    "for i in range(1, 4):\n",
    "    res *= i\n",
    "print(res)"
   ]
  },
  {
   "cell_type": "code",
   "execution_count": 13,
   "metadata": {},
   "outputs": [
    {
     "name": "stdout",
     "output_type": "stream",
     "text": [
      "120\n"
     ]
    }
   ],
   "source": [
    "res = 1\n",
    "for i in range(1, 6):\n",
    "    res *= i\n",
    "print(res)"
   ]
  },
  {
   "cell_type": "code",
   "execution_count": 17,
   "metadata": {},
   "outputs": [
    {
     "name": "stdout",
     "output_type": "stream",
     "text": [
      "6 120 3628800\n"
     ]
    }
   ],
   "source": [
    "def fact(n):\n",
    "    res = 1\n",
    "    for i in range(1, n+1):\n",
    "        res *= i\n",
    "    return res\n",
    "\n",
    "print(fact(3), fact(5), fact(10))"
   ]
  },
  {
   "cell_type": "code",
   "execution_count": 23,
   "metadata": {},
   "outputs": [
    {
     "name": "stdout",
     "output_type": "stream",
     "text": [
      "3628800\n"
     ]
    }
   ],
   "source": [
    "a = fact(10)\n",
    "print(a)"
   ]
  },
  {
   "cell_type": "markdown",
   "metadata": {},
   "source": [
    "### функция без аргументов"
   ]
  },
  {
   "cell_type": "code",
   "execution_count": 21,
   "metadata": {},
   "outputs": [
    {
     "name": "stdout",
     "output_type": "stream",
     "text": [
      "Hello!\n"
     ]
    }
   ],
   "source": [
    "def greet():\n",
    "    print(\"Hello!\")\n",
    "\n",
    "greet()"
   ]
  },
  {
   "cell_type": "markdown",
   "metadata": {},
   "source": [
    "## Аргументы функции"
   ]
  },
  {
   "cell_type": "code",
   "execution_count": 26,
   "metadata": {},
   "outputs": [
    {
     "name": "stdout",
     "output_type": "stream",
     "text": [
      "a=5, b=10\n",
      "a=10, b=5\n"
     ]
    }
   ],
   "source": [
    "def f(a, b): # все аргументы являются позиционными\n",
    "    print(f\"a={a}, b={b}\")\n",
    "\n",
    "\n",
    "f(5, 10)\n",
    "f(10, 5)"
   ]
  },
  {
   "cell_type": "code",
   "execution_count": 32,
   "metadata": {},
   "outputs": [
    {
     "name": "stdout",
     "output_type": "stream",
     "text": [
      "a=5, b=10, key=None\n",
      "a=10, b=5, key=100\n",
      "a=1, b=2, key=string\n",
      "a=10, b=2, key=100\n"
     ]
    }
   ],
   "source": [
    "def f(a, b, key=None): # key - именованный (ключевой) аргумент \n",
    "                       # со значением по умолчанию\n",
    "    print(f\"a={a}, b={b}, key={key}\")\n",
    "\n",
    "\n",
    "f(5, 10)\n",
    "f(10, 5, 100)\n",
    "f(1, 2, key='string')\n",
    "f(b=2, a=10, key=100)"
   ]
  },
  {
   "cell_type": "code",
   "execution_count": 40,
   "metadata": {},
   "outputs": [
    {
     "name": "stdout",
     "output_type": "stream",
     "text": [
      "()\n",
      "(1, 2, 4)\n",
      "(1, 'str', True)\n"
     ]
    }
   ],
   "source": [
    "def f(*args): # *args - неограниченное количество позиционных аргументов\n",
    "    print(args)\n",
    "\n",
    "f()\n",
    "f(1, 2, 4)\n",
    "f(1, 'str', True)\n"
   ]
  },
  {
   "cell_type": "code",
   "execution_count": 45,
   "metadata": {},
   "outputs": [
    {
     "name": "stdout",
     "output_type": "stream",
     "text": [
      "{}\n",
      "{'a': 1, 'key': 2, 'some': 4}\n",
      "{'id': 1, 'other': 'str', 'c': True}\n"
     ]
    }
   ],
   "source": [
    "def f(**kwargs): # **kwargs - неограниченное количество ключевых аргументов\n",
    "    print(kwargs)\n",
    "\n",
    "f()\n",
    "f(a=1, key=2, some=4)\n",
    "f(id=1, other='str', c=True)\n"
   ]
  },
  {
   "cell_type": "code",
   "execution_count": 46,
   "metadata": {},
   "outputs": [],
   "source": [
    "def f(a, b, *args, key=0, **kwargs):\n",
    "    pass"
   ]
  },
  {
   "cell_type": "code",
   "execution_count": 56,
   "metadata": {},
   "outputs": [],
   "source": [
    "def f(a, b, *args, key=0, **kwargs):\n",
    "    pass\n",
    "\n",
    "f(1, 3, 1, 2, key=10, c=10, d=2178)"
   ]
  },
  {
   "cell_type": "markdown",
   "metadata": {},
   "source": [
    "## Возвращаемое значение"
   ]
  },
  {
   "cell_type": "code",
   "execution_count": 57,
   "metadata": {},
   "outputs": [
    {
     "name": "stdout",
     "output_type": "stream",
     "text": [
      "negative zero positive\n"
     ]
    }
   ],
   "source": [
    "def f(n):\n",
    "    if n < 0:\n",
    "        return 'negative'\n",
    "    elif n > 0:\n",
    "        return 'positive'\n",
    "    else:\n",
    "        return 'zero'\n",
    "    \n",
    "\n",
    "    \n",
    "print(f(-10), f(0), f(10))"
   ]
  },
  {
   "cell_type": "code",
   "execution_count": 61,
   "metadata": {},
   "outputs": [
    {
     "name": "stdout",
     "output_type": "stream",
     "text": [
      "zero\n",
      "negative zero positive\n"
     ]
    }
   ],
   "source": [
    "def f(n):\n",
    "    if n < 0:\n",
    "        return 'negative'\n",
    "    if n > 0:\n",
    "        return 'positive'\n",
    "    \n",
    "    return 'zero'\n",
    "    print('finished')\n",
    "    \n",
    "\n",
    "    \n",
    "print(f(-10), f(0), f(10))"
   ]
  },
  {
   "cell_type": "code",
   "execution_count": 65,
   "metadata": {},
   "outputs": [
    {
     "name": "stdout",
     "output_type": "stream",
     "text": [
      "None\n"
     ]
    }
   ],
   "source": [
    "def f():\n",
    "    pass\n",
    "    \n",
    "\n",
    "    \n",
    "print(f())"
   ]
  },
  {
   "cell_type": "code",
   "execution_count": 66,
   "metadata": {},
   "outputs": [
    {
     "name": "stdout",
     "output_type": "stream",
     "text": [
      "None\n"
     ]
    }
   ],
   "source": [
    "def f():\n",
    "    return\n",
    "    \n",
    "\n",
    "    \n",
    "print(f())"
   ]
  },
  {
   "cell_type": "markdown",
   "metadata": {},
   "source": [
    "## Области видимости"
   ]
  },
  {
   "cell_type": "code",
   "execution_count": 2,
   "metadata": {},
   "outputs": [
    {
     "name": "stdout",
     "output_type": "stream",
     "text": [
      "10 200\n",
      "10 20\n"
     ]
    }
   ],
   "source": [
    "def f():\n",
    "    # локальная область видимости\n",
    "    b = 200 # локальная переменная b\n",
    "    print(a, b)\n",
    "\n",
    "# глобальная область видимости\n",
    "a = 10\n",
    "b = 20 # глобальная переменная b\n",
    "\n",
    "f()\n",
    "print(a, b)"
   ]
  },
  {
   "cell_type": "code",
   "execution_count": 84,
   "metadata": {},
   "outputs": [
    {
     "name": "stdout",
     "output_type": "stream",
     "text": [
      "300\n",
      "10 200\n",
      "10 20\n"
     ]
    }
   ],
   "source": [
    "def f():\n",
    "    # локальная область видимости функции f\n",
    "    b = 200\n",
    "    def f1():\n",
    "        # локальная область видимости функции f1\n",
    "        b = 300\n",
    "        print(b)\n",
    "    f1()\n",
    "    print(a, b)\n",
    "\n",
    "# глобальная область видимости\n",
    "a = 10\n",
    "b = 20\n",
    "f()\n",
    "print(a, b)"
   ]
  },
  {
   "cell_type": "code",
   "execution_count": 8,
   "metadata": {},
   "outputs": [
    {
     "name": "stdout",
     "output_type": "stream",
     "text": [
      "global 1 10 20\n",
      "local f 10 200\n",
      "global 2 10 200\n"
     ]
    }
   ],
   "source": [
    "def f():\n",
    "    # локальная область видимости\n",
    "    global b\n",
    "    \n",
    "    b = 200 # локальная переменная b\n",
    "    print('local f', a, b)\n",
    "\n",
    "# глобальная область видимости\n",
    "a = 10\n",
    "b = 20 # глобальная переменная b\n",
    "\n",
    "print('global 1', a, b)\n",
    "\n",
    "f()\n",
    "\n",
    "print('global 2', a, b)"
   ]
  },
  {
   "cell_type": "code",
   "execution_count": 11,
   "metadata": {},
   "outputs": [
    {
     "name": "stdout",
     "output_type": "stream",
     "text": [
      "global 1 10 20\n",
      "local 1 f  10 200\n",
      "local f1 10 300\n",
      "local 2 f 10 200\n",
      "global 2 10 20\n"
     ]
    }
   ],
   "source": [
    "def f():\n",
    "    # локальная область видимости функции f\n",
    "    b = 200\n",
    "    def f1():\n",
    "        # локальная область видимости функции f1\n",
    "        b = 300\n",
    "        print('local f1', a, b)\n",
    "        \n",
    "    print('local 1 f ', a, b)\n",
    "    f1()\n",
    "    print('local 2 f', a, b)\n",
    "\n",
    "# глобальная область видимости\n",
    "a = 10\n",
    "b = 20\n",
    "\n",
    "print('global 1', a, b)\n",
    "\n",
    "f()\n",
    "\n",
    "print('global 2', a, b)"
   ]
  },
  {
   "cell_type": "code",
   "execution_count": 1,
   "metadata": {},
   "outputs": [
    {
     "name": "stdout",
     "output_type": "stream",
     "text": [
      "global 1 10 20\n",
      "local 1 f  100 200\n",
      "local f1 100 300\n",
      "local 2 f 100 200\n",
      "global 2 10 20\n"
     ]
    }
   ],
   "source": [
    "def f():\n",
    "    # локальная область видимости функции f\n",
    "    a = 100\n",
    "    b = 200\n",
    "    def f1():\n",
    "        # локальная область видимости функции f1\n",
    "        b = 300\n",
    "        print('local f1', a, b)\n",
    "        \n",
    "    print('local 1 f ', a, b)\n",
    "    f1()\n",
    "    print('local 2 f', a, b)\n",
    "\n",
    "# глобальная область видимости\n",
    "a = 10\n",
    "b = 20\n",
    "\n",
    "print('global 1', a, b)\n",
    "\n",
    "f()\n",
    "\n",
    "print('global 2', a, b)"
   ]
  },
  {
   "cell_type": "code",
   "execution_count": 6,
   "metadata": {},
   "outputs": [
    {
     "name": "stdout",
     "output_type": "stream",
     "text": [
      "global 1 10 20\n",
      "local 1 f  100 200\n",
      "local f1 100 300\n",
      "local 2 f 100 300\n",
      "global 2 10 20\n"
     ]
    }
   ],
   "source": [
    "def f():\n",
    "    # локальная область видимости функции f\n",
    "    a = 100\n",
    "    b = 200\n",
    "    def f1():\n",
    "        # локальная область видимости функции f1\n",
    "        nonlocal b # обращаемся к b из ближайшей внешней области видимости\n",
    "\n",
    "        b = 300\n",
    "        print('local f1', a, b)\n",
    "        \n",
    "    print('local 1 f ', a, b)\n",
    "    f1()\n",
    "    print('local 2 f', a, b)\n",
    "\n",
    "# глобальная область видимости\n",
    "a = 10\n",
    "b = 20\n",
    "\n",
    "print('global 1', a, b)\n",
    "\n",
    "f()\n",
    "\n",
    "print('global 2', a, b)"
   ]
  },
  {
   "cell_type": "code",
   "execution_count": 5,
   "metadata": {},
   "outputs": [
    {
     "name": "stdout",
     "output_type": "stream",
     "text": [
      "global 1 10 20\n",
      "local 1 f  100 200\n",
      "local f1 100 300\n",
      "local 2 f 100 300\n",
      "global 2 10 300\n"
     ]
    }
   ],
   "source": [
    "def f():\n",
    "    # локальная область видимости функции f\n",
    "    \n",
    "\n",
    "    a = 100\n",
    "    b = 200\n",
    "    def f1():\n",
    "        # локальная область видимости функции f1\n",
    "        global b # обращаемся к b из ближайшей внешней области видимости\n",
    "\n",
    "        b = 300\n",
    "        print('local f1', a, b)\n",
    "        \n",
    "    print('local 1 f ', a, b)\n",
    "    f1()\n",
    "    print('local 2 f', a, b)\n",
    "\n",
    "# глобальная область видимости\n",
    "a = 10\n",
    "b = 20\n",
    "\n",
    "print('global 1', a, b)\n",
    "\n",
    "f()\n",
    "\n",
    "print('global 2', a, b)"
   ]
  },
  {
   "cell_type": "code",
   "execution_count": 15,
   "metadata": {},
   "outputs": [
    {
     "name": "stdout",
     "output_type": "stream",
     "text": [
      "global 1 1 2 3 4 5\n",
      "fun 1 2 10 4 5\n",
      "global 2\n"
     ]
    }
   ],
   "source": [
    "def fun(arr):\n",
    "    arr[2] = 10\n",
    "    print('fun', *arr)\n",
    "    arr.clear()\n",
    "\n",
    "brr = [1, 2, 3, 4, 5]\n",
    "print('global 1', *brr)\n",
    "\n",
    "fun(brr)\n",
    "\n",
    "print('global 2', *brr)"
   ]
  },
  {
   "cell_type": "code",
   "execution_count": 13,
   "metadata": {},
   "outputs": [
    {
     "name": "stdout",
     "output_type": "stream",
     "text": [
      "global 1 1 2 3 4 5\n",
      "fun 1 2 10 4 5 138535851066880\n",
      "global 2 1 2 3 4 5 138535850734400\n"
     ]
    }
   ],
   "source": [
    "def fun(arr):\n",
    "    arr[2] = 10\n",
    "    print('fun', *arr, id(arr))\n",
    "\n",
    "brr = [1, 2, 3, 4, 5]\n",
    "print('global 1', *brr)\n",
    "\n",
    "fun(brr.copy())\n",
    "\n",
    "print('global 2', *brr, id(brr))"
   ]
  },
  {
   "cell_type": "markdown",
   "metadata": {},
   "source": [
    "## Анонимные функции (lambda)"
   ]
  },
  {
   "cell_type": "markdown",
   "metadata": {},
   "source": [
    "```py\n",
    "lambda <аргументы>: <операция>\n",
    "```"
   ]
  },
  {
   "cell_type": "code",
   "execution_count": 17,
   "metadata": {},
   "outputs": [
    {
     "data": {
      "text/plain": [
       "(125, 1000000)"
      ]
     },
     "execution_count": 17,
     "metadata": {},
     "output_type": "execute_result"
    }
   ],
   "source": [
    "f = lambda x: x ** 3\n",
    "\n",
    "f(5), f(100)"
   ]
  },
  {
   "cell_type": "code",
   "execution_count": 18,
   "metadata": {},
   "outputs": [
    {
     "data": {
      "text/plain": [
       "[-4, -2, 1, 3, 5]"
      ]
     },
     "execution_count": 18,
     "metadata": {},
     "output_type": "execute_result"
    }
   ],
   "source": [
    "arr = [1, -2, 3, -4, 5]\n",
    "\n",
    "arr.sort()\n",
    "arr"
   ]
  },
  {
   "cell_type": "code",
   "execution_count": 20,
   "metadata": {},
   "outputs": [
    {
     "data": {
      "text/plain": [
       "[1, -2, 3, -4, 5]"
      ]
     },
     "execution_count": 20,
     "metadata": {},
     "output_type": "execute_result"
    }
   ],
   "source": [
    "arr = [1, -2, 3, -4, 5]\n",
    "\n",
    "arr.sort(key=lambda x: abs(x))\n",
    "arr"
   ]
  },
  {
   "cell_type": "code",
   "execution_count": null,
   "metadata": {},
   "outputs": [
    {
     "data": {
      "text/plain": [
       "[1, -2, 3, -4, 5]"
      ]
     },
     "metadata": {},
     "output_type": "display_data"
    }
   ],
   "source": [
    "arr = [1, -2, 3, -4, 5]\n",
    "\n",
    "arr.sort(key=lambda x: abs(x))\n",
    "arr"
   ]
  },
  {
   "cell_type": "code",
   "execution_count": 22,
   "metadata": {},
   "outputs": [
    {
     "data": {
      "text/plain": [
       "[(-4, 2), (-4, 6), (-2, 4), (1, 5), (3, 3), (5, 1)]"
      ]
     },
     "execution_count": 22,
     "metadata": {},
     "output_type": "execute_result"
    }
   ],
   "source": [
    "arr = [(1, 5), \n",
    "       (-2, 4),\n",
    "       (3, 3), \n",
    "       (-4, 6), \n",
    "       (-4, 2), \n",
    "       (5, 1)]\n",
    "\n",
    "arr.sort()\n",
    "arr"
   ]
  },
  {
   "cell_type": "code",
   "execution_count": 23,
   "metadata": {},
   "outputs": [
    {
     "data": {
      "text/plain": [
       "[(5, 1), (-4, 2), (3, 3), (-2, 4), (1, 5), (-4, 6)]"
      ]
     },
     "execution_count": 23,
     "metadata": {},
     "output_type": "execute_result"
    }
   ],
   "source": [
    "arr = [(1, 5), \n",
    "       (-2, 4),\n",
    "       (3, 3), \n",
    "       (-4, 6), \n",
    "       (-4, 2), \n",
    "       (5, 1)]\n",
    "\n",
    "arr.sort(key=lambda x: x[1]) # сортировка двумерного списка по второму столбцу\n",
    "arr"
   ]
  },
  {
   "cell_type": "code",
   "execution_count": 26,
   "metadata": {},
   "outputs": [
    {
     "data": {
      "text/plain": [
       "[(5, 1), (-4, 2), (3, 3), (1, 5), (-4, 6), (-2, 6)]"
      ]
     },
     "execution_count": 26,
     "metadata": {},
     "output_type": "execute_result"
    }
   ],
   "source": [
    "arr = [(1, 5), \n",
    "       (-2, 6),\n",
    "       (3, 3), \n",
    "       (-4, 6), \n",
    "       (-4, 2), \n",
    "       (5, 1)]\n",
    "\n",
    "arr.sort(key=lambda x: (x[1], x[0])) # сортировка двумерного списка по второму столбцу,\n",
    "                                          # а если элементы равны, то по модулю первого столбца\n",
    "arr"
   ]
  },
  {
   "cell_type": "code",
   "execution_count": 29,
   "metadata": {},
   "outputs": [
    {
     "data": {
      "text/plain": [
       "[0, 1, 2]"
      ]
     },
     "execution_count": 29,
     "metadata": {},
     "output_type": "execute_result"
    }
   ],
   "source": [
    "list(map(lambda x: int(x) - 1, ['1', '2', '3']))"
   ]
  },
  {
   "cell_type": "markdown",
   "metadata": {},
   "source": [
    "## Рекурсия"
   ]
  },
  {
   "cell_type": "markdown",
   "metadata": {},
   "source": [
    "**Рекурсивная функция** - функция, вызывающая саму себя "
   ]
  },
  {
   "cell_type": "code",
   "execution_count": 34,
   "metadata": {},
   "outputs": [
    {
     "data": {
      "text/plain": [
       "3"
      ]
     },
     "execution_count": 34,
     "metadata": {},
     "output_type": "execute_result"
    }
   ],
   "source": [
    "def rec(n):\n",
    "    if n == 0:\n",
    "        return 0\n",
    "    else:\n",
    "        return 1 + rec(n - 1)\n",
    "\n",
    "\n",
    "rec(3)"
   ]
  },
  {
   "cell_type": "markdown",
   "metadata": {},
   "source": [
    "$$\n",
    "F_0=0, F_1=1, F_2=F_0+F_1, F_3=F_1+F_2, \\dots, F_n=F_{n-2}+F_{N-1}, \\dots\n",
    "$$"
   ]
  },
  {
   "cell_type": "code",
   "execution_count": 50,
   "metadata": {},
   "outputs": [
    {
     "data": {
      "text/plain": [
       "102334155"
      ]
     },
     "execution_count": 50,
     "metadata": {},
     "output_type": "execute_result"
    }
   ],
   "source": [
    "def fib(n):\n",
    "    if n < 2: # рекурсивный выход\n",
    "        return n\n",
    "    else:\n",
    "        return fib(n - 2) + fib(n - 1) # рекурсивный вход\n",
    "\n",
    "\n",
    "fib(40)"
   ]
  },
  {
   "cell_type": "code",
   "execution_count": 49,
   "metadata": {},
   "outputs": [
    {
     "ename": "RecursionError",
     "evalue": "maximum recursion depth exceeded while calling a Python object",
     "output_type": "error",
     "traceback": [
      "\u001b[0;31m---------------------------------------------------------------------------\u001b[0m",
      "\u001b[0;31mRecursionError\u001b[0m                            Traceback (most recent call last)",
      "Cell \u001b[0;32mIn[49], line 11\u001b[0m\n\u001b[1;32m      7\u001b[0m     \u001b[38;5;28;01melse\u001b[39;00m:\n\u001b[1;32m      8\u001b[0m         \u001b[38;5;28;01mreturn\u001b[39;00m fib(n \u001b[38;5;241m-\u001b[39m \u001b[38;5;241m2\u001b[39m) \u001b[38;5;241m+\u001b[39m fib(n \u001b[38;5;241m-\u001b[39m \u001b[38;5;241m1\u001b[39m) \u001b[38;5;66;03m# рекурсивный вход\u001b[39;00m\n\u001b[0;32m---> 11\u001b[0m \u001b[43mfib\u001b[49m\u001b[43m(\u001b[49m\u001b[38;5;241;43m10000\u001b[39;49m\u001b[43m)\u001b[49m\n",
      "Cell \u001b[0;32mIn[49], line 8\u001b[0m, in \u001b[0;36mfib\u001b[0;34m(n)\u001b[0m\n\u001b[1;32m      6\u001b[0m     \u001b[38;5;28;01mreturn\u001b[39;00m n\n\u001b[1;32m      7\u001b[0m \u001b[38;5;28;01melse\u001b[39;00m:\n\u001b[0;32m----> 8\u001b[0m     \u001b[38;5;28;01mreturn\u001b[39;00m \u001b[43mfib\u001b[49m\u001b[43m(\u001b[49m\u001b[43mn\u001b[49m\u001b[43m \u001b[49m\u001b[38;5;241;43m-\u001b[39;49m\u001b[43m \u001b[49m\u001b[38;5;241;43m2\u001b[39;49m\u001b[43m)\u001b[49m \u001b[38;5;241m+\u001b[39m fib(n \u001b[38;5;241m-\u001b[39m \u001b[38;5;241m1\u001b[39m)\n",
      "Cell \u001b[0;32mIn[49], line 8\u001b[0m, in \u001b[0;36mfib\u001b[0;34m(n)\u001b[0m\n\u001b[1;32m      6\u001b[0m     \u001b[38;5;28;01mreturn\u001b[39;00m n\n\u001b[1;32m      7\u001b[0m \u001b[38;5;28;01melse\u001b[39;00m:\n\u001b[0;32m----> 8\u001b[0m     \u001b[38;5;28;01mreturn\u001b[39;00m \u001b[43mfib\u001b[49m\u001b[43m(\u001b[49m\u001b[43mn\u001b[49m\u001b[43m \u001b[49m\u001b[38;5;241;43m-\u001b[39;49m\u001b[43m \u001b[49m\u001b[38;5;241;43m2\u001b[39;49m\u001b[43m)\u001b[49m \u001b[38;5;241m+\u001b[39m fib(n \u001b[38;5;241m-\u001b[39m \u001b[38;5;241m1\u001b[39m)\n",
      "    \u001b[0;31m[... skipping similar frames: fib at line 8 (1479 times)]\u001b[0m\n",
      "Cell \u001b[0;32mIn[49], line 8\u001b[0m, in \u001b[0;36mfib\u001b[0;34m(n)\u001b[0m\n\u001b[1;32m      6\u001b[0m     \u001b[38;5;28;01mreturn\u001b[39;00m n\n\u001b[1;32m      7\u001b[0m \u001b[38;5;28;01melse\u001b[39;00m:\n\u001b[0;32m----> 8\u001b[0m     \u001b[38;5;28;01mreturn\u001b[39;00m \u001b[43mfib\u001b[49m\u001b[43m(\u001b[49m\u001b[43mn\u001b[49m\u001b[43m \u001b[49m\u001b[38;5;241;43m-\u001b[39;49m\u001b[43m \u001b[49m\u001b[38;5;241;43m2\u001b[39;49m\u001b[43m)\u001b[49m \u001b[38;5;241m+\u001b[39m fib(n \u001b[38;5;241m-\u001b[39m \u001b[38;5;241m1\u001b[39m)\n",
      "Cell \u001b[0;32mIn[49], line 3\u001b[0m, in \u001b[0;36mfib\u001b[0;34m(n)\u001b[0m\n\u001b[1;32m      1\u001b[0m \u001b[38;5;28;01mfrom\u001b[39;00m \u001b[38;5;21;01mfunctools\u001b[39;00m \u001b[38;5;28;01mimport\u001b[39;00m lru_cache\n\u001b[0;32m----> 3\u001b[0m \u001b[38;5;129m@lru_cache\u001b[39m\n\u001b[1;32m      4\u001b[0m \u001b[38;5;28;01mdef\u001b[39;00m \u001b[38;5;21mfib\u001b[39m(n):\n\u001b[1;32m      5\u001b[0m     \u001b[38;5;28;01mif\u001b[39;00m n \u001b[38;5;241m<\u001b[39m \u001b[38;5;241m2\u001b[39m: \u001b[38;5;66;03m# рекурсивный выход\u001b[39;00m\n\u001b[1;32m      6\u001b[0m         \u001b[38;5;28;01mreturn\u001b[39;00m n\n",
      "File \u001b[0;32m_pydevd_bundle/pydevd_cython.pyx:1457\u001b[0m, in \u001b[0;36m_pydevd_bundle.pydevd_cython.SafeCallWrapper.__call__\u001b[0;34m()\u001b[0m\n",
      "\u001b[0;31mRecursionError\u001b[0m: maximum recursion depth exceeded while calling a Python object"
     ]
    }
   ],
   "source": [
    "from functools import lru_cache\n",
    "\n",
    "@lru_cache\n",
    "def fib(n):\n",
    "    if n < 2: # рекурсивный выход\n",
    "        return n\n",
    "    else:\n",
    "        return fib(n - 2) + fib(n - 1) # рекурсивный вход\n",
    "    \n",
    "\n",
    "fib(10000)"
   ]
  },
  {
   "cell_type": "code",
   "execution_count": 47,
   "metadata": {},
   "outputs": [
    {
     "data": {
      "text/plain": [
       "1267650600228229401496703205376"
      ]
     },
     "execution_count": 47,
     "metadata": {},
     "output_type": "execute_result"
    }
   ],
   "source": [
    "2 ** 100"
   ]
  }
 ],
 "metadata": {
  "kernelspec": {
   "display_name": "Python 3",
   "language": "python",
   "name": "python3"
  },
  "language_info": {
   "codemirror_mode": {
    "name": "ipython",
    "version": 3
   },
   "file_extension": ".py",
   "mimetype": "text/x-python",
   "name": "python",
   "nbconvert_exporter": "python",
   "pygments_lexer": "ipython3",
   "version": "3.11.6"
  }
 },
 "nbformat": 4,
 "nbformat_minor": 2
}
