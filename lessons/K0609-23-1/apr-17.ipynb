{
 "cells": [
  {
   "cell_type": "markdown",
   "metadata": {},
   "source": [
    "https://www.codewars.com/kata/5704bf9b38428f1446000a9d\n",
    "\n",
    "You will be given an array of non-negative integers and positive integer bin width.\n",
    "\n",
    "Your task is to create the Histogram method that will return histogram data corresponding to the input array. The histogram data is an array that stores under index i the count of numbers that belong to bin i. The first bin always starts with zero.\n",
    "\n",
    "On empty input you should return empty output.\n",
    "\n",
    "Examples:\n",
    "\n",
    "For input data [1, 1, 0, 1, 3, 2, 6] and binWidth=1 the result will be [1, 3, 1, 1, 0, 0, 1] as the data contains single element \"0\", 3 elements \"1\" etc.\n",
    "For the same data and binWidth=2 the result will be [4, 2, 0, 1]\n",
    "For input data [7] and binWidth=1 the result will be [0, 0, 0, 0, 0, 0, 0, 1]\n",
    "\n",
    "\n",
    "[0, 1), [1, 2), [2, 3), [3, 4), [4, 5), [5, 6), [6, 7), [7, 8]"
   ]
  },
  {
   "cell_type": "code",
   "execution_count": 7,
   "metadata": {},
   "outputs": [
    {
     "data": {
      "text/plain": [
       "(True, True, True, True)"
      ]
     },
     "execution_count": 7,
     "metadata": {},
     "output_type": "execute_result"
    }
   ],
   "source": [
    "def histogram(values, bin_width):\n",
    "    if not values:\n",
    "        return []\n",
    "    \n",
    "    n = max(values) // bin_width + 1\n",
    "    histo = [0] * n\n",
    "\n",
    "    for v in values:\n",
    "        i = v // bin_width\n",
    "        histo[i] += 1\n",
    "\n",
    "    return histo\n",
    "\n",
    "\n",
    "histogram([1, 1, 0, 1, 3, 2, 6], 1) == [1, 3, 1, 1, 0, 0, 1], \\\n",
    "histogram([1, 1, 0, 1, 3, 2, 6], 2) == [4, 2, 0, 1], \\\n",
    "histogram([], 1) == [], \\\n",
    "histogram([8], 1) == [0, 0, 0, 0, 0, 0, 0, 0, 1]"
   ]
  },
  {
   "cell_type": "markdown",
   "metadata": {},
   "source": [
    "https://www.codewars.com/kata/5a1ee4dfffe75f0fcb000145\n",
    "\n",
    "For this game of BINGO, you will receive a single array of 10 numbers from 1 to 26 as an input. Duplicate numbers within the array are possible.\n",
    "\n",
    "Each number corresponds to their alphabetical order letter (e.g. 1 = A. 2 = B, etc). Write a function where you will win the game if your numbers can spell \"BINGO\". They do not need to be in the right order in the input array. Otherwise you will lose. Your outputs should be \"WIN\" or \"LOSE\" respectively."
   ]
  },
  {
   "cell_type": "code",
   "execution_count": 25,
   "metadata": {},
   "outputs": [
    {
     "data": {
      "text/plain": [
       "(True, True, True, True)"
      ]
     },
     "execution_count": 25,
     "metadata": {},
     "output_type": "execute_result"
    }
   ],
   "source": [
    "def bingo(array): \n",
    "    b = set(map(lambda x: ord(x) - 64, \"BINGO\"))\n",
    "    return \"WIN\" if b.issubset(array) else \"LOSE\" \n",
    "\n",
    "bingo([1, 2, 3, 4, 5, 6, 7, 8, 9, 10]) == \"LOSE\", \\\n",
    "bingo([20, 12, 23, 14, 6, 22, 12, 17, 2, 26]) == \"LOSE\", \\\n",
    "bingo([1, 2, 3, 7, 5, 14, 7, 15, 9, 10]) == \"WIN\", \\\n",
    "bingo([5, 2, 13, 7, 5, 14, 17, 15, 9, 10]) == \"WIN\""
   ]
  },
  {
   "cell_type": "code",
   "execution_count": 9,
   "metadata": {},
   "outputs": [
    {
     "data": {
      "text/plain": [
       "65"
      ]
     },
     "execution_count": 9,
     "metadata": {},
     "output_type": "execute_result"
    }
   ],
   "source": [
    "ord(\"A\")"
   ]
  },
  {
   "cell_type": "markdown",
   "metadata": {},
   "source": [
    "https://www.codewars.com/kata/577bd8d4ae2807c64b00045b/train/python\n",
    "\n",
    "Create a function that returns the name of the winner in a fight between two fighters.\n",
    "\n",
    "Each fighter takes turns attacking the other and whoever kills the other first is victorious. Death is defined as having health <= 0.\n",
    "\n",
    "Each fighter will be a Fighter object/instance. See the Fighter class below in your chosen language.\n",
    "\n",
    "Both health and damagePerAttack (damage_per_attack for python) will be integers larger than 0. You can mutate the Fighter objects.\n",
    "\n",
    "Your function also receives a third argument, a string, with the name of the fighter that attacks first.\n",
    "\n",
    "Example:\n",
    "  declare_winner(Fighter(\"Lew\", 10, 2), Fighter(\"Harry\", 5, 4), \"Lew\") => \"Lew\"\n",
    "  \n",
    "  Lew attacks Harry; Harry now has 3 health.\n",
    "  Harry attacks Lew; Lew now has 6 health.\n",
    "  Lew attacks Harry; Harry now has 1 health.\n",
    "  Harry attacks Lew; Lew now has 2 health.\n",
    "  Lew attacks Harry: Harry now has -1 health and is dead. Lew wins.\n",
    "```py\n",
    "class Fighter(object):\n",
    "    def __init__(self, name, health, damage_per_attack):\n",
    "        self.name = name\n",
    "        self.health = health\n",
    "        self.damage_per_attack = damage_per_attack\n",
    "        \n",
    "    def __str__(self): return \"Fighter({}, {}, {})\".format(self.name, self.health, self.damage_per_attack)\n",
    "    __repr__=__str__\n",
    "\n",
    "```"
   ]
  },
  {
   "cell_type": "code",
   "execution_count": 27,
   "metadata": {},
   "outputs": [
    {
     "name": "stdout",
     "output_type": "stream",
     "text": [
      "3 3\n"
     ]
    },
    {
     "data": {
      "text/plain": [
       "False"
      ]
     },
     "execution_count": 27,
     "metadata": {},
     "output_type": "execute_result"
    }
   ],
   "source": [
    "import math\n",
    "\n",
    "class Fighter(object):\n",
    "    def __init__(self, name, health, damage_per_attack):\n",
    "        self.name = name\n",
    "        self.health = health\n",
    "        self.damage_per_attack = damage_per_attack\n",
    "        \n",
    "    def __str__(self): return \"Fighter({}, {}, {})\".format(self.name, self.health, self.damage_per_attack)\n",
    "    __repr__=__str__\n",
    "\n",
    "def declare_winner(fighter1: Fighter, fighter2: Fighter, first_attacker):\n",
    "    f1_hits = int(fighter2.health / fighter1.damage_per_attack) + 1\n",
    "    f2_hits = int(fighter1.health / fighter2.damage_per_attack) + 1\n",
    "\n",
    "    print(f1_hits, f2_hits)\n",
    "\n",
    "    if f1_hits == f2_hits:\n",
    "        return first_attacker\n",
    "    elif f1_hits < f2_hits:\n",
    "        return fighter1.name\n",
    "    else:\n",
    "        return fighter2.name\n",
    "    \n",
    "\n",
    "declare_winner(Fighter(\"Lew\", 10, 2),Fighter(\"Harry\", 5, 4), \"Lew\") == \"Lew\""
   ]
  }
 ],
 "metadata": {
  "kernelspec": {
   "display_name": "Python 3",
   "language": "python",
   "name": "python3"
  },
  "language_info": {
   "codemirror_mode": {
    "name": "ipython",
    "version": 3
   },
   "file_extension": ".py",
   "mimetype": "text/x-python",
   "name": "python",
   "nbconvert_exporter": "python",
   "pygments_lexer": "ipython3",
   "version": "3.11.6"
  }
 },
 "nbformat": 4,
 "nbformat_minor": 2
}
