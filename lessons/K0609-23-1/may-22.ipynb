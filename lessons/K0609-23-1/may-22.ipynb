{
 "cells": [
  {
   "cell_type": "markdown",
   "metadata": {},
   "source": [
    "```python\n",
    "n = 0\n",
    "p = 8\n",
    "while p < 512:\n",
    "    p = p * 2\n",
    "    n = n + 1\n",
    "print(n) \n",
    "```"
   ]
  },
  {
   "cell_type": "markdown",
   "metadata": {},
   "source": [
    "0. n=0, p=8\n",
    "1. n=1, p=16\n",
    "2. n=2, p=32\n",
    "3. n=3, p=64,\n",
    "4. n=4, p=128\n",
    "5. n=5, p=256\n",
    "6. n=6, p=512"
   ]
  },
  {
   "cell_type": "code",
   "execution_count": 5,
   "metadata": {},
   "outputs": [
    {
     "name": "stdout",
     "output_type": "stream",
     "text": [
      "0\n"
     ]
    }
   ],
   "source": [
    "N = int(input()) # 231\n",
    "minDigit = 10 # 1\n",
    "while N > 0:\n",
    "    digit = N % 10 # 1 -> 3 -> 2\n",
    "    if digit % 2 == 0:\n",
    "        if digit < minDigit: \n",
    "            minDigit = digit # 1\n",
    "    N = N // 10 # 231 -> 23 -> 2 -> 0\n",
    "if minDigit == 10:\n",
    "    print(\"NO\")\n",
    "else:\n",
    "    print(minDigit) # 1"
   ]
  },
  {
   "cell_type": "markdown",
   "metadata": {},
   "source": [
    "1. 1\n",
    "2. наименьшей цифрой в числе является четная цифра (249, 752, ...)\n",
    "3. minDigit = N % 10 => minDigit = 10\n",
    "   if minDigit == 0: => if minDigit == 10:"
   ]
  },
  {
   "cell_type": "markdown",
   "metadata": {},
   "source": [
    "Последовательно выполните следующее.\n",
    "1. Напишите, что выведет эта программа при вводе числа 231.\n",
    "2. Приведите пример такого трёхзначного числа, при вводе которого приведённая\n",
    "программа, несмотря на ошибки, выдаёт верный ответ.\n",
    "3. Найдите допущенные программистом ошибки и исправьте их. Исправление ошибки\n",
    "должно затрагивать только строку, в которой находится ошибка. Для каждой ошибки:\n",
    "   1) выпишите строку, в которой сделана ошибка;\n",
    "   2) укажите, как исправить ошибку, т.е. приведите правильный вариант строки"
   ]
  },
  {
   "cell_type": "code",
   "execution_count": 8,
   "metadata": {},
   "outputs": [
    {
     "data": {
      "text/plain": [
       "'1'"
      ]
     },
     "execution_count": 8,
     "metadata": {},
     "output_type": "execute_result"
    }
   ],
   "source": [
    "True * '1'"
   ]
  }
 ],
 "metadata": {
  "kernelspec": {
   "display_name": "Python 3",
   "language": "python",
   "name": "python3"
  },
  "language_info": {
   "codemirror_mode": {
    "name": "ipython",
    "version": 3
   },
   "file_extension": ".py",
   "mimetype": "text/x-python",
   "name": "python",
   "nbconvert_exporter": "python",
   "pygments_lexer": "ipython3",
   "version": "3.12.3"
  }
 },
 "nbformat": 4,
 "nbformat_minor": 2
}
