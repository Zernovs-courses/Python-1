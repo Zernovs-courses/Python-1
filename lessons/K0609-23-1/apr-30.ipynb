{
 "cells": [
  {
   "cell_type": "code",
   "execution_count": 22,
   "metadata": {},
   "outputs": [
    {
     "data": {
      "text/plain": [
       "[20, 12, 18, 30, 21]"
      ]
     },
     "execution_count": 22,
     "metadata": {},
     "output_type": "execute_result"
    }
   ],
   "source": [
    "def encode(message, key):\n",
    "    message = list(message)\n",
    "    for i in range(len(message)):\n",
    "        message[i] = ord(message[i]) - 96\n",
    "\n",
    "    key = list(map(int, list(str(key))))\n",
    "    key = (key * (len(message) // len(key) + 1))[:len(message)]\n",
    "\n",
    "    for i in range(len(message)):\n",
    "        message[i] += key[i]\n",
    "    \n",
    "    return message\n",
    "\n",
    "\n",
    "encode(\"scout\", 1939)"
   ]
  },
  {
   "cell_type": "code",
   "execution_count": 29,
   "metadata": {},
   "outputs": [
    {
     "data": {
      "text/plain": [
       "'scout'"
      ]
     },
     "execution_count": 29,
     "metadata": {},
     "output_type": "execute_result"
    }
   ],
   "source": [
    "def decode(code, key):\n",
    "    key = list(map(int, list(str(key))))\n",
    "    for i in range(len(code)):\n",
    "        code[i] -= key[i % len(key)]\n",
    "\n",
    "    for i in range(len(code)):\n",
    "        code[i] = chr(code[i] + 96) \n",
    "\n",
    "    return \"\".join(code)\n",
    "\n",
    "\n",
    "decode([20, 12, 18, 30, 21], 1939)"
   ]
  },
  {
   "cell_type": "code",
   "execution_count": 12,
   "metadata": {},
   "outputs": [
    {
     "data": {
      "text/plain": [
       "3"
      ]
     },
     "execution_count": 12,
     "metadata": {},
     "output_type": "execute_result"
    }
   ],
   "source": [
    "ord(\"c\") - 96"
   ]
  },
  {
   "cell_type": "code",
   "execution_count": 17,
   "metadata": {},
   "outputs": [
    {
     "data": {
      "text/plain": [
       "[1, 9, 3, 9]"
      ]
     },
     "execution_count": 17,
     "metadata": {},
     "output_type": "execute_result"
    }
   ],
   "source": [
    "list(map(int, list(str(1939))))"
   ]
  },
  {
   "cell_type": "code",
   "execution_count": 24,
   "metadata": {},
   "outputs": [
    {
     "data": {
      "text/plain": [
       "[(1, 'a'), (9, 'b'), (3, 'c'), (9, 'd')]"
      ]
     },
     "execution_count": 24,
     "metadata": {},
     "output_type": "execute_result"
    }
   ],
   "source": [
    "list(zip([1, 9, 3, 9], [\"a\", \"b\", \"c\", \"d\"]))"
   ]
  },
  {
   "cell_type": "code",
   "execution_count": 64,
   "metadata": {},
   "outputs": [
    {
     "ename": "TypeError",
     "evalue": "'int' object is not iterable",
     "output_type": "error",
     "traceback": [
      "\u001b[0;31m---------------------------------------------------------------------------\u001b[0m",
      "\u001b[0;31mTypeError\u001b[0m                                 Traceback (most recent call last)",
      "Cell \u001b[0;32mIn[64], line 29\u001b[0m\n\u001b[1;32m     23\u001b[0m             \u001b[38;5;28mprint\u001b[39m(key)\n\u001b[1;32m     24\u001b[0m             \u001b[38;5;28;01mreturn\u001b[39;00m key\n\u001b[0;32m---> 29\u001b[0m \u001b[43mfind_the_key\u001b[49m\u001b[43m(\u001b[49m\u001b[38;5;124;43m\"\u001b[39;49m\u001b[38;5;124;43mscout\u001b[39;49m\u001b[38;5;124;43m\"\u001b[39;49m\u001b[43m,\u001b[49m\u001b[43m \u001b[49m\u001b[43m[\u001b[49m\u001b[38;5;241;43m20\u001b[39;49m\u001b[43m,\u001b[49m\u001b[43m \u001b[49m\u001b[38;5;241;43m12\u001b[39;49m\u001b[43m,\u001b[49m\u001b[43m \u001b[49m\u001b[38;5;241;43m18\u001b[39;49m\u001b[43m,\u001b[49m\u001b[43m \u001b[49m\u001b[38;5;241;43m30\u001b[39;49m\u001b[43m,\u001b[49m\u001b[43m \u001b[49m\u001b[38;5;241;43m21\u001b[39;49m\u001b[43m]\u001b[49m\u001b[43m)\u001b[49m \u001b[38;5;241m==\u001b[39m \u001b[38;5;241m1939\u001b[39m, find_the_key(\n\u001b[1;32m     30\u001b[0m     \u001b[38;5;124m\"\u001b[39m\u001b[38;5;124mmasterpiece\u001b[39m\u001b[38;5;124m\"\u001b[39m, [\u001b[38;5;241m14\u001b[39m, \u001b[38;5;241m10\u001b[39m, \u001b[38;5;241m22\u001b[39m, \u001b[38;5;241m29\u001b[39m, \u001b[38;5;241m6\u001b[39m, \u001b[38;5;241m27\u001b[39m, \u001b[38;5;241m19\u001b[39m, \u001b[38;5;241m18\u001b[39m, \u001b[38;5;241m6\u001b[39m, \u001b[38;5;241m12\u001b[39m, \u001b[38;5;241m8\u001b[39m]\n\u001b[1;32m     31\u001b[0m ) \u001b[38;5;241m==\u001b[39m \u001b[38;5;241m1939\u001b[39m, find_the_key(\u001b[38;5;124m\"\u001b[39m\u001b[38;5;124mnomoretears\u001b[39m\u001b[38;5;124m\"\u001b[39m, [\u001b[38;5;241m15\u001b[39m, \u001b[38;5;241m17\u001b[39m, \u001b[38;5;241m14\u001b[39m, \u001b[38;5;241m17\u001b[39m, \u001b[38;5;241m19\u001b[39m, \u001b[38;5;241m7\u001b[39m, \u001b[38;5;241m21\u001b[39m, \u001b[38;5;241m7\u001b[39m, \u001b[38;5;241m2\u001b[39m, \u001b[38;5;241m20\u001b[39m, \u001b[38;5;241m20\u001b[39m]) \u001b[38;5;241m==\u001b[39m \u001b[38;5;241m12\u001b[39m\n",
      "Cell \u001b[0;32mIn[64], line 13\u001b[0m, in \u001b[0;36mfind_the_key\u001b[0;34m(message, code)\u001b[0m\n\u001b[1;32m     11\u001b[0m \u001b[38;5;28;01mfor\u001b[39;00m j \u001b[38;5;129;01min\u001b[39;00m \u001b[38;5;28mrange\u001b[39m(n \u001b[38;5;241m-\u001b[39m i):\n\u001b[1;32m     12\u001b[0m     \u001b[38;5;28;01mif\u001b[39;00m diff[j] \u001b[38;5;241m==\u001b[39m diff[i \u001b[38;5;241m+\u001b[39m j]:\n\u001b[0;32m---> 13\u001b[0m         \u001b[43mprefix\u001b[49m\u001b[43m \u001b[49m\u001b[38;5;241;43m+\u001b[39;49m\u001b[38;5;241;43m=\u001b[39;49m\u001b[43m \u001b[49m\u001b[38;5;241;43m1\u001b[39;49m\n\u001b[1;32m     14\u001b[0m     \u001b[38;5;28;01melse\u001b[39;00m:\n\u001b[1;32m     15\u001b[0m         \u001b[38;5;28;01mbreak\u001b[39;00m\n",
      "\u001b[0;31mTypeError\u001b[0m: 'int' object is not iterable"
     ]
    }
   ],
   "source": [
    "def find_the_key(message, code):\n",
    "    n = len(message)\n",
    "    message = list(message)\n",
    "    for i in range(len(message)):\n",
    "        message[i] = ord(message[i]) - 96\n",
    "\n",
    "    diff = [code[i] - message[i] for i in range(len(code))]\n",
    "\n",
    "    for i in range(0, len(diff)):\n",
    "        key = diff[: i + 1]\n",
    "        print(key)\n",
    "        if (key * (len(diff) // len(key) + 1))[: len(diff)] == diff:\n",
    "            key = int(''.join(map(str, key)))\n",
    "            print(key)\n",
    "            return key\n",
    "\n",
    "    \n",
    "\n",
    "\n",
    "find_the_key(\"scout\", [20, 12, 18, 30, 21]) == 1939, find_the_key(\n",
    "    \"masterpiece\", [14, 10, 22, 29, 6, 27, 19, 18, 6, 12, 8]\n",
    ") == 1939, find_the_key(\"nomoretears\", [15, 17, 14, 17, 19, 7, 21, 7, 2, 20, 20]) == 12"
   ]
  },
  {
   "cell_type": "code",
   "execution_count": 47,
   "metadata": {},
   "outputs": [
    {
     "data": {
      "text/plain": [
       "'[1, 9, 3, 9]'"
      ]
     },
     "execution_count": 47,
     "metadata": {},
     "output_type": "execute_result"
    }
   ],
   "source": [
    "[1, 9, 3, 9]"
   ]
  },
  {
   "cell_type": "code",
   "execution_count": 63,
   "metadata": {},
   "outputs": [
    {
     "name": "stdout",
     "output_type": "stream",
     "text": [
      "[1, 9, 3, 9, 1]\n",
      "[0, 0, 0, 0, 1]\n",
      "-------------------\n",
      "[1, 9, 3, 9]\n",
      "1939\n",
      "[1, 9, 3, 9, 1, 9, 3, 9, 1, 9, 3]\n",
      "[0, 0, 0, 0, 7, 0, 0, 0, 3, 0, 0]\n",
      "-------------------\n",
      "[1, 9, 3, 9]\n",
      "1939\n",
      "[1, 2, 1, 2, 1, 2, 1, 2, 1, 2, 1]\n",
      "[0, 0, 9, 0, 7, 0, 5, 0, 3, 0, 1]\n",
      "-------------------\n",
      "[1, 2]\n",
      "12\n"
     ]
    },
    {
     "data": {
      "text/plain": [
       "(True, True, True)"
      ]
     },
     "execution_count": 63,
     "metadata": {},
     "output_type": "execute_result"
    }
   ],
   "source": [
    "def find_the_key(message, code):\n",
    "    n = len(message)\n",
    "    message = list(message)\n",
    "    for i in range(len(message)):\n",
    "        message[i] = ord(message[i]) - 96\n",
    "\n",
    "    diff = [code[i] - message[i] for i in range(len(code))]\n",
    "\n",
    "    prefix = [0] * n\n",
    "    for i in range(1, n):\n",
    "        for j in range(n - i):\n",
    "            if diff[j] == diff[i + j]:\n",
    "                prefix[i] += 1\n",
    "            else:\n",
    "                break\n",
    "    \n",
    "    print(diff)\n",
    "    print(prefix) \n",
    "    print(\"-------------------\")\n",
    "    for i in range(n):\n",
    "        if prefix[i] == max(prefix):\n",
    "            key = diff[: i]\n",
    "            print(key)\n",
    "            key = int(''.join(map(str, key)))\n",
    "            print(key)\n",
    "            return key\n",
    "\n",
    "\n",
    "find_the_key(\"scout\", [20, 12, 18, 30, 21]) == 1939, find_the_key(\n",
    "    \"masterpiece\", [14, 10, 22, 29, 6, 27, 19, 18, 6, 12, 8]\n",
    ") == 1939, find_the_key(\"nomoretears\", [15, 17, 14, 17, 19, 7, 21, 7, 2, 20, 20]) == 12"
   ]
  }
 ],
 "metadata": {
  "kernelspec": {
   "display_name": "Python 3",
   "language": "python",
   "name": "python3"
  },
  "language_info": {
   "codemirror_mode": {
    "name": "ipython",
    "version": 3
   },
   "file_extension": ".py",
   "mimetype": "text/x-python",
   "name": "python",
   "nbconvert_exporter": "python",
   "pygments_lexer": "ipython3",
   "version": "3.11.6"
  }
 },
 "nbformat": 4,
 "nbformat_minor": 2
}
