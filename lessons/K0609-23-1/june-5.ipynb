{
 "cells": [
  {
   "cell_type": "code",
   "execution_count": 9,
   "metadata": {},
   "outputs": [
    {
     "data": {
      "text/plain": [
       "(0, 2, 3, 5, 3, 5, 21)"
      ]
     },
     "execution_count": 9,
     "metadata": {},
     "output_type": "execute_result"
    }
   ],
   "source": [
    "def find(arr, n):\n",
    "    def rec(n, choices, last) -> int:\n",
    "        # print(f\"{\"\\t\" * len(choices)}{n = } {choices = } {last = }\", end=\" \")\n",
    "        if n == 0:\n",
    "            # print(\"FOUND\")\n",
    "            return 1\n",
    "        # print()\n",
    "        if len(choices) == len(arr) or n < 0:\n",
    "            return 0\n",
    "        res = 0\n",
    "        for i in range(last, len(arr)):\n",
    "            res += rec(n - arr[i], choices + [arr[i]], i)\n",
    "        return res\n",
    "\n",
    "    return rec(n, [], 0)\n",
    "\n",
    "\n",
    "(\n",
    "    find([1, 2, 3], 10),  # 0,\n",
    "    find([1, 2, 3], 7),  # 2,\n",
    "    find([1, 2, 3], 5),  # 3,\n",
    "    find([3, 6, 9, 12], 12),  # 5,\n",
    "    find([1, 4, 5, 8], 8),  # 3,\n",
    "    find([3, 6, 9, 12], 15),  # 5,\n",
    "    find([3, 6, 9, 12, 14, 18], 30),  # 21,\n",
    ")"
   ]
  },
  {
   "cell_type": "markdown",
   "metadata": {},
   "source": [
    "Possibles | Goal | Choices\n",
    "--- | --- | ---\n",
    "[1, 2, 3] | 10 | []\n",
    "[1, 2, 3] | 9 | [1]\n",
    "[1, 2, 3] | 8 | [1, 1]\n",
    "[1, 2, 3] | 7 | [1, 1, 1]"
   ]
  },
  {
   "cell_type": "markdown",
   "metadata": {},
   "source": [
    "```mermaid\n",
    "flowchart TB\n",
    "    a[\"[1, 2, 3] | 10 | []\"] -->\n",
    "    b[\"[1, 2, 3] | 9 | [1]\"] -->\n",
    "    c[\"[1, 2, 3] | 8 | [1, 1]\"] -->\n",
    "    d[\"[1, 2, 3] | 7 | [1, 1, 1]\"]\n",
    "    c --> e[\"[1, 2, 3] | 6 | [1, 1, 2]\"]\n",
    "    c --> 1[\"[1, 2, 3] | 5 | [1, 1, 3]\"]\n",
    "```"
   ]
  },
  {
   "cell_type": "code",
   "execution_count": 14,
   "metadata": {},
   "outputs": [
    {
     "data": {
      "text/plain": [
       "6"
      ]
     },
     "execution_count": 14,
     "metadata": {},
     "output_type": "execute_result"
    }
   ],
   "source": [
    "exec(\"a = \" + \"*\".join(\"123\"))"
   ]
  },
  {
   "cell_type": "code",
   "execution_count": 22,
   "metadata": {},
   "outputs": [
    {
     "data": {
      "text/plain": [
       "3"
      ]
     },
     "execution_count": 22,
     "metadata": {},
     "output_type": "execute_result"
    }
   ],
   "source": [
    "n = 39\n",
    "c = 0\n",
    "while len(str(n := eval(\"*\".join(str(n))))) > 1:\n",
    "    c += 1\n",
    "c + 1"
   ]
  }
 ],
 "metadata": {
  "kernelspec": {
   "display_name": "Python 3",
   "language": "python",
   "name": "python3"
  },
  "language_info": {
   "codemirror_mode": {
    "name": "ipython",
    "version": 3
   },
   "file_extension": ".py",
   "mimetype": "text/x-python",
   "name": "python",
   "nbconvert_exporter": "python",
   "pygments_lexer": "ipython3",
   "version": "3.12.3"
  }
 },
 "nbformat": 4,
 "nbformat_minor": 2
}
