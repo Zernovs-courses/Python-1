{
 "cells": [
  {
   "cell_type": "markdown",
   "metadata": {},
   "source": [
    "https://www.codewars.com/kata/592e830e043b99888600002d/train/python\n",
    "\n",
    "Digital Cypher assigns to each letter of the alphabet unique number. For example:\n",
    "\n",
    " a  b  c  d  e  f  g  h  i  j  k  l  m\n",
    " 1  2  3  4  5  6  7  8  9 10 11 12 13\n",
    " n  o  p  q  r  s  t  u  v  w  x  y  z\n",
    "14 15 16 17 18 19 20 21 22 23 24 25 26\n",
    "Instead of letters in encrypted word we write the corresponding number, eg. The word scout:\n",
    "\n",
    " s  c  o  u  t\n",
    "19  3 15 21 20\n",
    "Then we add to each obtained digit consecutive digits from the key. For example. In case of key equal to 1939 :\n",
    "\n",
    "   s  c  o  u  t\n",
    "  19  3 15 21 20\n",
    " + 1  9  3  9  1\n",
    " ---------------\n",
    "  20 12 18 30 21\n",
    "  \n",
    "   m  a  s  t  e  r  p  i  e  c  e\n",
    "  13  1 19 20  5 18 16  9  5  3  5\n",
    "+  1  9  3  9  1  9  3  9  1  9  3\n",
    "  --------------------------------\n",
    "  14 10 22 29  6 27 19 18  6  12 8\n",
    "Task\n",
    "Write a function that accepts str string and key number and returns an array of integers representing encoded str.\n",
    "\n",
    "Input / Output\n",
    "The str input string consists of lowercase characters only.\n",
    "The key input number is a positive integer.\n",
    "\n",
    "Example\n",
    "Encode(\"scout\",1939);  ==>  [ 20, 12, 18, 30, 21]\n",
    "Encode(\"masterpiece\",1939);  ==>  [ 14, 10, 22, 29, 6, 27, 19, 18, 6, 12, 8]"
   ]
  },
  {
   "cell_type": "code",
   "execution_count": 1,
   "metadata": {},
   "outputs": [
    {
     "data": {
      "text/plain": [
       "True"
      ]
     },
     "execution_count": 1,
     "metadata": {},
     "output_type": "execute_result"
    }
   ],
   "source": [
    "def encode(message, key):\n",
    "    message = list(map(ord, message))\n",
    "    message = [i - 96 for i in message]\n",
    "    # print(message)\n",
    "\n",
    "    key_str = str(key)\n",
    "    n = len(key_str)\n",
    "\n",
    "    for i in range(len(message)):\n",
    "        message[i] += int(key_str[i % n])\n",
    "\n",
    "    # print(message)\n",
    "\n",
    "    return message\n",
    "\n",
    "\n",
    "encode(\"scout\", 1939) == [20, 12, 18, 30, 21]"
   ]
  },
  {
   "cell_type": "markdown",
   "metadata": {},
   "source": [
    "https://www.codewars.com/kata/592edfda5be407b9640000b2/train/python\n",
    "\n",
    "Introduction\n",
    "Digital Cypher assigns to each letter of the alphabet unique number. For example:\n",
    "\n",
    " a  b  c  d  e  f  g  h  i  j  k  l  m\n",
    " 1  2  3  4  5  6  7  8  9 10 11 12 13\n",
    " n  o  p  q  r  s  t  u  v  w  x  y  z\n",
    "14 15 16 17 18 19 20 21 22 23 24 25 26\n",
    "Instead of letters in encrypted word we write the corresponding number, eg. The word scout:\n",
    "\n",
    " s  c  o  u  t\n",
    "19  3 15 21 20\n",
    "Then we add to each obtained digit consecutive digits from the key. For example. In case of key equal to 1939 :\n",
    "\n",
    "   s  c  o  u  t\n",
    "  19  3 15 21 20\n",
    " + 1  9  3  9  1\n",
    " ---------------\n",
    "  20 12 18 30 21\n",
    "  \n",
    "   m  a  s  t  e  r  p  i  e  c  e\n",
    "  13  1 19 20  5 18 16  9  5  3  5\n",
    "+  1  9  3  9  1  9  3  9  1  9  3\n",
    "  --------------------------------\n",
    "  14 10 22 29  6 27 19 18  6  12 8\n",
    "Task\n",
    "Write a function that accepts an array of integers code and a key number. As the result, it should return string containg a decoded message from the code.\n",
    "\n",
    "Input / Output\n",
    "The code is a array of positive integers.\n",
    "The key input is a nonnegative integer.\n",
    "\n",
    "Example\n",
    "decode([ 20, 12, 18, 30, 21],1939);  ==> \"scout\"\n",
    "decode([ 14, 10, 22, 29, 6, 27, 19, 18, 6, 12, 8],1939);  ==>  \"masterpiece\""
   ]
  },
  {
   "cell_type": "code",
   "execution_count": 2,
   "metadata": {},
   "outputs": [
    {
     "data": {
      "text/plain": [
       "(True, True)"
      ]
     },
     "execution_count": 2,
     "metadata": {},
     "output_type": "execute_result"
    }
   ],
   "source": [
    "def decode(code, key):\n",
    "    key_str = str(key)\n",
    "    n = len(key_str)\n",
    "\n",
    "    code = [chr(96 + code[i] - int(key_str[i % n])) for i in range(len(code))]\n",
    "\n",
    "    return \"\".join(code)\n",
    "\n",
    "\n",
    "decode([20, 12, 18, 30, 21], 1939) == \"scout\", decode(\n",
    "    [14, 10, 22, 29, 6, 27, 19, 18, 6, 12, 8], 1939\n",
    ") == \"masterpiece\""
   ]
  },
  {
   "cell_type": "markdown",
   "metadata": {},
   "source": [
    "https://www.codewars.com/kata/5930d8a4b8c2d9e11500002a/train/python\n",
    "\n",
    "Introduction\n",
    "Digital Cypher assigns a unique number to each letter of the alphabet:\n",
    "\n",
    " a  b  c  d  e  f  g  h  i  j  k  l  m  n  o  p  q  r  s  t  u  v  w  x  y  z\n",
    " 1  2  3  4  5  6  7  8  9 10 11 12 13 14 15 16 17 18 19 20 21 22 23 24 25 26\n",
    "In the encrypted word we write the corresponding numbers instead of the letters. For example, the word scout becomes:\n",
    "\n",
    " s  c  o  u  t\n",
    "19  3 15 21 20\n",
    "Then we add to each number a digit from the key (repeated if necessary). For example if the key is 1939:\n",
    "\n",
    "   s  c  o  u  t\n",
    "  19  3 15 21 20\n",
    " + 1  9  3  9  1\n",
    " ---------------\n",
    "  20 12 18 30 21\n",
    "  \n",
    "   m  a  s  t  e  r  p  i  e  c  e\n",
    "  13  1 19 20  5 18 16  9  5  3  5\n",
    "+  1  9  3  9  1  9  3  9  1  9  3\n",
    "  --------------------------------\n",
    "  14 10 22 29  6 27 19 18  6  12 8\n",
    "Task\n",
    "Write a function that accepts a message string and an array of integers code. As the result, return the key that was used to encrypt the message. The key has to be shortest of all possible keys that can be used to code the message: i.e. when the possible keys are 12 , 1212, 121212, your solution should return 12.\n",
    "\n",
    "Input / Output:\n",
    "The message is a string containing only lowercase letters.\n",
    "The code is an array of positive integers.\n",
    "The key output is a positive integer.\n",
    "    \n",
    "Examples\n",
    "find_the_key(\"scout\", [20, 12, 18, 30, 21]) # -->  1939\n",
    "find_the_key(\"masterpiece\", [14, 10, 22, 29, 6, 27, 19, 18, 6, 12, 8]) # -->  1939\n",
    "find_the_key(\"nomoretears\", [15, 17, 14, 17, 19, 7, 21, 7, 2, 20, 20]) # -->  12"
   ]
  },
  {
   "cell_type": "code",
   "execution_count": 5,
   "metadata": {},
   "outputs": [
    {
     "data": {
      "text/plain": [
       "(True, True, True)"
      ]
     },
     "execution_count": 5,
     "metadata": {},
     "output_type": "execute_result"
    }
   ],
   "source": [
    "def find_the_key(message, code):\n",
    "    message = list(map(ord, message))\n",
    "    message = [i - 96 for i in message]\n",
    "\n",
    "    n = len(code)\n",
    "    key = [code[i] - message[i] for i in range(n)]\n",
    "\n",
    "    for i in range(1, n + 1):\n",
    "        possible_key = key[:i]\n",
    "        if (possible_key * (n // i + 1))[:n] == key:\n",
    "            return int(''.join(map(str, possible_key)))\n",
    "\n",
    "\n",
    "find_the_key(\"scout\", [20, 12, 18, 30, 21]) == 1939, find_the_key(\n",
    "    \"masterpiece\", [14, 10, 22, 29, 6, 27, 19, 18, 6, 12, 8]\n",
    ") == 1939, find_the_key(\"nomoretears\", [15, 17, 14, 17, 19, 7, 21, 7, 2, 20, 20]) == 12"
   ]
  }
 ],
 "metadata": {
  "kernelspec": {
   "display_name": "Python 3",
   "language": "python",
   "name": "python3"
  },
  "language_info": {
   "codemirror_mode": {
    "name": "ipython",
    "version": 3
   },
   "file_extension": ".py",
   "mimetype": "text/x-python",
   "name": "python",
   "nbconvert_exporter": "python",
   "pygments_lexer": "ipython3",
   "version": "3.11.6"
  }
 },
 "nbformat": 4,
 "nbformat_minor": 2
}
