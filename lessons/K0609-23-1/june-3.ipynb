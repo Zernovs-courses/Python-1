{
 "cells": [
  {
   "cell_type": "markdown",
   "metadata": {},
   "source": [
    "Август и Беатриса играют в игру. Август загадал натуральное число от `1` до `n`. Беатриса пытается угадать это число, для этого она называет некоторые множества натуральных чисел. Август отвечает Беатрисе `YES`, если среди названных ей чисел есть задуманное или `NO` в противном случае. После нескольких заданных вопросов Беатриса запуталась в том, какие вопросы она задавала и какие ответы получила и просит вас помочь ей определить, какие числа мог задумать Август.\n",
    "\n",
    "Август начал жульничать. На каждый из вопросов Беатрисы он выбирает такой вариант ответа `YES` или `NO`, чтобы множество возможных задуманных чисел оставалось как можно больше. Например, если Август задумал число от 1 до 5, а Беатриса спросила про числа 1 и 2, то Август ответит `NO`, а если Беатриса спросит про 1, 2, 3, то Август ответит `YES`.\n",
    "\n",
    "Если же Беатриса в своем вопросе перечисляет ровно половину из задуманных чисел, то Август из вредности всегда отвечает `NO`. Наконец, Август при ответе учитывает все предыдущие вопросы Беатрисы и свои ответы на них, то есть множество возможных задуманных чисел уменьшается.\n",
    "\n",
    "Первая строка содержит наибольшее число, которое мог загадать Август. Каждая следующая строка содержит очередной вопрос Беатрисы: набор чисел, разделенных пробелами. Последняя строка входных данных содержит одно слово `HELP`.\n",
    "\n",
    "Для каждого вопроса Беатрисы выведите ответ Августа на этот вопрос. После этого выведите через пробел, в порядке возрастания, все числа, которые мог загадать Август после ответа на все вопросы Беатрисы.\n",
    "\n",
    "**Входные данные**\n",
    "```\n",
    "10\n",
    "1 2 3 4 5\n",
    "2 4 6 8 10\n",
    "HELP\n",
    "```\n",
    "\n",
    "**Выходные данные**\n",
    "```\n",
    "NO\n",
    "YES\n",
    "6 8 10\n",
    "```"
   ]
  },
  {
   "cell_type": "code",
   "execution_count": 9,
   "metadata": {},
   "outputs": [
    {
     "name": "stdout",
     "output_type": "stream",
     "text": [
      "NO\n",
      "YES\n",
      "6 8 10\n"
     ]
    }
   ],
   "source": [
    "it = iter(\n",
    "    \"\"\"10\n",
    "1 2 3 4 5\n",
    "2 4 6 8 10\n",
    "HELP\"\"\".split(\"\\n\")\n",
    ")\n",
    "\n",
    "\n",
    "def input():\n",
    "    return next(it)\n",
    "\n",
    "\n",
    "n = int(input())\n",
    "ans = set(range(1, n + 1))\n",
    "\n",
    "s = input()\n",
    "while s != \"HELP\":\n",
    "    s = set(map(int, s.split()))\n",
    "    if len(ans - s) >= len(ans & s):\n",
    "        print(\"NO\")\n",
    "        ans -= s\n",
    "    else:\n",
    "        print(\"YES\")\n",
    "        ans &= s\n",
    "    s = input()\n",
    "\n",
    "print(*sorted(ans))"
   ]
  },
  {
   "cell_type": "markdown",
   "metadata": {},
   "source": [
    "В генеалогическом древе у каждого человека, кроме родоначальника, есть ровно один родитель.\n",
    "\n",
    "Даны два элемента в дереве. Определите, является ли один из них потомком другого.\n",
    "\n",
    "Программа получает на вход число элементов в генеалогическом древе `N`. Далее следует `N−1` строка, задающие родителя для каждого элемента древа, кроме родоначальника. Каждая строка имеет вид `имя_потомка имя_родителя`. Далее идет число запросов `K`. В каждой из следующих `K` строк, содержатся имена двух элементов дерева.\n",
    "\n",
    "Для каждого такого запроса выведите одно из трех чисел: 1, если первый элемент является предком второго, 2, если второй является предком первого или 0, если ни один из них не является предком другого.\n",
    "\n",
    "**Входные данные**\n",
    "```\n",
    "9\n",
    "Alexei Peter_I\n",
    "Anna Peter_I\n",
    "Elizabeth Peter_I\n",
    "Peter_II Alexei\n",
    "Peter_III Anna\n",
    "Paul_I Peter_III\n",
    "Alexander_I Paul_I\n",
    "Nicholaus_I Paul_I\n",
    "3\n",
    "Anna Nicholaus_I\n",
    "Peter_II Peter_I\n",
    "Alexei Paul_I\n",
    "```\n",
    "\n",
    "**Выходные данные**\n",
    "```\n",
    "1 2 0\n",
    "```"
   ]
  },
  {
   "cell_type": "code",
   "execution_count": 17,
   "metadata": {},
   "outputs": [
    {
     "name": "stdout",
     "output_type": "stream",
     "text": [
      "0 0 2 \n"
     ]
    }
   ],
   "source": [
    "it = iter(\n",
    "    \"\"\"9\n",
    "Alexei Peter_I\n",
    "Anna Peter_I\n",
    "Elizabeth Peter_I\n",
    "Peter_II Alexei\n",
    "Peter_III Anna\n",
    "Paul_I Peter_III\n",
    "Alexander_I Paul_I\n",
    "Nicholaus_I Paul_I\n",
    "3\n",
    "Anna Nicholaus_I\n",
    "Peter_II Peter_I\n",
    "Alexei Paul_I\"\"\".split(\"\\n\")\n",
    ")\n",
    "\n",
    "\n",
    "def input():\n",
    "    return next(it)\n",
    "\n",
    "\n",
    "def get_parents(person, tree):\n",
    "    parents = [person]\n",
    "    while tree[person]:\n",
    "        person = tree[person]\n",
    "        parents.append(person)\n",
    "    return parents\n",
    "\n",
    "\n",
    "n = int(input())\n",
    "tree = dict()\n",
    "for _ in range(n - 1):\n",
    "    ch, par = input().split()\n",
    "    tree[ch] = par\n",
    "    if par not in tree:\n",
    "        tree[par] = None\n",
    "\n",
    "k = int(input())\n",
    "for _ in range(k):\n",
    "    per1, per2 = input().split()\n",
    "    per1_parents = get_parents(per1, tree)\n",
    "    per2_parents = get_parents(per2, tree)\n",
    "\n",
    "    if per1 in per2_parents:\n",
    "        print(1, end=\" \")\n",
    "    elif per2 in per1_parents:\n",
    "        print(2, end=\" \")\n",
    "    else:\n",
    "        print(0, end=\" \")\n",
    "print()"
   ]
  },
  {
   "cell_type": "code",
   "execution_count": 18,
   "metadata": {},
   "outputs": [
    {
     "ename": "TypeError",
     "evalue": "task() takes 0 positional arguments but 1 was given",
     "output_type": "error",
     "traceback": [
      "\u001b[0;31m---------------------------------------------------------------------------\u001b[0m",
      "\u001b[0;31mTypeError\u001b[0m                                 Traceback (most recent call last)",
      "Cell \u001b[0;32mIn[18], line 4\u001b[0m\n\u001b[1;32m      1\u001b[0m \u001b[38;5;28;01mdef\u001b[39;00m \u001b[38;5;21mtask\u001b[39m():\n\u001b[1;32m      2\u001b[0m     \u001b[38;5;28;01mpass\u001b[39;00m\n\u001b[0;32m----> 4\u001b[0m \u001b[43mtask\u001b[49m\u001b[43m(\u001b[49m\u001b[38;5;124;43m\"\u001b[39;49m\u001b[38;5;124;43mMIN\u001b[39;49m\u001b[38;5;124;43m\"\u001b[39;49m\u001b[43m)\u001b[49m\n\u001b[1;32m      5\u001b[0m task(\u001b[38;5;124m\"\u001b[39m\u001b[38;5;124mMAX\u001b[39m\u001b[38;5;124m\"\u001b[39m, \u001b[38;5;241m1\u001b[39m, \u001b[38;5;241m2\u001b[39m, \u001b[38;5;241m3\u001b[39m)\n",
      "\u001b[0;31mTypeError\u001b[0m: task() takes 0 positional arguments but 1 was given"
     ]
    }
   ],
   "source": [
    "def task():\n",
    "    pass\n",
    "\n",
    "\n",
    "task(\"MIN\")\n",
    "task(\"MAX\", 1, 2, 3)"
   ]
  }
 ],
 "metadata": {
  "kernelspec": {
   "display_name": "Python 3",
   "language": "python",
   "name": "python3"
  },
  "language_info": {
   "codemirror_mode": {
    "name": "ipython",
    "version": 3
   },
   "file_extension": ".py",
   "mimetype": "text/x-python",
   "name": "python",
   "nbconvert_exporter": "python",
   "pygments_lexer": "ipython3",
   "version": "3.12.3"
  }
 },
 "nbformat": 4,
 "nbformat_minor": 2
}
