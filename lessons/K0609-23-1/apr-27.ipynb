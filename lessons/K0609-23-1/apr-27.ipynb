{
 "cells": [
  {
   "cell_type": "code",
   "execution_count": 31,
   "metadata": {},
   "outputs": [
    {
     "name": "stdout",
     "output_type": "stream",
     "text": [
      "22\t23\t9\n",
      "23\t22\t9\n",
      "24\t21\t9\n",
      "25\t20\t9\n",
      "26\t19\t18\n"
     ]
    },
    {
     "data": {
      "text/plain": [
       "18"
      ]
     },
     "execution_count": 31,
     "metadata": {},
     "output_type": "execute_result"
    }
   ],
   "source": [
    "def solve(n): \n",
    "    DigitSum = lambda x: sum(map(int, list(str(x))))\n",
    "    \n",
    "    a = n // 2\n",
    "    b = n - a\n",
    "    l = len(str(a))\n",
    "    ans = 0\n",
    "\n",
    "    while len(str(a)) == l and len(str(b)) == l:\n",
    "        print(a, b, DigitSum(a) + DigitSum(b), sep='\\t')\n",
    "        # if DigitSum(a) + DigitSum(b) > ans:\n",
    "        #     ans = DigitSum(a) + DigitSum(b)\n",
    "        if '9' in str(a) or '9' in str(b):\n",
    "            return DigitSum(a) + DigitSum(b)\n",
    "        a += 1\n",
    "        b -= 1\n",
    "    return ans\n",
    "\n",
    "solve(45)"
   ]
  },
  {
   "cell_type": "code",
   "execution_count": 14,
   "metadata": {},
   "outputs": [
    {
     "data": {
      "text/plain": [
       "4"
      ]
     },
     "execution_count": 14,
     "metadata": {},
     "output_type": "execute_result"
    }
   ],
   "source": [
    "len(str(7019 // 2))"
   ]
  }
 ],
 "metadata": {
  "kernelspec": {
   "display_name": "Python 3",
   "language": "python",
   "name": "python3"
  },
  "language_info": {
   "codemirror_mode": {
    "name": "ipython",
    "version": 3
   },
   "file_extension": ".py",
   "mimetype": "text/x-python",
   "name": "python",
   "nbconvert_exporter": "python",
   "pygments_lexer": "ipython3",
   "version": "3.11.6"
  }
 },
 "nbformat": 4,
 "nbformat_minor": 2
}
