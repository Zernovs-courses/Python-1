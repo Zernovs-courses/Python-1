{
 "cells": [
  {
   "cell_type": "code",
   "execution_count": 10,
   "metadata": {},
   "outputs": [
    {
     "data": {
      "text/plain": [
       "4"
      ]
     },
     "execution_count": 10,
     "metadata": {},
     "output_type": "execute_result"
    }
   ],
   "source": [
    "from random import randint, choice, choices\n",
    "\n",
    "randint(1, 15)"
   ]
  },
  {
   "cell_type": "code",
   "execution_count": 21,
   "metadata": {},
   "outputs": [
    {
     "data": {
      "text/plain": [
       "'6'"
      ]
     },
     "execution_count": 21,
     "metadata": {},
     "output_type": "execute_result"
    }
   ],
   "source": [
    "choice(\"range(1, 16)\")"
   ]
  },
  {
   "cell_type": "code",
   "execution_count": 35,
   "metadata": {},
   "outputs": [
    {
     "data": {
      "text/plain": [
       "[6,\n",
       " 10,\n",
       " 3,\n",
       " 10,\n",
       " 1,\n",
       " 2,\n",
       " 11,\n",
       " 1,\n",
       " 2,\n",
       " 8,\n",
       " 2,\n",
       " 6,\n",
       " 8,\n",
       " 11,\n",
       " 2,\n",
       " 3,\n",
       " 14,\n",
       " 12,\n",
       " 5,\n",
       " 7,\n",
       " 12,\n",
       " 13,\n",
       " 8,\n",
       " 7,\n",
       " 11,\n",
       " 5,\n",
       " 11,\n",
       " 5,\n",
       " 13,\n",
       " 12,\n",
       " 1,\n",
       " 2,\n",
       " 6,\n",
       " 4,\n",
       " 11,\n",
       " 4,\n",
       " 5,\n",
       " 11,\n",
       " 3,\n",
       " 4,\n",
       " 4,\n",
       " 3,\n",
       " 8,\n",
       " 13,\n",
       " 14,\n",
       " 10,\n",
       " 7,\n",
       " 15,\n",
       " 11,\n",
       " 7,\n",
       " 4,\n",
       " 9,\n",
       " 1,\n",
       " 2,\n",
       " 14,\n",
       " 4,\n",
       " 9,\n",
       " 15,\n",
       " 3,\n",
       " 2,\n",
       " 1,\n",
       " 14,\n",
       " 13,\n",
       " 7,\n",
       " 6,\n",
       " 5,\n",
       " 10,\n",
       " 7,\n",
       " 3,\n",
       " 14,\n",
       " 2,\n",
       " 9,\n",
       " 9,\n",
       " 12,\n",
       " 4,\n",
       " 13,\n",
       " 6,\n",
       " 12,\n",
       " 13,\n",
       " 4,\n",
       " 12,\n",
       " 2,\n",
       " 3,\n",
       " 2,\n",
       " 14,\n",
       " 15,\n",
       " 9,\n",
       " 10,\n",
       " 11,\n",
       " 6,\n",
       " 14,\n",
       " 3,\n",
       " 14,\n",
       " 14,\n",
       " 6,\n",
       " 9,\n",
       " 3,\n",
       " 2,\n",
       " 10,\n",
       " 4]"
      ]
     },
     "execution_count": 35,
     "metadata": {},
     "output_type": "execute_result"
    }
   ],
   "source": [
    "choices(range(1, 16), k=100)"
   ]
  },
  {
   "cell_type": "code",
   "execution_count": 38,
   "metadata": {},
   "outputs": [
    {
     "name": "stdout",
     "output_type": "stream",
     "text": [
      "0 B\n",
      "[14, 13, 5, 8, 3]\n",
      "1 I\n",
      "[18, 22, 29, 17, 25]\n",
      "2 N\n",
      "[34, 41, 42, 32]\n",
      "3 G\n",
      "[52, 57, 53, 56, 55]\n",
      "4 O\n",
      "[69, 70, 66, 61, 67]\n"
     ]
    },
    {
     "data": {
      "text/plain": [
       "['B14',\n",
       " 'B13',\n",
       " 'B5',\n",
       " 'B8',\n",
       " 'B3',\n",
       " 'I18',\n",
       " 'I22',\n",
       " 'I29',\n",
       " 'I17',\n",
       " 'I25',\n",
       " 'N34',\n",
       " 'N41',\n",
       " 'N42',\n",
       " 'N32',\n",
       " 'G52',\n",
       " 'G57',\n",
       " 'G53',\n",
       " 'G56',\n",
       " 'G55',\n",
       " 'O69',\n",
       " 'O70',\n",
       " 'O66',\n",
       " 'O61',\n",
       " 'O67']"
      ]
     },
     "execution_count": 38,
     "metadata": {},
     "output_type": "execute_result"
    }
   ],
   "source": [
    "from random import choices\n",
    "\n",
    "\n",
    "def get_bingo_card():\n",
    "    res = []\n",
    "\n",
    "    for i, c in enumerate(\"BINGO\"):\n",
    "        print(i, c)\n",
    "        n = 4 if i == 2 else 5\n",
    "        col = choices(range(1 + 15 * i, 15 * (i + 1)), k=n)\n",
    "        while len(set(col := choices(range(1 + 15 * i, 15 * (i + 1)), k=n))) != n: pass\n",
    "\n",
    "        print(col)\n",
    "\n",
    "        res.extend([c + str(i) for i in col])\n",
    "\n",
    "    return res\n",
    "\n",
    "\n",
    "get_bingo_card()"
   ]
  },
  {
   "cell_type": "code",
   "execution_count": 59,
   "metadata": {},
   "outputs": [
    {
     "data": {
      "text/plain": [
       "(True, True, True)"
      ]
     },
     "execution_count": 59,
     "metadata": {},
     "output_type": "execute_result"
    }
   ],
   "source": [
    "def ip_to_int32(ip: str):\n",
    "    return int(''.join([f\"{bin(int(i))[2:]:>08}\" for i in ip.split(\".\")]), 2)\n",
    "\n",
    "(\n",
    "    ip_to_int32(\"128.114.17.104\") == 2154959208,\n",
    "    ip_to_int32(\"0.0.0.0\") == 0,\n",
    "    ip_to_int32(\"128.32.10.1\") == 2149583361,\n",
    ")"
   ]
  },
  {
   "cell_type": "code",
   "execution_count": 67,
   "metadata": {},
   "outputs": [
    {
     "data": {
      "text/plain": [
       "'a23'"
      ]
     },
     "execution_count": 67,
     "metadata": {},
     "output_type": "execute_result"
    }
   ],
   "source": [
    "def dist_same_letter(st: str):\n",
    "    res = []\n",
    "    for i, c in enumerate(st):\n",
    "        res.append((c, st.rfind(c) - i + 1))\n",
    "\n",
    "    res = max(res, key=lambda x: x[1])\n",
    "    return res[0] + str(res[1])\n",
    "\n",
    "\n",
    "dist_same_letter(\"fffffahhhhhhaaahhhhbhhahhhhabxx\")"
   ]
  }
 ],
 "metadata": {
  "kernelspec": {
   "display_name": "Python 3",
   "language": "python",
   "name": "python3"
  },
  "language_info": {
   "codemirror_mode": {
    "name": "ipython",
    "version": 3
   },
   "file_extension": ".py",
   "mimetype": "text/x-python",
   "name": "python",
   "nbconvert_exporter": "python",
   "pygments_lexer": "ipython3",
   "version": "3.11.6"
  }
 },
 "nbformat": 4,
 "nbformat_minor": 2
}
