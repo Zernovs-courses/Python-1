{
 "cells": [
  {
   "cell_type": "markdown",
   "metadata": {},
   "source": [
    "# Функции"
   ]
  },
  {
   "cell_type": "markdown",
   "metadata": {},
   "source": [
    "Функция - блок организованного многократно используемого кода"
   ]
  },
  {
   "cell_type": "markdown",
   "metadata": {},
   "source": [
    "```py\n",
    "def <имя_функции>(<аргументы_функции>):\n",
    "    <тело функции>\n",
    "\n",
    "    return <возвращаемое_значение>\n",
    "```"
   ]
  },
  {
   "cell_type": "code",
   "execution_count": 6,
   "metadata": {},
   "outputs": [
    {
     "name": "stdout",
     "output_type": "stream",
     "text": [
      "7\n",
      "5\n",
      "12\n",
      "5\n",
      "5\n",
      "10\n",
      "21\n",
      "219\n",
      "240\n"
     ]
    }
   ],
   "source": [
    "def calc(a, b):\n",
    "    print(a)\n",
    "    print(b)\n",
    "    return a + b\n",
    "\n",
    "\n",
    "print(calc(7, 5))  # вызов функции\n",
    "print(calc(5, 5))\n",
    "print(calc(21, 219))"
   ]
  },
  {
   "cell_type": "code",
   "execution_count": 8,
   "metadata": {},
   "outputs": [
    {
     "name": "stdout",
     "output_type": "stream",
     "text": [
      "5\n",
      "3\n",
      "8\n"
     ]
    }
   ],
   "source": [
    "sum = calc(5, 3)\n",
    "print(sum)"
   ]
  },
  {
   "cell_type": "code",
   "execution_count": 10,
   "metadata": {},
   "outputs": [
    {
     "name": "stdout",
     "output_type": "stream",
     "text": [
      "Hello world\n",
      "None\n"
     ]
    }
   ],
   "source": [
    "def print_hello_world():\n",
    "    print(\"Hello world\")\n",
    "\n",
    "\n",
    "print(print_hello_world())"
   ]
  },
  {
   "cell_type": "markdown",
   "metadata": {},
   "source": [
    "## Аргументы функции\n",
    "\n",
    "1. Обязательные аргументы\n",
    "2. Аргументы-ключевые слова\n",
    "3. Аргументы по-умолчанию\n",
    "4. Аргументы произвольной длины"
   ]
  },
  {
   "cell_type": "code",
   "execution_count": 13,
   "metadata": {},
   "outputs": [
    {
     "data": {
      "text/plain": [
       "350"
      ]
     },
     "execution_count": 13,
     "metadata": {},
     "output_type": "execute_result"
    }
   ],
   "source": [
    "def hour_to_sec(hour, min, sec):  # все параметры обязательные\n",
    "    return hour * 60 * 60 + min * 60 + sec\n",
    "\n",
    "\n",
    "hour_to_sec(0, 5, 50)"
   ]
  },
  {
   "cell_type": "code",
   "execution_count": 14,
   "metadata": {},
   "outputs": [
    {
     "ename": "TypeError",
     "evalue": "hour_to_sec() missing 1 required positional argument: 'sec'",
     "output_type": "error",
     "traceback": [
      "\u001b[0;31m---------------------------------------------------------------------------\u001b[0m",
      "\u001b[0;31mTypeError\u001b[0m                                 Traceback (most recent call last)",
      "Cell \u001b[0;32mIn[14], line 1\u001b[0m\n\u001b[0;32m----> 1\u001b[0m \u001b[43mhour_to_sec\u001b[49m\u001b[43m(\u001b[49m\u001b[38;5;241;43m0\u001b[39;49m\u001b[43m,\u001b[49m\u001b[43m \u001b[49m\u001b[38;5;241;43m5\u001b[39;49m\u001b[43m)\u001b[49m\n",
      "\u001b[0;31mTypeError\u001b[0m: hour_to_sec() missing 1 required positional argument: 'sec'"
     ]
    }
   ],
   "source": [
    "hour_to_sec(0, 5)"
   ]
  },
  {
   "cell_type": "code",
   "execution_count": 15,
   "metadata": {},
   "outputs": [
    {
     "data": {
      "text/plain": [
       "315"
      ]
     },
     "execution_count": 15,
     "metadata": {},
     "output_type": "execute_result"
    }
   ],
   "source": [
    "hour_to_sec(hour=0, min=5, sec=15)  # аргументы-ключевые слова"
   ]
  },
  {
   "cell_type": "code",
   "execution_count": 16,
   "metadata": {},
   "outputs": [
    {
     "data": {
      "text/plain": [
       "315"
      ]
     },
     "execution_count": 16,
     "metadata": {},
     "output_type": "execute_result"
    }
   ],
   "source": [
    "hour_to_sec(min=5, hour=0, sec=15)  # аргументы-ключевые слова"
   ]
  },
  {
   "cell_type": "code",
   "execution_count": 20,
   "metadata": {},
   "outputs": [
    {
     "name": "stdout",
     "output_type": "stream",
     "text": [
      "John is 20 years old\n",
      "Jane is 18 years old\n"
     ]
    }
   ],
   "source": [
    "def person(name, age=18):  # age - аргумент по-умолчанию\n",
    "    print(f\"{name} is {age} years old\")\n",
    "\n",
    "\n",
    "person(\"John\", 20)\n",
    "person(\"Jane\")"
   ]
  },
  {
   "cell_type": "code",
   "execution_count": 21,
   "metadata": {},
   "outputs": [
    {
     "name": "stdout",
     "output_type": "stream",
     "text": [
      "()\n",
      "('string',)\n",
      "('string', 1, True, [1, 2, 3])\n"
     ]
    }
   ],
   "source": [
    "def print_args(*args):\n",
    "    print(args)\n",
    "\n",
    "\n",
    "print_args()\n",
    "print_args(\"string\")\n",
    "print_args(\"string\", 1, True, [1, 2, 3])"
   ]
  },
  {
   "cell_type": "code",
   "execution_count": 22,
   "metadata": {},
   "outputs": [
    {
     "name": "stdout",
     "output_type": "stream",
     "text": [
      "{'a': 12, 'b': 'string'}\n"
     ]
    }
   ],
   "source": [
    "def print_kwargs(**kwargs):\n",
    "    print(kwargs)\n",
    "\n",
    "\n",
    "print_kwargs(a=12, b=\"string\")"
   ]
  },
  {
   "cell_type": "code",
   "execution_count": 25,
   "metadata": {},
   "outputs": [
    {
     "ename": "TypeError",
     "evalue": "foo() missing 1 required positional argument: 'b'",
     "output_type": "error",
     "traceback": [
      "\u001b[0;31m---------------------------------------------------------------------------\u001b[0m",
      "\u001b[0;31mTypeError\u001b[0m                                 Traceback (most recent call last)",
      "Cell \u001b[0;32mIn[25], line 4\u001b[0m\n\u001b[1;32m      1\u001b[0m \u001b[38;5;28;01mdef\u001b[39;00m \u001b[38;5;21mfoo\u001b[39m(a, b, \u001b[38;5;241m*\u001b[39margs, k\u001b[38;5;241m=\u001b[39m\u001b[38;5;241m1\u001b[39m, c\u001b[38;5;241m=\u001b[39m\u001b[38;5;28;01mTrue\u001b[39;00m, \u001b[38;5;241m*\u001b[39m\u001b[38;5;241m*\u001b[39mkwargs):\n\u001b[1;32m      2\u001b[0m     \u001b[38;5;28;01mreturn\u001b[39;00m \u001b[38;5;28;01mTrue\u001b[39;00m\n\u001b[0;32m----> 4\u001b[0m \u001b[43mfoo\u001b[49m\u001b[43m(\u001b[49m\u001b[38;5;241;43m0\u001b[39;49m\u001b[43m,\u001b[49m\u001b[43m \u001b[49m\u001b[43m)\u001b[49m\n",
      "\u001b[0;31mTypeError\u001b[0m: foo() missing 1 required positional argument: 'b'"
     ]
    }
   ],
   "source": [
    "def foo(a, b, *args, k=1, c=True, **kwargs):\n",
    "    return True\n",
    "\n",
    "\n",
    "foo(\n",
    "    0,\n",
    ")"
   ]
  },
  {
   "cell_type": "markdown",
   "metadata": {},
   "source": [
    "## Области видимости переменных"
   ]
  },
  {
   "cell_type": "code",
   "execution_count": 27,
   "metadata": {},
   "outputs": [
    {
     "name": "stdout",
     "output_type": "stream",
     "text": [
      "10\n"
     ]
    }
   ],
   "source": [
    "def f():\n",
    "    # локальная область видимости\n",
    "    print(a)\n",
    "\n",
    "\n",
    "# глобальная область видимости\n",
    "a = 10\n",
    "f()"
   ]
  },
  {
   "cell_type": "code",
   "execution_count": 32,
   "metadata": {},
   "outputs": [
    {
     "name": "stdout",
     "output_type": "stream",
     "text": [
      "5\n",
      "10\n"
     ]
    }
   ],
   "source": [
    "def f():\n",
    "    # локальная область видимости\n",
    "    a = 5  # операция присвоения создает локальную переменную\n",
    "    print(a)\n",
    "\n",
    "\n",
    "# глобальная область видимости\n",
    "a = 10\n",
    "\n",
    "f()\n",
    "\n",
    "print(a)"
   ]
  },
  {
   "cell_type": "code",
   "execution_count": 34,
   "metadata": {},
   "outputs": [
    {
     "name": "stdout",
     "output_type": "stream",
     "text": [
      "5\n",
      "5\n"
     ]
    }
   ],
   "source": [
    "def f():\n",
    "    # локальная область видимости\n",
    "    global a  # ссылка на глобальную переменную а\n",
    "    a = 5\n",
    "    print(a)\n",
    "\n",
    "\n",
    "# глобальная область видимости\n",
    "a = 10\n",
    "\n",
    "f()\n",
    "\n",
    "print(a)"
   ]
  },
  {
   "cell_type": "markdown",
   "metadata": {},
   "source": [
    "## nonlocal"
   ]
  },
  {
   "cell_type": "code",
   "execution_count": 14,
   "metadata": {},
   "outputs": [
    {
     "name": "stdout",
     "output_type": "stream",
     "text": [
      "local variables for plus():  {'a': 5, 'b': 10}\n",
      "local variables for nested():  {'b': 10}\n",
      "b=20\n",
      "a=5\n",
      "b=20\n",
      "a=50\n",
      "b=100\n"
     ]
    }
   ],
   "source": [
    "def plus():\n",
    "    a = 5\n",
    "    b = 10\n",
    "\n",
    "    print(\"local variables for plus(): \", locals())\n",
    "\n",
    "    def nested():\n",
    "        print(\"local variables for nested(): \", locals())\n",
    "        a = 1\n",
    "\n",
    "        nonlocal b\n",
    "        b = b + 10\n",
    "        print(f\"b={b}\")\n",
    "\n",
    "    nested()\n",
    "    print(f\"a={a}\")\n",
    "    print(f\"b={b}\")\n",
    "\n",
    "\n",
    "a = 50\n",
    "b = 100\n",
    "\n",
    "plus()\n",
    "\n",
    "print(f\"a={a}\")\n",
    "print(f\"b={b}\")"
   ]
  },
  {
   "cell_type": "markdown",
   "metadata": {},
   "source": [
    "## Рекурсия"
   ]
  },
  {
   "cell_type": "markdown",
   "metadata": {},
   "source": [
    "$$f_1=0, f_2=1, ..., f_n=f_{n-1}+f_{n-2}$$"
   ]
  },
  {
   "cell_type": "code",
   "execution_count": 42,
   "metadata": {},
   "outputs": [
    {
     "data": {
      "text/plain": [
       "5050"
      ]
     },
     "execution_count": 42,
     "metadata": {},
     "output_type": "execute_result"
    }
   ],
   "source": [
    "def f(n):\n",
    "    if n == 1:\n",
    "        return 1\n",
    "    else:\n",
    "        return n + f(n - 1)\n",
    "\n",
    "\n",
    "f(100)"
   ]
  },
  {
   "cell_type": "markdown",
   "metadata": {},
   "source": [
    "$$\n",
    "f(100) = 100 + f(99) = 100 + (99 + f(98)) = 100 + (99 + (98 + f(97)))=...=100+99+98+...+1\n",
    "$$"
   ]
  },
  {
   "cell_type": "markdown",
   "metadata": {},
   "source": []
  },
  {
   "cell_type": "markdown",
   "metadata": {},
   "source": [
    "# Lambda-functions (лямбда-функции, анонимные функции)"
   ]
  },
  {
   "cell_type": "markdown",
   "metadata": {},
   "source": [
    "```py\n",
    "lambda <имена аргументов>: <выражение>\n",
    "```"
   ]
  },
  {
   "cell_type": "code",
   "execution_count": 18,
   "metadata": {},
   "outputs": [
    {
     "data": {
      "text/plain": [
       "(30, 30)"
      ]
     },
     "execution_count": 18,
     "metadata": {},
     "output_type": "execute_result"
    }
   ],
   "source": [
    "def fun(a, b):\n",
    "    return a + b\n",
    "\n",
    "\n",
    "f = lambda a, b: a + b\n",
    "\n",
    "f(10, 20), fun(10, 20)"
   ]
  },
  {
   "cell_type": "code",
   "execution_count": 20,
   "metadata": {},
   "outputs": [
    {
     "data": {
      "text/plain": [
       "[1, 2, 3, 4, 5, 6, 7, 8, 10]"
      ]
     },
     "execution_count": 20,
     "metadata": {},
     "output_type": "execute_result"
    }
   ],
   "source": [
    "arr = [2, 3, 5, 4, 1, 7, 10, 6, 8]\n",
    "\n",
    "arr.sort()\n",
    "arr"
   ]
  },
  {
   "cell_type": "code",
   "execution_count": 23,
   "metadata": {},
   "outputs": [
    {
     "data": {
      "text/plain": [
       "[1, 2, -3, -4, 5, -6, -7, 8, 10]"
      ]
     },
     "execution_count": 23,
     "metadata": {},
     "output_type": "execute_result"
    }
   ],
   "source": [
    "arr = [2, -3, 5, -4, 1, -7, 10, -6, 8]\n",
    "\n",
    "\n",
    "def k(x):\n",
    "    return abs(x)\n",
    "\n",
    "\n",
    "arr.sort(key=k)\n",
    "arr"
   ]
  },
  {
   "cell_type": "code",
   "execution_count": null,
   "metadata": {},
   "outputs": [
    {
     "data": {
      "text/plain": [
       "[1, 2, -3, -4, 5, -6, -7, 8, 10]"
      ]
     },
     "metadata": {},
     "output_type": "display_data"
    }
   ],
   "source": [
    "arr = [2, -3, 5, -4, 1, -7, 10, -6, 8]\n",
    "\n",
    "arr.sort(key=lambda x: abs(x))\n",
    "arr"
   ]
  },
  {
   "cell_type": "code",
   "execution_count": 26,
   "metadata": {},
   "outputs": [
    {
     "data": {
      "text/plain": [
       "[1.6, 10.4, 27.84, 3.84, 14.4]"
      ]
     },
     "execution_count": 26,
     "metadata": {},
     "output_type": "execute_result"
    }
   ],
   "source": [
    "mile = [1.0, 6.5, 17.4, 2.4, 9]\n",
    "\n",
    "kilometer = list(map(lambda x: x * 1.6, mile))\n",
    "kilometer"
   ]
  },
  {
   "cell_type": "code",
   "execution_count": 27,
   "metadata": {},
   "outputs": [
    {
     "data": {
      "text/plain": [
       "10"
      ]
     },
     "execution_count": 27,
     "metadata": {},
     "output_type": "execute_result"
    }
   ],
   "source": [
    "f = lambda: 10\n",
    "f()"
   ]
  },
  {
   "cell_type": "code",
   "execution_count": 29,
   "metadata": {},
   "outputs": [
    {
     "data": {
      "text/plain": [
       "(1, 2)"
      ]
     },
     "execution_count": 29,
     "metadata": {},
     "output_type": "execute_result"
    }
   ],
   "source": [
    "f = lambda *args: (args[0], args[1])\n",
    "f(1, 2)"
   ]
  },
  {
   "cell_type": "markdown",
   "metadata": {},
   "source": [
    "# DOCSTRING"
   ]
  },
  {
   "cell_type": "code",
   "execution_count": 33,
   "metadata": {},
   "outputs": [
    {
     "name": "stdout",
     "output_type": "stream",
     "text": [
      "Just some string for documenting\n",
      "\n",
      "Function does nothing\n",
      "    \n"
     ]
    }
   ],
   "source": [
    "def foo():\n",
    "    \"\"\"Just some string for documenting\n",
    "\n",
    "    Function does nothing\n",
    "    \"\"\"\n",
    "\n",
    "    pass\n",
    "\n",
    "\n",
    "print(foo.__doc__)\n",
    "\n",
    "print()"
   ]
  },
  {
   "cell_type": "code",
   "execution_count": null,
   "metadata": {},
   "outputs": [
    {
     "name": "stdout",
     "output_type": "stream",
     "text": [
      "Just some string for documenting\n",
      "\n",
      "Function does nothing\n",
      "    \n"
     ]
    }
   ],
   "source": [
    "def foo(a: int, b: list[int], c: str | None, d):\n",
    "    \"\"\"Just some string for documenting\n",
    "\n",
    "    Function does nothing\n",
    "    \"\"\"\n",
    "\n",
    "    pass\n",
    "\n",
    "\n",
    "print(foo.__doc__)\n",
    "\n",
    "foo()"
   ]
  },
  {
   "cell_type": "markdown",
   "metadata": {},
   "source": [
    "# Перегрузка функций"
   ]
  },
  {
   "cell_type": "code",
   "execution_count": 41,
   "metadata": {},
   "outputs": [
    {
     "name": "stdout",
     "output_type": "stream",
     "text": [
      "2024-04-08 15:00:00\n",
      "15:00:00\n",
      "2024-04-08\n",
      "Argument label should be datetime variable\n"
     ]
    }
   ],
   "source": [
    "from datetime import datetime, date, time\n",
    "\n",
    "\n",
    "def date_to_str(label):\n",
    "    if isinstance(label, datetime):\n",
    "        return label.strftime(\"%Y-%m-%d %H:%M:%S\")\n",
    "    elif isinstance(label, date):\n",
    "        return label.strftime(\"%Y-%m-%d\")\n",
    "    elif isinstance(label, time):\n",
    "        return label.strftime(\"%H:%M:%S\")\n",
    "    else:\n",
    "        return \"Argument label should be datetime variable\"\n",
    "\n",
    "\n",
    "print(date_to_str(datetime(2024, 4, 8, 15, 0)))\n",
    "print(date_to_str(time(15, 0)))\n",
    "print(date_to_str(date(2024, 4, 8)))\n",
    "print(date_to_str(\"some string\"))"
   ]
  },
  {
   "cell_type": "markdown",
   "metadata": {},
   "source": [
    "## Задачи"
   ]
  },
  {
   "cell_type": "markdown",
   "metadata": {},
   "source": [
    "Даны четыре действительных числа: $x_1, y_1, x_2, y_2$. Напишите функцию `distance(x1, y1, x2, y2)`, вычисляющая расстояние между точкой $(x_1,y_1)$ и $(x_2,y_2)$."
   ]
  },
  {
   "cell_type": "code",
   "execution_count": 44,
   "metadata": {},
   "outputs": [
    {
     "data": {
      "text/plain": [
       "5.656854249492381"
      ]
     },
     "execution_count": 44,
     "metadata": {},
     "output_type": "execute_result"
    }
   ],
   "source": [
    "from math import sqrt\n",
    "\n",
    "\n",
    "def distance(x1, y1, x2, y2):\n",
    "    return sqrt((x1 - x2) ** 2 + (y1 - y2) ** 2)\n",
    "\n",
    "\n",
    "distance(1, 1, 5, 5)"
   ]
  },
  {
   "cell_type": "markdown",
   "metadata": {},
   "source": [
    "Дано действительное положительное число $a$ и целоe число $n$.\n",
    "\n",
    "Вычислите $a^n$. Решение оформите в виде функции `power(a, n)`.\n",
    "\n",
    "Стандартной функцией возведения в степень пользоваться нельзя."
   ]
  },
  {
   "cell_type": "code",
   "execution_count": 52,
   "metadata": {},
   "outputs": [
    {
     "data": {
      "text/plain": [
       "(1024, 1)"
      ]
     },
     "execution_count": 52,
     "metadata": {},
     "output_type": "execute_result"
    }
   ],
   "source": [
    "def power(a, n):\n",
    "    b = 1\n",
    "    for _ in range(n):\n",
    "        b = b * a\n",
    "\n",
    "    return b\n",
    "\n",
    "\n",
    "power(2, 10), power(2, 0)"
   ]
  },
  {
   "cell_type": "markdown",
   "metadata": {},
   "source": [
    "Напишите функцию `capitalize()`, которая принимает слово из маленьких латинских букв и возвращает его же, меняя первую букву на большую.\n",
    "Например, `print(capitalize('word'))` должно печатать слово `Word`.\n",
    "\n",
    "На вход подаётся строка, состоящая из слов, разделённых одним пробелом. Слова состоят из маленьких латинских букв. Напечатайте исходную строку, сделав так, чтобы каждое слово начиналось с большой буквы. При этом используйте вашу функцию `capitalize()`.\n",
    "\n",
    "> Напомним, что в Питоне есть функция `ord()`, которая по символу возвращает его код в таблице ASCII, и функция `chr()`, которая по коду символа возвращает сам символ. Например, `ord('a') == 97`, `chr(97) == 'a'`."
   ]
  },
  {
   "cell_type": "code",
   "execution_count": 62,
   "metadata": {},
   "outputs": [
    {
     "data": {
      "text/plain": [
       "'Some Other'"
      ]
     },
     "execution_count": 62,
     "metadata": {},
     "output_type": "execute_result"
    }
   ],
   "source": [
    "def capitalize(word: str):\n",
    "    word = word.split()\n",
    "    for i in range(len(word)):\n",
    "        word[i] = chr(ord(word[i][0]) - 32) + word[i][1:]\n",
    "    return \" \".join(word)\n",
    "\n",
    "\n",
    "capitalize(\"some other\")"
   ]
  },
  {
   "cell_type": "code",
   "execution_count": 69,
   "metadata": {},
   "outputs": [
    {
     "data": {
      "text/plain": [
       "'Some'"
      ]
     },
     "execution_count": 69,
     "metadata": {},
     "output_type": "execute_result"
    }
   ],
   "source": [
    "def capitalize(word: str):\n",
    "    def cap(word: str):\n",
    "        return chr(ord(word[0]) - 32) + word[1:]\n",
    "\n",
    "    # word = word.split()\n",
    "    # for i in range(len(word)):\n",
    "    #     word[i] = cap(word[i])\n",
    "\n",
    "    word = [cap(w) for w in word.split()]\n",
    "\n",
    "    return \" \".join(word)\n",
    "\n",
    "\n",
    "capitalize(\"some\")"
   ]
  },
  {
   "cell_type": "code",
   "execution_count": 76,
   "metadata": {},
   "outputs": [
    {
     "ename": "ValueError",
     "evalue": "capitalize should get str as input",
     "output_type": "error",
     "traceback": [
      "\u001b[0;31m---------------------------------------------------------------------------\u001b[0m",
      "\u001b[0;31mValueError\u001b[0m                                Traceback (most recent call last)",
      "Cell \u001b[0;32mIn[76], line 22\u001b[0m\n\u001b[1;32m     18\u001b[0m     \u001b[38;5;28;01melse\u001b[39;00m:\n\u001b[1;32m     19\u001b[0m         \u001b[38;5;28;01mraise\u001b[39;00m \u001b[38;5;167;01mValueError\u001b[39;00m(\u001b[38;5;124m'\u001b[39m\u001b[38;5;124mcapitalize should get str as input\u001b[39m\u001b[38;5;124m'\u001b[39m)\n\u001b[0;32m---> 22\u001b[0m capitalize(\u001b[38;5;124m\"\u001b[39m\u001b[38;5;124msome\u001b[39m\u001b[38;5;124m\"\u001b[39m), capitalize(\u001b[38;5;124m\"\u001b[39m\u001b[38;5;124mSOME\u001b[39m\u001b[38;5;124m\"\u001b[39m), \u001b[43mcapitalize\u001b[49m\u001b[43m(\u001b[49m\u001b[38;5;241;43m21728\u001b[39;49m\u001b[43m)\u001b[49m\n",
      "Cell \u001b[0;32mIn[76], line 19\u001b[0m, in \u001b[0;36mcapitalize\u001b[0;34m(word)\u001b[0m\n\u001b[1;32m     17\u001b[0m     \u001b[38;5;28;01mreturn\u001b[39;00m \u001b[38;5;124m\"\u001b[39m\u001b[38;5;124m \u001b[39m\u001b[38;5;124m\"\u001b[39m\u001b[38;5;241m.\u001b[39mjoin(word)\n\u001b[1;32m     18\u001b[0m \u001b[38;5;28;01melse\u001b[39;00m:\n\u001b[0;32m---> 19\u001b[0m     \u001b[38;5;28;01mraise\u001b[39;00m \u001b[38;5;167;01mValueError\u001b[39;00m(\u001b[38;5;124m'\u001b[39m\u001b[38;5;124mcapitalize should get str as input\u001b[39m\u001b[38;5;124m'\u001b[39m)\n",
      "\u001b[0;31mValueError\u001b[0m: capitalize should get str as input"
     ]
    }
   ],
   "source": [
    "def capitalize(word: str):\n",
    "    def cap(word: str):\n",
    "        if isinstance(word, str):\n",
    "            if word[0].islower():\n",
    "                return chr(ord(word[0]) - 32) + word[1:]\n",
    "            return word\n",
    "        else:\n",
    "            raise ValueError('cap should get str as input')\n",
    "\n",
    "    # word = word.split()\n",
    "    # for i in range(len(word)):\n",
    "    #     word[i] = cap(word[i])\n",
    "    \n",
    "    if isinstance(word, str):\n",
    "        word = [cap(w) for w in word.split()]\n",
    "\n",
    "        return \" \".join(word)\n",
    "    else:\n",
    "        raise ValueError('capitalize should get str as input')\n",
    "\n",
    "\n",
    "capitalize(\"some\"), capitalize(\"SOME\"), capitalize(21728)"
   ]
  },
  {
   "cell_type": "code",
   "execution_count": 56,
   "metadata": {},
   "outputs": [
    {
     "data": {
      "text/plain": [
       "-32"
      ]
     },
     "execution_count": 56,
     "metadata": {},
     "output_type": "execute_result"
    }
   ],
   "source": [
    "ord(\"A\") - ord(\"a\")"
   ]
  },
  {
   "cell_type": "code",
   "execution_count": 59,
   "metadata": {},
   "outputs": [
    {
     "data": {
      "text/plain": [
       "'H'"
      ]
     },
     "execution_count": 59,
     "metadata": {},
     "output_type": "execute_result"
    }
   ],
   "source": [
    "chr(ord(\"h\") - 32)"
   ]
  },
  {
   "cell_type": "markdown",
   "metadata": {},
   "source": [
    "Дано действительное положительное число $a$ и целое неотрицательное число $n$. Вычислите $an$ не используя циклы, возведение в степень через `**` и функцию `math.pow()`, а используя рекуррентное соотношение $a^n=a⋅a^{n-1}$.\n",
    "\n",
    "Решение оформите в виде функции `power(a, n)`."
   ]
  },
  {
   "cell_type": "code",
   "execution_count": null,
   "metadata": {},
   "outputs": [],
   "source": []
  },
  {
   "cell_type": "markdown",
   "metadata": {},
   "source": [
    "Дана последовательность целых чисел, заканчивающаяся числом 0. Выведите эту последовательность в обратном порядке.\n",
    "При решении этой задачи нельзя пользоваться массивами и прочими динамическими структурами данных. Рекурсия вам поможет."
   ]
  },
  {
   "cell_type": "code",
   "execution_count": null,
   "metadata": {},
   "outputs": [],
   "source": []
  },
  {
   "cell_type": "markdown",
   "metadata": {},
   "source": [
    "Напишите функцию `fib(n)`, которая по данному целому неотрицательному $n$ возвращает $n$-e число Фибоначчи. В этой задаче нельзя использовать циклы — используйте рекурсию."
   ]
  },
  {
   "cell_type": "code",
   "execution_count": 48,
   "metadata": {},
   "outputs": [
    {
     "data": {
      "text/plain": [
       "102334155"
      ]
     },
     "execution_count": 48,
     "metadata": {},
     "output_type": "execute_result"
    }
   ],
   "source": [
    "def fib(n):\n",
    "    if n == 0:\n",
    "        return 0\n",
    "    elif n == 1:\n",
    "        return 1\n",
    "\n",
    "    return fib(n - 1) + fib(n - 2)\n",
    "\n",
    "\n",
    "fib(40)"
   ]
  },
  {
   "cell_type": "code",
   "execution_count": 51,
   "metadata": {},
   "outputs": [
    {
     "name": "stdout",
     "output_type": "stream",
     "text": [
      "833 ns ± 10.9 ns per loop (mean ± std. dev. of 7 runs, 1,000,000 loops each)\n"
     ]
    }
   ],
   "source": [
    "%timeit fib(1)"
   ]
  },
  {
   "cell_type": "code",
   "execution_count": 52,
   "metadata": {},
   "outputs": [
    {
     "name": "stdout",
     "output_type": "stream",
     "text": [
      "2.46 µs ± 30.1 ns per loop (mean ± std. dev. of 7 runs, 100,000 loops each)\n"
     ]
    }
   ],
   "source": [
    "%timeit fib(2)"
   ]
  },
  {
   "cell_type": "code",
   "execution_count": 53,
   "metadata": {},
   "outputs": [
    {
     "name": "stdout",
     "output_type": "stream",
     "text": [
      "4.11 µs ± 129 ns per loop (mean ± std. dev. of 7 runs, 100,000 loops each)\n"
     ]
    }
   ],
   "source": [
    "%timeit fib(3)"
   ]
  },
  {
   "cell_type": "code",
   "execution_count": 54,
   "metadata": {},
   "outputs": [
    {
     "name": "stdout",
     "output_type": "stream",
     "text": [
      "7.31 µs ± 20.6 ns per loop (mean ± std. dev. of 7 runs, 100,000 loops each)\n"
     ]
    }
   ],
   "source": [
    "%timeit fib(4)"
   ]
  },
  {
   "cell_type": "code",
   "execution_count": 57,
   "metadata": {},
   "outputs": [],
   "source": [
    "def fib2(n):\n",
    "    arr = [0] * (n + 1)\n",
    "    arr[1] = 1\n",
    "    for i in range(2, n + 1):\n",
    "        arr[i] = arr[i - 1] + arr[i - 2]\n",
    "    return arr[n]\n",
    "\n",
    "\n",
    "fib2(1000000)"
   ]
  },
  {
   "cell_type": "code",
   "execution_count": null,
   "metadata": {},
   "outputs": [],
   "source": [
    "def fib(n):\n",
    "    if n == 0:\n",
    "        return 0\n",
    "    fib0 = 0\n",
    "    fib1 = 1\n",
    "    if n > 0:\n",
    "        for i in range(2, n+1):\n",
    "            fib0, fib1 = fib1, fib0 + fib1\n",
    "        return fib1\n",
    "    else:\n",
    "        for i in range(0, n, -1):\n",
    "            fib0, fib1 = fib1 - fib0, fib0\n",
    "        return fib0\n",
    "    \n",
    "\n",
    "f = fib(1473919)"
   ]
  },
  {
   "cell_type": "code",
   "execution_count": null,
   "metadata": {},
   "outputs": [],
   "source": []
  },
  {
   "cell_type": "code",
   "execution_count": 8,
   "metadata": {},
   "outputs": [
    {
     "data": {
      "text/plain": [
       "0"
      ]
     },
     "execution_count": 8,
     "metadata": {},
     "output_type": "execute_result"
    }
   ],
   "source": [
    "def fib(n: int):\n",
    "    a, q = 1, 1\n",
    "    b, p = 0, 0\n",
    "    while n > 0:\n",
    "        if (n % 2 == 0):\n",
    "            qq = q*q\n",
    "            q = 2*p*q + qq\n",
    "            p = p*p + qq\n",
    "            n /= 2\n",
    "        else:\n",
    "            aq = a*q\n",
    "            a = b*q + aq + a*p\n",
    "            b = b*p + aq\n",
    "            n -= 1\n",
    "    return b\n",
    "\n",
    "fib(-10)"
   ]
  }
 ],
 "metadata": {
  "kernelspec": {
   "display_name": "Python 3",
   "language": "python",
   "name": "python3"
  },
  "language_info": {
   "codemirror_mode": {
    "name": "ipython",
    "version": 3
   },
   "file_extension": ".py",
   "mimetype": "text/x-python",
   "name": "python",
   "nbconvert_exporter": "python",
   "pygments_lexer": "ipython3",
   "version": "3.11.6"
  }
 },
 "nbformat": 4,
 "nbformat_minor": 2
}
